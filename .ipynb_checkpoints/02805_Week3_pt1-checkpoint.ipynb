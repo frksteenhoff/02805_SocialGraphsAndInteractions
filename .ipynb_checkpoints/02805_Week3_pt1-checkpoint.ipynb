{
 "cells": [
  {
   "cell_type": "markdown",
   "metadata": {},
   "source": [
    "# Week 3\n",
    "## Notes"
   ]
  },
  {
   "cell_type": "markdown",
   "metadata": {},
   "source": [
    "#### Video lectures\n",
    "Heterogenereties - quality or state of being heterogeneous.\n",
    "\n",
    "**Stanley Milgram**\n",
    "\n",
    "Sociologist and good with networks\n",
    "[Milgram - Obedience](http://www.simplypsychology.org/milgram.html)\n",
    "\n",
    "One friend has another friend and those two are usually also friends -- this is what the clustering coefficient accounts for.\n",
    "![alt text](http://localhost:8888/files/Documents/GitHub/02805%20-%20Social%20Graphs%20and%20Interactions/cluster.PNG \"Different cluster coefficients\\\")\n",
    "\n",
    "*The cluster coefficient is 1/3 since one of the three triangles is \"marked\"*"
   ]
  },
  {
   "cell_type": "markdown",
   "metadata": {},
   "source": [
    "## Text book\n",
    "### Notes - 3.5-310, source: [Barabasi](http://barabasi.com/networksciencebook/)\n",
    "Dispersion (spredning) of a network is $\\sigma_k = k^\\frac{1}{2}$, where $k$ is the number of people a person typically knows in a network.\n",
    "\n",
    "The number of friends a typical individual has is $k \\pm \\sigma_k$.\n",
    "\n",
    ">  in a random society all individuals are expected to have a comparable number of friends. Hence if people are randomly connected to each other, we lack outliers: There are no highly popular individuals, and no one is left behind, having only a few friends. This suprising conclusion is a consequence of an important property of random networks: *in a large random network the degree of most nodes is in the narrow vicinity of $k$*,\n",
    "\n",
    "**Small facts**\n",
    "\n",
    "* In a random network the chance of observing a hub decreases faster than exponentially.\n",
    "* The random network model underestimates the size and the frequency of the high degree nodes, as well as the number of low degree nodes. Instead *the random network model predicts a larger number of nodes in the vicinity of ‹k› than seen in real networks*.\n",
    "* Small p, absence of giant component, when p reaches a critical value it suddely emerges.\n",
    "* We have a giant component iff each node on average has more than one link.\n",
    "* Largest component at $k < 1 = ln(N)$,\n",
    "* Largest component at $k = 1 = N^\\frac{2}{3}$,\n",
    "* All nodes should join the giant component for $k > ln(N)$ (most are under this threshold),\n",
    "\n",
    "\n",
    "**Evolution of random networks**,\n",
    "Two extreme cases are easy to understand:,\n",
    "\n",
    "$N$ = size of entire network.\n",
    "\n",
    "$N_G$ = largest connected cluster within the network, that varies with $k$ (number of aquaintances),\n",
    "\n",
    "$p$ =\n",
    "\n",
    "* For $p = 0$ we have $k = 0$, hence all nodes are isolated. Therefore the largest component has size $N_G = 1$ and $\\frac{N_G}{N}\\rightarrow 0$ for large $N$.\n",
    "* For $p = 1$ we have $k= N-1$, hence the network is a complete graph and all nodes belong to a single component. Therefore $N_G = N$ and $\\frac{N_G}{N} = 1$.\n",
    "\n",
    "**The different regimes **,\n",
    "\n",
    "*Subcritical regime*,\n",
    "> In summary, in the subcritical regime the network consists of numerous tiny components, whose size follows the exponential distribution (3.35). Hence these components have comparable sizes, *lacking a clear winner that we could designate as a giant component*.\n",
    "\n",
    "*Critical point*,\n",
    "> The critical point separates the regime where there is not yet a giant component ($k ‹ 1$) from the regime where there is one ($k › 1$). In summary, at the critical point most nodes are located in numerous small components, whose size distribution follows (3.36). The power law form indicates that components of rather different sizes coexist. These numerous small components are mainly trees, while the giant component may contain loops.\n",
    "\n",
    "*Supercritical regime*,\n",
    "> This regime has the **most relevance to real systems**, as for the first time we have a giant component that looks like a network. *In the supercritical regime numerous isolated components coexist with the giant component*.\n",
    "\n",
    "*Connected regime*,\n",
    "> For sufficiently large $p$ the giant component absorbs all nodes and components, hence $N_G$≃$N$.\n",
    "\n",
    "\n",
    "*Overall*,\n",
    "> In summary, the random network model predicts that the emergence of a network is not a smooth, gradual process: The isolated nodes and tiny components observed for small ‹k› collapse into a giant component through a phase transition.\n",
    "\n",
    "**Network evolution graph theory**,\n",
    "\n",
    "At $z = 1$ trees of all orders are present, together with cycles of all orders. Complete subgraphs of order 4 appear at $z =\\frac{-2}{3}$, and as $z$ increases further, complete subgraphs of larger and larger order emerge.\n",
    "\n",
    "**Predictions of random netowrks with importance to real networks**,\n",
    "* Once the average degree exceeds $k = 1$, a giant component should emerge that contains a finite fraction of all nodes. Hence only for $k › 1$ the nodes organize themselves into a recognizable network.\n",
    "* For $k › ln(N)$ all components are absorbed by the giant component, resulting in a single connected network,\n",
    "* Real networks extravagantly exceed the $k = 1$ threshold. *The average degree of real networks is well beyond $k = 1$, they all have a giant component*,\n",
    "\n",
    "\n",
    "** Small world phenomenon/six degrees of separation**,\n",
    "\n",
    "*States that if you choose any two individuals anywhere on Earth, you will find a path of at most six acquaintances between them.*,\n",
    "\n",
    "*Explanation of short distances*,\n",
    "\n",
    "A node in a network with average degree $k$ has,\n",
    "* $k$ nodes at dist = 1,\n",
    "* $k^2$ nodes at dist = 2,\n",
    "* $k^3$ nodes at dist = 3,\n",
    "* $k^d$ nodes at dist = d,\n",
    "*this cannot exceed the total number of nodes! *,\n",
    "\n",
    "$d_{max} = \\frac{ln(N)}{ln(k)}$ *small world property, distance*,\n",
    "\n",
    "*small world phenomenon*\n",
    "> we mean that the average path length or the diameter depends logarithmically on the system size. Hence, “small” means that $d$ is proportional to $ln(N)$, rather than N or some power of $N$\n",
    "\n",
    "> The \\fec{1}{ln(k)} term implies that the denser the network, the smaller is the distance between the nodes,\n",
    "\n",
    "**Clustering coefficient**,\n",
    "\n",
    "$C_i$ - measures density of links in node $i$'s immediate neighborhood.\n",
    "\n",
    "$C_i = 0$ - no links between $i$'s neig,\n",
    "hbors.\n",
    "\n",
    "$C_i = 1$ - each of the $i$'s neighbors link to each other.\n",
    "\n",
    "To calculate $C_i$, one needs the estimated number of links $L_i$ between the node's $k_i$ neighbors. probability of linkage = $p$.\n",
    "\n",
    "Possible links: $\\frac{k_i(k_i-1)}{2}$,\n",
    "\n",
    "Expected value of $L_i = p\\frac{k_i(k_i-1)}{2}$,\n",
    "\n",
    "Local clustering coefficient $C_i =\\frac{2L_i}{k_i(k_i-1)} = p = \\frac{k}{N}$,\n",
    "\n",
    "* For fixed $k$, the larger the network, the smaller is a node’s clustering coefficient. Consequently a node's local clustering coefficient Ci is expected to decrease as $\\frac{1}{N}$,\n",
    "* The local clustering coefficient of a node is independent of the node's degree.\n",
    "* Instead real networks have a much higher clustering coefficient than expected for a random network of similar N and L."
   ]
  },
  {
   "cell_type": "code",
   "execution_count": null,
   "metadata": {
    "collapsed": true
   },
   "outputs": [],
   "source": []
  },
  {
   "cell_type": "markdown",
   "metadata": {},
   "source": [
    "### Questions\n",
    "**What's the problem with random networks as a model for real-world networks according to the argument on p. 11-12?**\n",
    "\n",
    "Real networks are not random.\n",
    "\n",
    "**List the four regimes that characterize random networks as a function of $⟨k⟩$.**\n",
    "\n",
    "Listed above with description - subcritical, critical point, supercritical and connected.\n",
    "\n",
    "**According to the book, why is it a problem for random networks (in terms of being a model for real-world networks) that the degree-dependent clustering $C(k)$ decreases as a function of $k$ in real-world networks?**\n",
    "\n",
    "Real networks have a much higher clustering coefficient than expected for a random network of similar N (size) and L (number of links)\n"
   ]
  },
  {
   "cell_type": "markdown",
   "metadata": {},
   "source": [
    "## Exercises - Watts-Strogatz"
   ]
  },
  {
   "cell_type": "markdown",
   "metadata": {},
   "source": [
    "#### Exercise 1\n",
    "* Use nx.watts_strogatz_graph to generate 3 graphs with 500 nodes each, average degree = 4, and rewiring probablity p = 0, 0.1, and 1.\n",
    "* Calculate the average shortest path length ⟨d⟩ for each one.\n",
    "* Describe what happens to the network when p=1.\n"
   ]
  },
  {
   "cell_type": "code",
   "execution_count": 3,
   "metadata": {
    "collapsed": false
   },
   "outputs": [
    {
     "name": "stdout",
     "output_type": "stream",
     "text": [
      "Shortest avg path G1: 62.875751503\n",
      "Shortest avg path G2: 7.58164328657\n",
      "Shortest avg path G3: 4.75970340681\n"
     ]
    }
   ],
   "source": [
    "import networkx as nx\n",
    "import numpy as np\n",
    "import matplotlib.pyplot as plt\n",
    "\n",
    "# Initializing graphs\n",
    "G1 = nx.watts_strogatz_graph(500,4,0)\n",
    "G2 = nx.watts_strogatz_graph(500,4,0.1)\n",
    "G3 = nx.watts_strogatz_graph(500,4,1)\n",
    "\n",
    "# Average shortest path\n",
    "print(\"Shortest avg path G1: \" + str(nx.average_shortest_path_length(G1)))\n",
    "print(\"Shortest avg path G2: \" + str(nx.average_shortest_path_length(G2)))\n",
    "print(\"Shortest avg path G3: \" + str(nx.average_shortest_path_length(G3)))"
   ]
  },
  {
   "cell_type": "markdown",
   "metadata": {},
   "source": [
    "*What happens when $p = 1$?*\n",
    "\n",
    "In real networks the average distance between two nodes depends logarithmically on $N$.\n",
    "\n",
    "> As the rewiring probability increases, the clustering coefficient decreases slower than the average path length. In effect, this allows *the average path length of the network to decrease significantly with only slightly decreases in clustering coefficient*. \n",
    "\n",
    "Higher values of p force more rewired edges, which in effect makes the Watts-Strogatz model a random network."
   ]
  },
  {
   "cell_type": "markdown",
   "metadata": {},
   "source": [
    "#### Exercise 2 \n",
    "* Play around with $p$. \n",
    "* What's the value of $p$ for which the average shortest path length gets close to the fully randomized version.\n",
    "\n",
    "In the range $0.001‹p‹0.1$ short path lengths and high clustering coexist in the network.\n",
    "\n",
    "**The value of the path length close to fully randomized version ~4.7**"
   ]
  },
  {
   "cell_type": "code",
   "execution_count": 44,
   "metadata": {
    "collapsed": false
   },
   "outputs": [
    {
     "name": "stdout",
     "output_type": "stream",
     "text": [
      "Shortest avg path length 1: 43.1905170341\n",
      "Shortest avg path length 2: 16.4207214429\n",
      "Shortest avg path length 3: 14.7772745491\n",
      "Shortest avg path length 4: 12.980248497\n",
      "Shortest avg path length 5: 10.5615390782\n",
      "Shortest avg path length 6: 7.8776753507\n",
      "Shortest avg path length 7: 7.70801603206\n",
      "Shortest avg path length 8: 5.50172344689\n",
      "Shortest avg path length 9: 4.97115831663\n",
      "Shortest avg path length 10: 4.89206412826\n",
      "\n",
      "The lower the value of p, the shorter path length.\n"
     ]
    }
   ],
   "source": [
    "# Playing around with p\n",
    "a=[0.001,0.007,0.014,0.021,0.028,0.035,0.08,0.1,0.3,0.5,0.6,0.8]\n",
    "\n",
    "# Printing 10 path values for a sequence of numbers from a\n",
    "G4 = nx.watts_strogatz_graph(500,4,0.005)\n",
    "for i in range(1,11):\n",
    "    G4 = nx.watts_strogatz_graph(500,4,a[i])\n",
    "    print(\"Shortest avg path length %s: %s\" % (i, str(nx.average_shortest_path_length(G4))))\n",
    "print(\"\\nThe lower the value of p, the shorter path length.\")\n"
   ]
  },
  {
   "cell_type": "markdown",
   "metadata": {},
   "source": [
    "#### Exercise 3.\n",
    "Generate 50 networks with:\n",
    "* N=500 \n",
    "* ⟨k⟩=4 for each of p={0,0.01,0.03,0.05,0.1,0.2}. \n",
    "\n",
    "Calculate the average of ⟨d⟩ as well as the standard deviation over the 50 networks, to create a plot that shows how the path length decreases very quickly with only a little fraction of re-wiring. \n",
    "\n",
    "Use the standard deviation to add errorbars to the plot. My version of the plot is below (since a picture's worth 1000 words).*\n"
   ]
  },
  {
   "cell_type": "code",
   "execution_count": null,
   "metadata": {
    "collapsed": false
   },
   "outputs": [],
   "source": [
    "# The plot\n",
    "p = [0,0.01,0.03,0.05,0.1,0.2]\n",
    "avg_list = []\n",
    "p_new = []\n",
    "print(p[1%int(len(p))])\n",
    "\n",
    "for i in range(1,51):\n",
    "    G4 = nx.watts_strogatz_graph(500,4,p[i % int(len(p))])\n",
    "    avg_list.append(nx.average_shortest_path_length(G4))\n",
    "    p_new.append(p[i % int(len(p))])\n",
    "\n",
    "\n",
    "plt.grid(True)\n",
    "plt.title(\"Decrease in path length\")\n",
    "plt.errorbar(avg_list, p_new)\n",
    "plt.show()"
   ]
  },
  {
   "cell_type": "code",
   "execution_count": null,
   "metadata": {
    "collapsed": true
   },
   "outputs": [],
   "source": []
  },
  {
   "cell_type": "code",
   "execution_count": null,
   "metadata": {
    "collapsed": true
   },
   "outputs": [],
   "source": []
  }
 ],
 "metadata": {
  "anaconda-cloud": {},
  "kernelspec": {
   "display_name": "Python [Root]",
   "language": "python",
   "name": "Python [Root]"
  },
  "language_info": {
   "codemirror_mode": {
    "name": "ipython",
    "version": 2
   },
   "file_extension": ".py",
   "mimetype": "text/x-python",
   "name": "python",
   "nbconvert_exporter": "python",
   "pygments_lexer": "ipython2",
   "version": "2.7.12"
  }
 },
 "nbformat": 4,
 "nbformat_minor": 0
}
