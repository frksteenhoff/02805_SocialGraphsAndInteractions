{
 "cells": [
  {
   "cell_type": "markdown",
   "metadata": {},
   "source": [
    "# Week 7 \n",
    "\n",
    "\n",
    "Henriette Steenhoff, s134869\n",
    "\n",
    "## Reading NLP - Processing raw text - chapter 3"
   ]
  },
  {
   "cell_type": "markdown",
   "metadata": {},
   "source": [
    "*Tokenizing and stemming*\n",
    "\n",
    "All text in the Gutenberg Project [here](http://www.gutenberg.org/catalog/)\n",
    "\n",
    "### Raw text manipulation"
   ]
  },
  {
   "cell_type": "code",
   "execution_count": null,
   "metadata": {
    "collapsed": false
   },
   "outputs": [],
   "source": [
    "# Accessing text from web and disk\n",
    "# URL\n",
    "import nltk\n",
    "from urllib import urlopen\n",
    "url = \"http://www.gutenberg.org/files/2554/2554.txt\"\n",
    "raw = urlopen(url).read()\n",
    "print type(raw), \"\\nnumer of words:\", len(raw), \"\\nname:\", raw[:75]"
   ]
  },
  {
   "cell_type": "code",
   "execution_count": null,
   "metadata": {
    "collapsed": false
   },
   "outputs": [],
   "source": [
    "# Tokenizing the text\n",
    "tokens = nltk.word_tokenize(raw)\n",
    "print type(tokens), \"\\nnumber of words:\", len(tokens)\n"
   ]
  },
  {
   "cell_type": "code",
   "execution_count": null,
   "metadata": {
    "collapsed": false
   },
   "outputs": [],
   "source": [
    "# Slicing\n",
    "text = nltk.Text(tokens)\n",
    "text[1020:1060]\n",
    "text.collocations()"
   ]
  },
  {
   "cell_type": "code",
   "execution_count": null,
   "metadata": {
    "collapsed": false
   },
   "outputs": [],
   "source": [
    "# Removing everything before start of text and after end of text\n",
    "print \"start of text:\", raw.find(\"PART I\"), \"\\nend of text:\", raw.rfind(\"End of Project\") # reverse find, starting from end"
   ]
  },
  {
   "cell_type": "code",
   "execution_count": null,
   "metadata": {
    "collapsed": false
   },
   "outputs": [],
   "source": [
    "# keeping only the text\n",
    "raw = raw[5338:1157746]"
   ]
  },
  {
   "cell_type": "markdown",
   "metadata": {},
   "source": [
    "### Dealing with HTML"
   ]
  },
  {
   "cell_type": "code",
   "execution_count": null,
   "metadata": {
    "collapsed": false
   },
   "outputs": [],
   "source": [
    "# Fetching data fom an html document\n",
    "from bs4 import BeautifulSoup as bs \n",
    "\n",
    "url = \"http://danskebak.dk\"\n",
    "html = urlopen(url).read()\n",
    "raw = bs(html,\"html\")\n",
    "#html[:60] # yep! it's an html formatted document\n",
    "text = raw.get_text()\n",
    "print text"
   ]
  },
  {
   "cell_type": "code",
   "execution_count": null,
   "metadata": {
    "collapsed": false
   },
   "outputs": [],
   "source": [
    "# Tokenizing\n",
    "tokens = nltk.word_tokenize(text)\n",
    "tokens\n",
    "# This still contains a lot of unwanted material and some logic!"
   ]
  },
  {
   "cell_type": "markdown",
   "metadata": {},
   "source": [
    "### Search engines"
   ]
  },
  {
   "cell_type": "markdown",
   "metadata": {},
   "source": [
    "Search engines have some significant shortcomings. First, the allowable\n",
    "range of search patterns is severely restricted. Unlike local corpora, where you write\n",
    "programs to search for arbitrarily complex patterns, search engines generally only allow\n",
    "you to search for individual words or strings of words, sometimes with wildcards. Second,\n",
    "search engines give inconsistent results, and can give widely different figures when\n",
    "used at different times or in different geographical regions. When content has been\n",
    "duplicated across multiple sites, search results may be boosted. Finally, the markup in\n",
    "the result returned by a search engine may change unpredictably, breaking any patternbased\n",
    "method of locating particular content (a problem which is ameliorated by the\n",
    "use of search engine APIs)."
   ]
  },
  {
   "cell_type": "code",
   "execution_count": null,
   "metadata": {
    "collapsed": false
   },
   "outputs": [],
   "source": [
    "# Universal feed parser\n",
    "import feedparser\n",
    "llog = feedparser.parse(\"http://languagelog.ldc.upenn.edu/nll/?feed=atom\")\n",
    "print llog['feed']['title'], len(llog.entries)"
   ]
  },
  {
   "cell_type": "code",
   "execution_count": null,
   "metadata": {
    "collapsed": false
   },
   "outputs": [],
   "source": [
    "post = llog.entries[2]\n",
    "content = post.content[0].value\n",
    "content[0:140]"
   ]
  },
  {
   "cell_type": "code",
   "execution_count": null,
   "metadata": {
    "collapsed": false
   },
   "outputs": [],
   "source": [
    "# Getting the text part you actually want!\n",
    "clean_content = bs(content,\"html\")\n",
    "text_content = nltk.wordpunct_tokenize(clean_content.get_text())\n",
    "text = nltk.Text(text_content)\n",
    "print text # Getting the text written nicely\n",
    "print text[0:50] # Getting everything as tokens"
   ]
  },
  {
   "cell_type": "markdown",
   "metadata": {},
   "source": [
    "### Reading local files"
   ]
  },
  {
   "cell_type": "code",
   "execution_count": null,
   "metadata": {
    "collapsed": false
   },
   "outputs": [],
   "source": [
    "f = open('thetaleofthethreebrothers.txt')\n",
    "raw = f.read()\n",
    "raw"
   ]
  },
  {
   "cell_type": "code",
   "execution_count": null,
   "metadata": {
    "collapsed": false
   },
   "outputs": [],
   "source": [
    "tokens = nltk.wordpunct_tokenize(raw)\n",
    "text = nltk.Text(tokens)\n",
    "print text[0:60]"
   ]
  },
  {
   "cell_type": "code",
   "execution_count": null,
   "metadata": {
    "collapsed": false
   },
   "outputs": [],
   "source": [
    "# Normalize (to lower)\n",
    "words = [w.lower() for w in text]\n",
    "vocab = sorted(set(words))\n",
    "print '%s' % vocab"
   ]
  },
  {
   "cell_type": "markdown",
   "metadata": {},
   "source": [
    "### Text processing at the lowest level"
   ]
  },
  {
   "cell_type": "code",
   "execution_count": null,
   "metadata": {
    "collapsed": true
   },
   "outputs": [],
   "source": [
    "# Basic Python stuff"
   ]
  },
  {
   "cell_type": "markdown",
   "metadata": {},
   "source": [
    "### What is Unicode?\n",
    "Python codecs documentation [here](https://docs.python.org/2/c-api/unicode.html)\n",
    "\n",
    "The book on pages 95-97"
   ]
  },
  {
   "cell_type": "code",
   "execution_count": null,
   "metadata": {
    "collapsed": false
   },
   "outputs": [],
   "source": [
    "#import codecs\n",
    "#f = codecs.open('thetaleofthethreebrothers.txt', encoding='ascii')\n",
    "\n",
    "#line.encode('unicode_escape')"
   ]
  },
  {
   "cell_type": "markdown",
   "metadata": {},
   "source": [
    "### Regular expressions and metacharacthers"
   ]
  },
  {
   "cell_type": "code",
   "execution_count": null,
   "metadata": {
    "collapsed": false
   },
   "outputs": [],
   "source": [
    "import re\n",
    "\n",
    "# Searching for words with -ed ending \n",
    "new = [w for w in vocab if re.search('ed$',w)]\n",
    "new"
   ]
  },
  {
   "cell_type": "code",
   "execution_count": null,
   "metadata": {
    "collapsed": false
   },
   "outputs": [],
   "source": [
    "# wildcard character\n",
    "pattern = [w for w in vocab if re.search('^...st..$', w)]\n",
    "pattern"
   ]
  },
  {
   "cell_type": "code",
   "execution_count": null,
   "metadata": {
    "collapsed": false
   },
   "outputs": [],
   "source": [
    "pattern2 = [w for w in vocab if re.search('^..j?..t..$',w)]\n",
    "pattern2"
   ]
  },
  {
   "cell_type": "code",
   "execution_count": null,
   "metadata": {
    "collapsed": true
   },
   "outputs": [],
   "source": [
    "# Kleene closures\n",
    "# * zero or more\n",
    "# + one or more\n",
    "\n",
    "# ^ sequence at the beginning of a word\n",
    "# $ sequence at the end of a word"
   ]
  },
  {
   "cell_type": "markdown",
   "metadata": {},
   "source": [
    "![Behaviour of operators for regular expressions.](re.PNG)"
   ]
  },
  {
   "cell_type": "markdown",
   "metadata": {},
   "source": [
    "### Finding word stems"
   ]
  },
  {
   "cell_type": "code",
   "execution_count": null,
   "metadata": {
    "collapsed": false
   },
   "outputs": [],
   "source": [
    "# Getting only  suffix\n",
    "re.findall(r'^.*(ing|ly|ed|ious|ies|ive|es|s|ment)$', 'processing')\n",
    "\n",
    "# Getting only prefix (all about parenthesizing)\n",
    "re.findall(r'^.*(?:ing|ly|ed|ious|ies|ive|es|s|ment)$', 'processing')\n",
    "\n",
    "# Splitting into pre and suffix\n",
    "re.findall(r'^(.*)(ing|ly|ed|ious|ies|ive|es|s|ment)$', 'processing')\n",
    "\n",
    "# There are still thins that needs to be fixed to get the stem. Otherwise we could get 'processe' 's'"
   ]
  },
  {
   "cell_type": "code",
   "execution_count": null,
   "metadata": {
    "collapsed": true
   },
   "outputs": [],
   "source": [
    "# Better soultion (still creating some nonwords)\n",
    "def stem(word):\n",
    "    regexp = r'^(.*?)(ing|y|ed|ious|ies|ive|es|s|ment)?$'\n",
    "    stem, suffix = re.findall(regexp,word)[0]\n",
    "    return stem"
   ]
  },
  {
   "cell_type": "code",
   "execution_count": null,
   "metadata": {
    "collapsed": false
   },
   "outputs": [],
   "source": [
    "[stem(t) for t in vocab]"
   ]
  },
  {
   "cell_type": "markdown",
   "metadata": {},
   "source": [
    "### Searching tokenized text"
   ]
  },
  {
   "cell_type": "code",
   "execution_count": null,
   "metadata": {
    "collapsed": false
   },
   "outputs": [],
   "source": [
    "from nltk.corpus import gutenberg, nps_chat\n",
    "\n",
    "# Words in the context a <something> man\n",
    "moby = nltk.Text(gutenberg.words('melville-moby_dick.txt'))\n",
    "moby.findall(r\"<a> (<.*>) <man>\")\n",
    "\n",
    "# Any two words followed by bro\n",
    "chat = nltk.Text(nps_chat.words())\n",
    "chat.findall(r\"<.*> <.*> <bro>\")\n",
    "\n",
    "# Sequences of thre or more words starting with lo\n",
    "chat.findall(r\"<lo.*>{3,}\")\n",
    "\n",
    "# Some for fun\n",
    "chat.findall(r'<.*><was><like><.*>')\n",
    "chat.findall(r'<I><love><.*>')"
   ]
  },
  {
   "cell_type": "markdown",
   "metadata": {},
   "source": [
    "### Normalizing text"
   ]
  },
  {
   "cell_type": "code",
   "execution_count": null,
   "metadata": {
    "collapsed": false
   },
   "outputs": [],
   "source": [
    "porter = nltk.PorterStemmer()\n",
    "[porter.stem(t) for t in chat]"
   ]
  },
  {
   "cell_type": "code",
   "execution_count": null,
   "metadata": {
    "collapsed": false
   },
   "outputs": [],
   "source": [
    "class IndexedText(object):\n",
    "\n",
    "    def __init__(self, stemmer, text):\n",
    "        self._text = text\n",
    "        self._stemmer = stemmer\n",
    "        self._index = nltk.Index((self._stem(word), i)\n",
    "                                for (i, word) in enumerate(text))\n",
    "\n",
    "    def concordance(self, word, width=40):\n",
    "        key = self._stem(word)\n",
    "        wc = width/4 # words of context\n",
    "        for i in self._index[key]:\n",
    "            lcontext = ' '.join(self._text[i-wc:i])\n",
    "            rcontext = ' '.join(self._text[i:i+wc])\n",
    "            ldisplay = '%*s' % (width, lcontext[-width:])\n",
    "            rdisplay = '%-*s' % (width, rcontext[:width])\n",
    "            print ldisplay, rdisplay\n",
    "\n",
    "    def _stem(self, word):\n",
    "        return self._stemmer.stem(word).lower()"
   ]
  },
  {
   "cell_type": "code",
   "execution_count": null,
   "metadata": {
    "collapsed": false
   },
   "outputs": [],
   "source": [
    "# Concordance on stemmed text - can find the meaning.\n",
    "porter = nltk.PorterStemmer()\n",
    "grail = nltk.corpus.webtext.words('grail.txt')\n",
    "text = IndexedText(porter, grail)"
   ]
  },
  {
   "cell_type": "code",
   "execution_count": null,
   "metadata": {
    "collapsed": false
   },
   "outputs": [],
   "source": [
    "# Concordance in stemmed text with proter stemmer\n",
    "text.concordance('walk')"
   ]
  },
  {
   "cell_type": "markdown",
   "metadata": {},
   "source": [
    "## Words that characterize branches"
   ]
  },
  {
   "cell_type": "markdown",
   "metadata": {},
   "source": [
    "TF-IDF, from [wikipedia](https://en.wikipedia.org/wiki/Tf%E2%80%93idf)\n",
    "> tf–idf, short for term frequency–inverse document frequency, is a numerical statistic that is intended to reflect how important a word is to a document in a collection or corpus.\n",
    "\n",
    "TF: term frequency\n",
    "\n",
    "IDF: inverse document frequency"
   ]
  },
  {
   "cell_type": "markdown",
   "metadata": {},
   "source": [
    "**Setup**\n",
    "* Since we want to find out which words are important for each branch, so we're going to create six large documents, one per branch of philosophy. Tokenize the pages, and combine the tokens into one long list per branch. Remember the bullets below for success.\n",
    "  * If you dont' know what tokenization means, go back and read Chapter 3 again. This advice is valid for every cleaning step below.\n",
    "  * Exclude philosopher names (since we're interested in the words, not the names).\n",
    "  * Exclude punctuation.\n",
    "  * Exclude stop words (if you don't know what stop words are, go back and read NLPP1e again).\n",
    "  * Exclude numbers (since they're difficult to interpret in the word cloud).\n",
    "  * Set everything to lower case.\n",
    "* Note that none of the above has to be perfect. It might not be easy to remove all philosopher names. And there's some room for improvisation. You can try using stemming. In my own first run the results didn't look so nice, because some pages are very detailed and repeat certain words again and again and again, whereas other pages are very short. For that reason, I decided to use the unique set of words from each page rather than each word in proportion to how it's actually used on that page. Choices like that are up to you."
   ]
  },
  {
   "cell_type": "code",
   "execution_count": 2,
   "metadata": {
    "collapsed": false
   },
   "outputs": [
    {
     "name": "stdout",
     "output_type": "stream",
     "text": [
      "Query for: List_of_aestheticians\n",
      "https://en.wikipedia.org/w/api.php?action=query&titles=List_of_aestheticians&prop=revisions&rvprop=content&format=json&utf8=\n",
      "Number of philosophers:  124\n",
      "['Andreas Linder', 'Virgil Aldrich', 'Anandavardhana', 'Sri Aurobindo', 'John Anderson (philosopher)', 'Yves Marie Andr\\xc3\\xa9', 'Aristotle', 'Rudolf Arnheim', 'Mazen Asfour', 'Georg Anton Friedrich Ast', 'Jody Azzouni', 'Victor Basch', 'Yusuf Balasagun', 'Roland Barthes', 'Georges Bataille', 'Alexander Gottlieb Baumgarten', 'Monroe Beardsley', 'Vissarion Belinsky', 'Clive Bell', 'Walter Benjamin', 'Arnold Berleant', 'George Birkhoff', 'Max Black', 'Maurice Blanchot', 'Harold Bloom', 'Georg Brandes', 'Cameron Breen', 'Jean Anthelme Brillat-Savarin', 'Ferruccio Busoni', 'John Cage', 'Cesare Brandi', 'Stanley Cavell', 'R. G. Collingwood', 'Victor Cousin', 'Benedetto Croce', 'Gregory Currie', 'Arthur Danto', 'William C. Dowling', 'John Dewey', 'Umberto Eco', 'Jonathan Edwards (theologian)', 'Ralph Waldo Emerson', 'Jerry Farber', 'Valentin Feldman', 'Henri Focillon', 'Michel Foucault', 'Hans-Georg Gadamer', 'Alexander Gerard', 'Nelson Goodman', 'Edmund Gurney', 'Etienne Gilson', 'Paul H\\xc3\\xa4berlin', 'Garry Hagberg', 'Ferdinand Gotthelf Hand', 'Eduard Hanslick', 'Georg Wilhelm Friedrich Hegel', 'Fran\\xc3\\xa7ois Hemsterhuis', 'Johann Friedrich Herbart', 'Johann Gottfried Herder', 'Hermann Theodor Hettner', 'John Hospers', 'Heinrich Gustav Hotho', 'David Hume', 'Francis Hutcheson (philosopher)', 'Francis Ernest Jackson', 'Christopher Janaway', 'James Joyce', 'Immanuel Kant', 'Mani Kaul', 'S\\xc3\\xb8ren Kierkegaard', 'Peter Kivy', 'Andrzej Tadeusz Kijowski', 'Joseph Kosuth', 'Susanne Langer', 'Vernon Lee', 'Gotthold Ephraim Lessing', 'Jerrold Levinson', 'Liu Xie', 'Longinus (literature)', 'Peter Lunenfeld', 'Jean-Fran\\xc3\\xa7ois Lyotard', 'Gy\\xc3\\xb6rgy Luk\\xc3\\xa1cs', 'John Maeda', 'Andr\\xc3\\xa9 Malraux', 'Jacques Maritain', 'Georg Mehlis', 'Richard Meltzer', 'Theodor Mundt', 'Sam Murgatroyd', 'Friedrich Nietzsche', 'Michael Oakeshott', 'Lalita Pandit', 'Walter Pater', 'Ronald Paulson', 'Hans Pfitzner', 'Plato', 'Edgar Allan Poe', 'Steven Poole', 'Ayn Rand', 'Thomas Reid', 'John Ruskin', 'George Santayana', 'Friedrich Wilhelm Joseph von Schelling', 'Friedrich Schiller', 'August Wilhelm Schlegel', 'Karl Wilhelm Friedrich von Schlegel', 'Arthur Schopenhauer', 'Roger Scruton', 'Calvin Seerveld', 'Richard Shusterman', 'Frank Sibley (philosopher)', 'Eli Siegel', 'Guy Sircello', 'Karl Wilhelm Ferdinand Solger', 'Michael Sprinker', 'Algernon Charles Swinburne', 'Socrates', 'Luca Vercelloni', 'Tudor Vianu', 'Kendall Walton', 'Morris Weitz', 'Oscar Wilde', 'W.K. Wimsatt', 'Richard Wollheim']\n",
      "Query for: List_of_epistemologists\n",
      "https://en.wikipedia.org/w/api.php?action=query&titles=List_of_epistemologists&prop=revisions&rvprop=content&format=json&utf8=\n",
      "Number of philosophers:  98\n",
      "['William Alston', 'Aristotle', 'Robert Audi', 'A. J. Ayer', 'Francis Bacon', 'George Berkeley', 'Harry Binswanger', 'David Bohm', 'Laurence Bonjour', 'Berit Brogaard', 'Mario Bunge', 'Judith Butler', 'David Chalmers', 'Noam Chomsky', 'Jonathan Dancy', 'Simone de Beauvoir', 'Ren\\xc3\\xa9 Descartes', 'Fred Dretske', 'Nader El-Bizri', 'Margaret Elizabeth Egan', 'Catherine Elgin', 'Heinz von Foerster', 'Edmund Gettier', 'Ernst von Glasersfeld', 'Alvin Goldman', 'Emma Goldman', 'Nelson Goodman', 'John_Greco (philosopher)', 'Paul Grice', 'Susan Haack', 'Donna Haraway', 'Sandra Harding', 'Gilbert Harman', 'Sally Haslanger', 'Friedrich A. Hayek', 'G.W.F. Hegel', 'John Hawthorne', 'Thomas Hobbes', 'David Hume', 'James VI and I', 'Carrie Ichikawa Jenkins', 'Immanuel Kant', 'S\\xc3\\xb8ren Kierkegaard', 'Peter D. Klein', 'Hilary Kornblith', 'Jennifer Lackey', 'Keith Lehrer', 'Isaac Levi', 'David Lewis (philosopher)', 'Peter Lipton', 'John Locke', 'Niklas Luhmann', 'Norman Malcolm', 'Terence McKenna', 'Trenton Merricks', 'Ludwig von Mises', 'Jean-Louis Le Moigne', 'George Edward Moore', 'Edgar Morin', 'Mioara Mugur-Sch\\xc3\\xa4chter', 'Robert Nozick', 'William of Ockham', 'George Pappas', 'L.A. Paul', 'Leonard Peikoff', 'Jean Piaget', 'Tomek Pietkiewicz', 'Gualtiero Piccinini', 'Alvin Plantinga', 'Plato', 'Louis Pojman', 'Karl Popper', 'W.V.O. Quine', 'Ayn Rand', 'Sherrilyn Roush', 'Bertrand Russell', 'John Searle', 'Susanna Schellenberg', 'Susanna Siegel', 'Socrates', 'David Sosa', 'Ernest Sosa', 'Walter Terence Stace', 'Rudolf Steiner', 'P. F. Strawson', 'Barry Stroud', 'Nassim Nicholas Taleb', 'Peter Unger', 'Jules Vuillemin', 'Giambattista Vico', 'Gerhard Vollmer', 'Phillip H. Wiebe', 'Karla Jessen Williamson', 'Jessica Wilson', 'Ludwig Wittgenstein', 'Xenophanes', 'Linda Trinkaus Zagzebski', 'James Frederick Ferrier']\n",
      "Query for: List_of_ethicists\n",
      "https://en.wikipedia.org/w/api.php?action=query&titles=List_of_ethicists&prop=revisions&rvprop=content&format=json&utf8=\n",
      "Number of philosophers:  272\n",
      "['Pierre Ab\\xc3\\xa9lard', 'B. R. Ambedkar', 'John Stevens Cabot Abbott', 'Mortimer Adler', 'Nayef Al-Rodhan', 'Thomas Aquinas', 'Nomy Arpaly', 'Ambrose', 'Andronicus of Rhodes', 'Julia Annas', 'G. E. M. Anscombe', 'Karl-Otto Apel', 'Jacob M. Appel', 'Aristotle', 'Aristoxenus', 'John Arthur (philosopher)', 'Ashoka', 'Augustine of Hippo', 'Avicenna', 'Joxe Azurmendi', \"Bah\\xc3\\xa1'u'll\\xc3\\xa1h\", 'Franz Xaver von Baader', 'Francis Bacon', 'Alain Badiou', 'Samuel Bailey', 'Tom Beauchamp', 'Friedrich Eduard Beneke', 'Jeremy Bentham', 'Thomas Berry', 'Maurice Blanchot', 'Dietrich Bonhoeffer', 'Murray Bookchin', 'George Boole', 'Nick Bostrom', 'Daniel Brock', 'Martin Buber', 'Gautama Buddha', 'Mario Bunge', 'Judith Butler', 'Albert Camus', 'Arthur Caplan', 'Roger Chao', 'James Childress', 'Randy Cohen', 'Confucius', 'John M. Cooper', 'Alice Crary', 'Roger Crisp', 'Simon Critchley', 'David Crocker', 'Mary Daly', 'Norman Daniels', 'Partha Dasgupta', 'Abraham ibn Daud', 'Miguel A. De La Torre', 'Cora Diamond', 'Philip Doddridge', 'Elliot N. Dorff', 'Julia Driver', 'Ronald Dworkin', 'Epicurus', 'Rudolf Christoph Eucken', 'Johann Albert Fabricius', \"Ismail Raji' al-Faruqi\", 'Nosson Tzvi Finkel (Slabodka)', 'John Finnis', 'Joseph Fins', 'Owen Flanagan', 'Joseph Fletcher', 'Philippa Foot', 'William K. Frankena', 'Alexander Campbell Fraser', 'R. Edward Freeman', 'Raymond Frey', 'Erich Fromm', 'Raimond Gaita', 'Mohandas Gandhi', 'David Gauthier', 'Alan Gewirth', 'Ghazali', 'Allan Gibbard', 'Carol Gilligan', 'Peter Goldie', 'Victor Gollancz', 'Thomas Hill Green', 'Stanley Grenz', 'Hugo Grotius', 'Tenzin Gyatso', 'J\\xc3\\xbcrgen Habermas', 'Hammurabi', 'R. M. Hare', 'Elizabeth Harman (disambiguation)', 'Gilbert Harman', 'John Harsanyi', 'Robert S. Hartman', 'Stanley Hauerwas', 'Henry Hazlitt', 'Paul Hawken', 'Martin Heidegger', 'Erich Heller', 'Claude Adrien Helv\\xc3\\xa9tius', 'Frank Herbert', 'Abraham Joshua Heschel', 'Hierocles of Alexandria', 'James Hinton', 'Wau Holland', 'Hans-Hermann Hoppe', 'David Hume', 'John Peters Humphrey', 'Edward Hundert', 'Rosalind Hursthouse', 'Francis Hutcheson (philosopher)', 'Thomas Henry Huxley', 'Lauri Ingman', 'T. H. Irwin', 'Alija Izetbegovi\\xc4\\x87', 'Jane Jacobs', 'Paul Janet', 'Francis Jeffrey', 'Th\\xc3\\xa9odore Simon Jouffroy', 'Jesus', 'Shelly Kagan', 'Immanuel Kant', 'Rushworth Kidder', 'S\\xc3\\xb8ren Kierkegaard', 'Martin Luther King, Jr.', '\\xc4\\xb0oanna Ku\\xc3\\xa7uradi', 'Israel Kirzner', 'Lawrence Kohlberg', 'Mario Kopi\\xc4\\x87', 'Christine Korsgaard', 'David Korten', 'Peter Kropotkin', 'Hans K\\xc3\\xbcng', 'Aldo Leopold', 'Barron H. Lerner', 'Emmanuel Levinas', 'John Locke', 'Antoine Garaby de La Luzerne', 'Moshe Chaim Luzzatto', 'Niccol\\xc3\\xb2 Machiavelli', 'Alasdair MacIntyre', 'J. L. Mackie', 'Maimonides', 'Mao Zedong', 'Marcion of Sinope', 'James Martineau', 'John McDowell', 'Glenn McGee', 'Donella Meadows', 'Peter Medawar', 'Mencius', 'Menedemus', 'Mozi', 'Fatema Mernissi', 'James Mill', 'John Stuart Mill', 'Moses', 'G. E. Moore', 'Radhakamal Mukerjee', 'Thomas Nagel', 'Seyyed Hossein Nasr', 'Oswald von Nell-Breuning', 'H. Richard Niebuhr', 'Reinhold Niebuhr', 'Friedrich Nietzsche', 'Carlos Santiago Nino', 'Karl Immanuel Nitzsch', 'David L. Norton', 'Robert Nozick', 'Martha Nussbaum', \"John Joseph O'Connor\", \"Onora O'Neill, Baroness O'Neill of Bengarve\", 'Michel Onfray', 'Blaise Pascal', 'Bahya ibn Paquda', 'Derek Parfit', 'Craig Paterson', 'David Pearce (philosopher)', 'Philip Pettit', 'Philo', 'Plato', 'Richard Price', 'Prodicus', 'Quintilian', 'Fazlur Rahman', 'Peter Railton', 'Ayn Rand', 'John Rawls', 'Joseph Raz', 'Ronald Reagan', 'Martin Rees', 'Tom Regan', 'George Croom Robertson', 'Richard Rorty', 'W. D. Ross', 'Murray Rothbard', 'Jean-Jacques Rousseau', 'John Ruskin', 'Emma Rush', 'Bertrand Russell', 'Marquis de Sade', 'Edward Said', 'Michael J. Sandel', 'Julian Savulescu', 'Ziauddin Sardar', 'John Ralston Saul', 'Geoffrey Sayre-McCord', 'Giovanni Battista Scaramelli', 'T. M. Scanlon', 'Zalman Schachter-Shalomi', 'Samuel Scheffler', 'Max Scheler', 'Friedrich Schiller', 'Friedrich Daniel Ernst Schleiermacher', 'Karl Wilhelm Friedrich von Schlegel', 'Moritz Schlick', 'Frank Schmalleger', 'David Schmidtz', 'Arthur Schopenhauer', 'Albert Schweitzer', 'Amartya Sen', 'Lucius Annaeus Seneca', 'Russ Shafer-Landau', 'Henry Sidgwick', 'Georg Simmel', 'Peter Singer', 'B. F. Skinner', 'J. J. C. Smart', 'Adam Smith', 'Holly Martin Smith', 'Michael A. Smith', 'Wesley J. Smith', 'Margaret Somerville', 'Herbert Spencer', 'Baruch Spinoza', 'John Shelby Spong', 'Walter Terence Stace', 'Charles Stevenson', 'Dugald Stewart', 'Max Stirner', 'Stobaeus', 'Jeffrey Stout', 'Leslie Stephen', 'David Friedrich Strauss', 'Sun Yat-sen', 'Gabriele Taylor', 'Jenny Teichman', 'Judith Jarvis Thomson', 'Paul Tillich', 'Hsun Tzu', 'Leo Tolstoy', 'Joan Tronto', 'Thiruvalluvar', 'Henry Babcock Veatch', 'Francisco de Vitoria', 'Johann Georg Walch', 'William George Ward', 'Otto Weininger', 'William Whewell', 'Philip Wicksteed', 'Benjamin Wiker', 'Daniel Wikler', 'Bernard Williams', 'Susan Wolf', 'Christian Wolff (philosopher)', 'William Wollaston', 'Xenocrates', 'Xun Kuang', 'John Howard Yoder', 'Theodor Zwinger', 'Swami Vivekananda']\n",
      "Query for: List_of_logicians\n",
      "https://en.wikipedia.org/w/api.php?action=query&titles=List_of_logicians&prop=revisions&rvprop=content&format=json&utf8=\n",
      "Number of philosophers:  271\n",
      "['Peter Abelard', 'Wilhelm Ackermann', 'Sergei Adian', 'Rodolphus Agricola', 'Kazimierz Ajdukiewicz', 'Alcuin', 'Alan Ross Anderson', 'Peter B. Andrews (mathematician)', 'Thomas Aquinas', 'Lennart \\xc3\\x85qvist', 'Aristotle', 'Ahmed Raza Khan', 'Heiric of Auxerre', 'Bahmany\\xc4\\x81r', 'Alexander Bain', 'Yehoshua Bar-Hillel', 'Ruth Barcan Marcus', 'Henk Barendregt', 'Jon Barwise', 'James Earl Baumgartner', 'John Lane Bell', 'Nuel Belnap', 'Paul Benacerraf', 'Johan van Benthem (logician)', 'Paul Bernays', 'Evert Willem Beth', 'Jean-Yves B\\xc3\\xa9ziau', 'J\\xc3\\xb3zef Maria Boche\\xc5\\x84ski', 'Boethius', 'Bernard Bolzano', 'Andrea Bonom\\xc3\\xac', 'George Boole', 'George Boolos', 'Nicolas Bourbaki', 'Thomas Bradwardine', 'Richard Brinkley', 'Luitzen Egbertus Jan Brouwer', 'Alan Bundy', 'Franco Burgersdijk', 'Walter Burley', 'Jean Buridan', 'Georg Cantor', 'Rudolf Carnap', 'Lewis Carroll', 'Gregory Chaitin', 'Chrysippus', 'Alonzo Church', 'Leon Chwistek', 'Paul Cohen (mathematician)', 'Conimbricenses', 'S. Barry Cooper', 'Jack Copeland', 'John Corcoran (logician)', 'Newton da Costa', 'William Craig (logician)', 'Haskell Curry', 'Tadeusz Cze\\xc5\\xbcowski', 'Dirk van Dalen', 'Martin Davis', 'Augustus De Morgan', 'Dharmakirti', 'Dign\\xc4\\x81ga', 'Diodorus Cronus', 'Michael A. E. Dummett', ':nl:Martinus Dorpius', 'John Dumbleton', 'Alexander Esenin-Volpin', 'John Etchemendy', 'Solomon Feferman', 'Richard Ferrybridge', 'Hartry Field', 'Kit Fine', 'Melvin Fitting', 'Matthew Foreman', 'Michael Fourman', 'Abraham Fraenkel', 'Roland Fra\\xc3\\xafss\\xc3\\xa9', 'Gottlob Frege', 'Harvey Friedman', 'Graeme Forbes', 'Dov Gabbay', 'L. T. F. Gamut', 'Robin Gandy', 'Sol Garfunkel', 'Garlandus Compotista', 'Peter Geach', 'Gerhard Gentzen', 'Joseph Diaz Gergonne', 'Gilbert de la Porr\\xc3\\xa9e', 'Jean-Yves Girard', 'Kurt G\\xc3\\xb6del', 'Reuben Louis Goodstein', 'Siegfried Gottwald', 'Jeroen Groenendijk', 'Susan Haack', 'Petr H\\xc3\\xa1jek', 'Leo Harrington', 'Robert S. Hartman', 'Georg Wilhelm Friedrich Hegel', 'Jean Van Heijenoort', 'Leon Henkin', 'Jacques Herbrand', 'Arend Heyting', 'David Hilbert', 'Jaakko Hintikka', 'Alfred Horn', 'William Alvin Howard', 'Ehud Hrushovski', 'Ibn Taymiyyah', 'Marsilius of Inghen', 'Giorgi Japaridze', 'Stanis\\xc5\\x82aw Ja\\xc5\\x9bkowski', 'Richard Jeffrey', 'Ronald Jensen', 'William Stanley Jevons', 'John of St. Thomas', 'William Ernest Johnson', 'Dick de Jongh', 'Bjarni J\\xc3\\xb3nsson', 'Philip Jourdain', 'Joachim Jungius', 'David Kaplan (philosopher)', 'Alexander S. Kechris', 'Jaoudat Khouri', 'Richard Kilvington', 'Robert Kilwardby', 'Stephen Cole Kleene', 'Tadeusz Kotarbi\\xc5\\x84ski', 'Robert Kowalski', 'Georg Kreisel', 'Saul Kripke', 'Leopold Kronecker', 'Christine Ladd-Franklin', 'Joachim Lambek', 'Johann Heinrich Lambert', 'Karel Lambert', 'Gottfried Leibniz', 'Stanis\\xc5\\x82aw Le\\xc5\\x9bniewski', 'Clarence Irving Lewis', 'David Kellogg Lewis', 'Adolf Lindenbaum', 'Ramon Llull', 'Martin L\\xc3\\xb6b', 'Paul Lorenzen', 'Jerzy \\xc5\\x81o\\xc5\\x9b', 'Hermann Lotze', 'Leopold L\\xc3\\xb6wenheim', 'Jan \\xc5\\x81ukasiewicz', 'Hugh MacColl', 'Saunders MacLane', 'Dugald Macpherson', 'Penelope Maddy', 'David Makinson', 'John Major (philosopher)', 'Isaac Malitz', 'Gary R. Mar', 'Ruth Barcan Marcus', 'Per Martin-L\\xc3\\xb6f', 'Donald A. Martin', 'Richard Milton Martin', 'Yuri Matiyasevich', 'Carew Arthur Meredith', 'Bob Meyer (logician)', 'John Stuart Mill', 'Grigori Mints', 'Richard Montague', 'Yiannis N. Moschovakis', 'Andrzej Mostowski', 'Edward Nelson', 'John von Neumann', 'Jean Nicod', 'Pyotr Novikov', 'William of Ockham', 'Piergiorgio Odifreddi', 'Ivan Orlov (philosopher)', 'John Pagus', 'Jeff Paris', 'Charles Parsons (philosopher)', 'Solomon Passy', 'Paul of Venice', 'Giuseppe Peano', 'Charles Sanders Peirce', 'Lorenzo Pe\\xc3\\xb1a', 'Paolo da Pergola', 'Cha\\xc3\\xafm Perelman', 'Peter of Spain (author)', 'Philo the Dialectician', 'Walter Pitts', 'Porphyry (philosopher)', 'Emil Leon Post', 'Dag Prawitz', 'Moj\\xc5\\xbcesz Presburger', 'Graham Priest', 'Arthur Prior', 'Hilary Putnam', 'Willard Van Orman Quine', 'Michael O. Rabin', 'Constantin R\\xc4\\x83dulescu-Motru', 'Frank Plumpton Ramsey', 'Petrus Ramus', 'Helena Rasiowa', 'Carveth Read', 'Abraham Robinson', 'Raphael M. Robinson', 'J. Barkley Rosser', 'Richard Routley', 'Frederick Rowbottom', 'Ian Rumfitt', 'Bertrand Russell', 'Gerald Sacks', 'Giovanni Girolamo Saccheri', 'Albert of Saxony (philosopher)', 'Rolf Schock', 'Moses Sch\\xc3\\xb6nfinkel', 'Ernst Schr\\xc3\\xb6der', 'Kurt Sch\\xc3\\xbctte', 'Dana Scott', 'Sedulius Scottus', 'John Duns Scotus', 'Stewart Shapiro', 'Fyodor Shcherbatskoy', 'Saharon Shelah', 'William of Sherwood', 'Hui Shi', 'Simplicius of Cilicia', 'Raghunatha Siromani', 'Thoralf Skolem', 'Dimiter Skordev', 'Theodore Slaman', 'Raymond Smullyan', 'Robert M. Solovay', 'Richard the Sophister', 'Peter of Spain (author)', 'John R. Steel', 'Martin Stokhof', 'Ralph Strode', 'Ny\\xc4\\x81ya S\\xc5\\xabtras', 'Richard Swineshead', 'Richard Sylvan', 'Gaisi Takeuti', 'Alfred Tarski', 'Theophrastus', 'Pavel Tich\\xc3\\xbd', 'Friedrich Adolf Trendelenburg', 'Anne Sjerp Troelstra', 'Alan Turing', 'Kazimierz Twardowski', 'Udayana', 'Alasdair Urquhart', 'Vladimir Andreyevich Uspensky', 'Lorenzo Valla', 'Moshe Y. Vardi', 'Nicolai A. Vasiliev', 'Robert Lawson Vaught', 'Paul of Venice', 'John Venn', 'Juan Luis Vives', 'Hao Wang (academic)', 'Isaac Watts', 'Richard Whately', 'Alfred North Whitehead', 'Ludwig Wittgenstein', 'Christian Wolff (philosopher)', 'W. Hugh Woodin', 'John Woods (logician)', 'Georg Henrik von Wright', 'Jin Yuelin', 'Jacopo Zabarella', 'Lotfi A. Zadeh', 'Ernst Zermelo', 'Alexander Zinoviev']\n",
      "Query for: List_of_metaphysicians\n",
      "https://en.wikipedia.org/w/api.php?action=query&titles=List_of_metaphysicians&prop=revisions&rvprop=content&format=json&utf8=\n",
      "Number of philosophers:  96\n",
      "['Pythagoras', 'Democritus', 'Heraclitus', 'Anaximander', 'Plotinus', 'Lucretius', 'Proclus Lycaeus', 'Zeno of Elea', 'Parmenides', 'Protagoras', 'Plato', 'Aristotle', 'Thomas Aquinas', 'Duns Scotus', 'Galileo Galilei', 'Ren\\xc3\\xa9 Descartes', 'Anne Conway (philosopher)', 'Baruch Spinoza', 'Nicolas Malebranche', 'J. M. E. McTaggart', 'Gottfried Leibniz', 'George Berkeley', 'Immanuel Kant', 'Georg W. F. Hegel', 'Arthur Schopenhauer', 'Austin Osman Spare', 'Nicolai Hartmann', 'Martin Heidegger', 'Gottlob Frege', 'G. E. Moore', 'Pierre Teilhard de Chardin', 'Bertrand Russell', 'Alfred North Whitehead', 'Henri Bergson', 'Ludwig Wittgenstein', 'George Holmes Howison', 'Marilyn McCord Adams', 'Robert Merrihew Adams', 'William Alston', 'David Malet Armstrong', 'Alain Badiou', 'Lynne Rudder Baker', 'Paul Benacerraf', 'C. D. Broad', 'Berit Brogaard', 'David Chalmers', 'Gilles Deleuze', 'Arda Denkel', 'Michael Devitt', 'Nader El-Bizri', 'Catherine Elgin', 'Kit Fine', 'Peter Geach', 'Peter Glassen', 'Nelson Goodman', 'Jean Grondin', 'Susan Haack', 'John Hawthorne', 'Sally Haslanger', 'Shadworth Hodgson', 'Suzy Kassem', 'David Kolb', 'Saul Kripke', 'Brian Leftow', 'David K. Lewis', 'Peter Ludlow', 'William Lycan', 'Penelope Maddy', 'Ruth Barcan Marcus', 'Trenton Merricks', 'L.A. Paul', 'Terence Parsons', 'Gualtiero Piccinini', 'Alvin Plantinga', 'Graham Priest', 'Hilary Putnam', 'Willard V. O. Quine', 'Jay Rosenberg', 'Nathan Salmon', 'Jean-Paul Sartre', 'Frithjof Schuon', 'Theodore Sider', 'Gilbert Simondon', 'Wolfgang Smith', 'Robert Stalnaker', 'P. F. Strawson', 'Judith Jarvis Thomson', 'Peter Unger', 'Peter van Inwagen', 'David Wiggins', 'Stuart Wilde', 'Colin Wilson', 'Jessica Wilson', 'Damon Young', 'Dean Zimmerman', 'Xavier Zubiri']\n",
      "Query for: List_of_social_and_political_philosophers\n",
      "https://en.wikipedia.org/w/api.php?action=query&titles=List_of_social_and_political_philosophers&prop=revisions&rvprop=content&format=json&utf8=\n",
      "Number of philosophers:  294\n",
      "['Abraham Joshua Heschel', 'Abul Kalam Azad', 'Adam M\\xc3\\xbcller', 'Adrian Johnston (philosopher)', 'Alan Carter (philosopher)', 'Alan Ryan', 'Alastair Norcross', 'Alexis de Tocqueville', 'Alfred Rosenberg', 'Ali Shariati', 'Alon Ben-Meir', 'Andrei Marga', 'Anthony de Jasay', 'Ant\\xc3\\xb3nio Castanheira Neves', 'Antonio Negri', 'Archon', 'Aristotle', 'Armin Mohler', 'Arthur Linton Corbin', 'Arthur Moeller van den Bruck', 'Auberon Herbert', 'Averroes', 'Axel Honneth', 'Ayn Rand', 'Benjamin Tucker', 'Bertrand de Jouvenel', 'Bertrand Russell', 'B. R. Ambedkar', 'Boris Furlan', 'Bruce Lee', 'Bruno Leoni', 'Bryan Caplan', 'Carl Joachim Friedrich', 'Carl Schmitt', 'Carlo Lottieri', 'Chanakya', 'Charles Blattberg', 'Montesquieu', 'Charles Taylor (philosopher)', 'Cheng Hao', 'Cheng Yi (philosopher)', 'Claude Lefort', 'Claude L\\xc3\\xa9vi-Strauss', 'Claudio Canaparo', 'Confucius', 'Constantin R\\xc4\\x83dulescu-Motru', 'Cornel West', 'Cornelius Castoriadis', 'Costas Douzinas', 'Dana Ward', 'Daniel Gu\\xc3\\xa9rin', 'David D. Friedman', 'David Kolb', 'David Miller (political theorist)', 'David Prychitko', 'Dimitris Dimitrakos', 'Disciples of Confucius', 'Dong Zhongshu', 'Duncan Kennedy (legal philosopher)', 'Edward Said', 'Emma Goldman', 'Enrique Dussel', 'Eric Voegelin', 'Ernest Wamba dia Wamba', 'Ernst Bloch', '\\xc3\\x89tienne de La Bo\\xc3\\xa9tie', 'Eugen Rosenstock-Huessy', 'F\\xc3\\xa9lix Guattari', 'Felix Kaufmann', \"Francesco D'Andrea\", 'Francis Fukuyama', 'Francis Parker Yockey', 'Frank Meyer (political philosopher)', 'Friedrich Hayek', 'Fujiwara Seika', 'Gary Chartier', 'Gene Callahan (economist)', 'Georg Jellinek', 'Georg Wilhelm Friedrich Hegel', 'George Kateb', 'George Ohsawa', 'Georges Bataille', 'Gerald Cohen', 'Gerald Dworkin', 'Gerrard Winstanley', 'Giacomo Marramao', 'Giambattista Vico', 'Gianfranco Sanguinetti', 'Giannina Braschi', 'Giorgio Agamben', 'Giorgio Del Vecchio', 'Gottfried Leibniz', 'Gustave de Molinari', 'Guy Aldred', 'Guy Debord', 'H. B. Acton', 'H. L. A. Hart', 'Han Fei', 'Han Ryner', 'Hannah Arendt', 'Hans Achterhuis', 'Hans Kelsen', 'Hans K\\xc3\\xb6chler', 'Har Dayal', 'Harriet Taylor Mill', 'Hayashi Razan', 'Henri Lefebvre', 'Henry David Thoreau', 'Henry George', 'Henry Home, Lord Kames', 'Henry Pachter', 'Henry Sidgwick', 'Herbert Spencer', 'Herman Oliphant', 'Hirata Atsutane', 'Horace Romano Harr\\xc3\\xa9', 'Houston Stewart Chamberlain', 'Howard Zinn', 'Hugo Grotius', 'Igor Pribac', 'Immanuel Kant', 'Inayatullah Khan Mashriqi', 'Iris Marion Young', 'Isabel Paterson', 'Isaiah Berlin', 'Israr Ahmed', 'It\\xc5\\x8d Jinsai', 'Ivan Svit\\xc3\\xa1k', 'J. J. C. Smart', 'Jacques Ranci\\xc3\\xa8re', 'Jack Russell Weinstein', 'James Brusseau', 'James Tully (philosopher)', 'Jamie Whyte', 'Janet Biehl', 'Janet Coleman', 'Jawaharlal Nehru', 'Jean Bodin', 'Jean-Fran\\xc3\\xa7ois Lyotard', 'Jean-Jacques Rousseau', 'Jeffrey Friedman (political scientist)', 'Jeremy Bentham', 'John Austin (legal philosopher)', 'John Burnheim', 'John Finnis', 'John Hospers', 'John Locke', 'John Oswald (activist)', 'John Rawls', 'John Searle', 'John Stuart Mill', 'John William Miller', 'John Zerzan', 'Jonathan Wolff (philosopher)', 'Joseph de Torre', 'Joseph Priestley and Dissent', 'Joseph Priestley', 'Joseph Raz', 'Joshua Cohen (philosopher)', 'Joxe Azurmendi', 'Judith Butler', 'Julian Gumperz', 'Julien Offray de La Mettrie', 'Julius Binder', 'J\\xc3\\xbcrgen Habermas', 'Kaibara Ekken', 'Karl Loewenstein', 'Karl Marx', 'Karl Popper', 'Karl-Otto Apel', 'Kevin Carson', 'Langdon Winner', 'Leonard Borgzinner', 'Leonard Read', 'Leonidas Donskis', 'Lewis Call', 'Lon L. Fuller', 'Loren Lomasky', 'Lorenzo Pe\\xc3\\xb1a', 'Louis Althusser', 'Ludwig von Mises', 'Lysander Spooner', 'Manuel De Landa', 'Mao Zedong', 'Margaret Canovan', 'Mario Bunge', 'Mario Tronti', 'Martha Nussbaum', 'Martin Luther King, Jr.', 'Maurice Brinton', 'Maurice Cranston', 'Max Baginski', 'Max Horkheimer', 'Max Stirner', 'Mazdak', 'Mencius', 'Michael Davis (philosopher)', 'Michael Novak', 'Michael Oakeshott', 'Michael Otsuka', 'Michel Foucault', 'Michel Onfray', 'Mihailo Markovi\\xc4\\x87', 'Mikelis Avlichos', 'Mikhail Bakunin', 'Milan Kangrga', 'Mohandas Karamchand Gandhi', 'Monarchomachs', 'Mortimer Adler', 'Mozi', 'Muhammad', 'Muhammad Asad', 'Muhammad Iqbal', 'Murray Bookchin', 'Murray Rothbard', 'Nancy Cartwright (philosopher)', 'Nestor Makhno', 'Niccol\\xc3\\xb2 Machiavelli', 'Nigel Warburton', 'Noam Chomsky', 'Norbert Bolz', 'Norbert Leser', 'Octave Mirbeau', 'Ogy\\xc5\\xab Sorai', 'Oliver Wendell Holmes, Jr.', 'Oskar Negt', 'Paolo Virno', 'Paul R. Patton', 'Paul Virilio', 'Pekka Himanen', 'Per Bauhn', 'Peter Kropotkin', 'Peter Lamborn Wilson', 'Peter Sloterdijk', 'Phaleas of Chalcedon', 'Philip Mazzei', 'Philip Pettit', 'Philippe Van Parijs', 'Pierre Bourdieu', 'Pierre-Andr\\xc3\\xa9 Taguieff', 'Plato', 'Fred Poch\\xc3\\xa9', 'Rada Ivekovi\\xc4\\x87', 'Rainer Forst', 'Raya Dunayevskaya', 'Richard M. Weaver', 'Right Hegelians', 'Roberto Esposito', 'Robert P. George', 'Robert Paul Wolff', 'Roberto Mangabeira Unger', 'Roderick Long', 'Ronald Dworkin', 'Russell Kirk', 'Serge Moscovici', 'Shmuel Alexandrov', 'Simone Weil', 'Slavoj \\xc5\\xbdi\\xc5\\xbeek', 'Spencer Heath', 'Stephen Bronner', 'Sun Yat-sen', 'T. M. Scanlon', 'Takis Fotopoulos', 'Tan Sitong', 'Tara Smith (philosopher)', 'Theodor Sternberg', 'Theodor W. Adorno', 'Thomas Hill Green', 'Thomas Hobbes', 'Thomas Nagel', '\\xc3\\x9eorsteinn Gylfason', 'Thucydides', 'Todd May', 'Toju Nakae', 'Tony Honor\\xc3\\xa9', 'Tripp York', 'Umar bin al-Khattab', 'Voltaire', 'Voltairine de Cleyre', 'Walter Benjamin', 'Warren Buffett', 'Wesley Newcomb Hohfeld', 'Wilhelm Dilthey', 'William Fontaine', 'William James', 'William Paley', 'William Sweet', 'Wu Enyu', 'Xun Zi', 'Yamaga Sok\\xc5\\x8d', 'Yamazaki Ansai', 'Yi I', 'Young Hegelians', 'Zhuang Zhou']\n",
      "Philosophers in all:  1155\n"
     ]
    }
   ],
   "source": [
    "import re\n",
    "import urllib2 \n",
    "# Getting all as plain text with: prop=extraxt&exlimit=max&plaintext\n",
    "# Getting the philosopher informatiom\n",
    "baseurl    = \"https://en.wikipedia.org/w/api.php?\"\n",
    "action     = \"action=query\"\n",
    "title      = \"titles=\"\n",
    "content    = \"prop=revisions&rvprop=content\" #\"prop=extracts&exlimit=max&plaintext&rvprop=content\"\n",
    "dataformat = \"format=json\"\n",
    "\n",
    "\n",
    "# List of all Philosophers by core area\n",
    "list_phil = ['List_of_aestheticians','List_of_epistemologists','List_of_ethicists','List_of_logicians','List_of_metaphysicians','List_of_social_and_political_philosophers']\n",
    "query = []     # current query to process\n",
    "phil_count = 0 # accumulated count of philosophers in each group\n",
    "all_phil = {}  # final list of all philosophers\n",
    "ii = 1\n",
    "\n",
    "# constructing query for getting all Philosopher data\n",
    "for core_area in list_phil:\n",
    "    query = \"%s%s&%s&%s&%s&utf8=\" % (baseurl,action,title+core_area,content,dataformat)\n",
    "\n",
    "    f = urllib2.urlopen(query)\n",
    "    area_links = re.findall(r'\\*.?\\[\\[([^\\]|]+)\\|?[^\\]]*\\]\\]',f.read())\n",
    "    trim_area_links = [item for item in area_links if not item.lower().startswith('list of')]\n",
    "    for nb in trim_area_links:\n",
    "        all_phil[nb] = ii\n",
    "    print \"Query for:\", core_area\n",
    "    print (query)\n",
    "    print \"Number of philosophers: \", len(trim_area_links)\n",
    "    print trim_area_links\n",
    "    #print trim_area_links\n",
    "    \n",
    "    # Accumulate number of philosophers\n",
    "    phil_count = phil_count + len(trim_area_links)\n",
    "    ii = ii+1\n",
    "\n",
    "#all_phil\n",
    "print \"Philosophers in all: \", phil_count"
   ]
  },
  {
   "cell_type": "code",
   "execution_count": 3,
   "metadata": {
    "collapsed": false
   },
   "outputs": [],
   "source": [
    "#all_phil['Aristotle']"
   ]
  },
  {
   "cell_type": "code",
   "execution_count": 4,
   "metadata": {
    "collapsed": true
   },
   "outputs": [],
   "source": [
    "import urllib\n",
    "# Extract content from all lists\n",
    "content = \"prop=extracts&exlimit=max&explaintext\"\n",
    "all_text = []\n",
    "aest =  []\n",
    "logic = []\n",
    "soc =   []\n",
    "epi =   []\n",
    "eth =   []\n",
    "meta =  []"
   ]
  },
  {
   "cell_type": "code",
   "execution_count": 5,
   "metadata": {
    "collapsed": false
   },
   "outputs": [],
   "source": [
    "i = 1\n",
    "\n",
    "for phil in all_phil:\n",
    "    baseurl    = \"https://en.wikipedia.org/w/api.php?\" # ensure English wiki\n",
    "    if(phil.startswith(\":\")):\n",
    "        # Redirect to right page if no English available\n",
    "        cc      = re.search(r'^:([a-zA-Z]+):',phil).group(1)\n",
    "        phil    = re.sub(r'^:([a-zA-Z]+):','',phil)\n",
    "        baseurl = \"https://%s.wikipedia.org/w/api.php?\" % (cc)\n",
    "    \n",
    "    # Create query\n",
    "    phil_q = urllib.quote(phil.replace(\" \",\"_\"))\n",
    "    #print phil_q\n",
    "    query = \"%s%s&%s&%s&%s&utf8=\" % (baseurl,action,title+phil_q,content,dataformat)\n",
    "    #print query\n",
    "    f = urllib2.urlopen(query)\n",
    "    \n",
    "    if phil == 'Martinus Dorpius' or all_phil[phil] == 1:\n",
    "        aest.append(f.read())\n",
    "    elif all_phil[phil] == 2:\n",
    "        logic.append(f.read())\n",
    "    elif all_phil[phil] == 3:\n",
    "        soc.append(f.read())\n",
    "    elif all_phil[phil] == 4:\n",
    "        epi.append(f.read())\n",
    "    elif all_phil[phil] == 5:\n",
    "        eth.append(f.read())\n",
    "    else:\n",
    "        meta.append(f.read())\n",
    "    i = i+1\n",
    "    \n",
    "   "
   ]
  },
  {
   "cell_type": "code",
   "execution_count": null,
   "metadata": {
    "collapsed": false
   },
   "outputs": [],
   "source": []
  },
  {
   "cell_type": "code",
   "execution_count": 6,
   "metadata": {
    "collapsed": true
   },
   "outputs": [],
   "source": [
    "# Remove all things noon-alphanumeric\n",
    "def stripNonAlphaNum(text):\n",
    "    import re\n",
    "    return re.compile(r'[\\W+]|[^\\D]', re.UNICODE).split(text)"
   ]
  },
  {
   "cell_type": "code",
   "execution_count": 7,
   "metadata": {
    "collapsed": false
   },
   "outputs": [],
   "source": [
    "from nltk.corpus import stopwords\n",
    "\n",
    "##############################################\n",
    "# Prepare for some code duplication ....     #\n",
    "##############################################\n",
    "\n",
    "# SOCIAL AND POLITICAL\n",
    "# Tokenizing\n",
    "str_soc    = ''.join(soc)\n",
    "decode_soc = str_soc.decode('utf8')\n",
    "text_soc   = stripNonAlphaNum(decode_soc)  # removes all non-characther and numbers\n",
    "# Remove English stopwords and empty entries\n",
    "stoplist = stopwords.words('english')\n",
    "soc_tokens   = [token.lower() for token in text_soc if token.strip().lower() not in stoplist and token != '' and len(token) > 1] \n",
    "\n",
    "soc_tokens = soc_tokens[24:]\n",
    "#soc_tokens"
   ]
  },
  {
   "cell_type": "code",
   "execution_count": 8,
   "metadata": {
    "collapsed": false
   },
   "outputs": [
    {
     "data": {
      "text/plain": [
       "[u'i',\n",
       " u'me',\n",
       " u'my',\n",
       " u'myself',\n",
       " u'we',\n",
       " u'our',\n",
       " u'ours',\n",
       " u'ourselves',\n",
       " u'you',\n",
       " u'your',\n",
       " u'yours',\n",
       " u'yourself',\n",
       " u'yourselves',\n",
       " u'he',\n",
       " u'him',\n",
       " u'his',\n",
       " u'himself',\n",
       " u'she',\n",
       " u'her',\n",
       " u'hers',\n",
       " u'herself',\n",
       " u'it',\n",
       " u'its',\n",
       " u'itself',\n",
       " u'they',\n",
       " u'them',\n",
       " u'their',\n",
       " u'theirs',\n",
       " u'themselves',\n",
       " u'what',\n",
       " u'which',\n",
       " u'who',\n",
       " u'whom',\n",
       " u'this',\n",
       " u'that',\n",
       " u'these',\n",
       " u'those',\n",
       " u'am',\n",
       " u'is',\n",
       " u'are',\n",
       " u'was',\n",
       " u'were',\n",
       " u'be',\n",
       " u'been',\n",
       " u'being',\n",
       " u'have',\n",
       " u'has',\n",
       " u'had',\n",
       " u'having',\n",
       " u'do',\n",
       " u'does',\n",
       " u'did',\n",
       " u'doing',\n",
       " u'a',\n",
       " u'an',\n",
       " u'the',\n",
       " u'and',\n",
       " u'but',\n",
       " u'if',\n",
       " u'or',\n",
       " u'because',\n",
       " u'as',\n",
       " u'until',\n",
       " u'while',\n",
       " u'of',\n",
       " u'at',\n",
       " u'by',\n",
       " u'for',\n",
       " u'with',\n",
       " u'about',\n",
       " u'against',\n",
       " u'between',\n",
       " u'into',\n",
       " u'through',\n",
       " u'during',\n",
       " u'before',\n",
       " u'after',\n",
       " u'above',\n",
       " u'below',\n",
       " u'to',\n",
       " u'from',\n",
       " u'up',\n",
       " u'down',\n",
       " u'in',\n",
       " u'out',\n",
       " u'on',\n",
       " u'off',\n",
       " u'over',\n",
       " u'under',\n",
       " u'again',\n",
       " u'further',\n",
       " u'then',\n",
       " u'once',\n",
       " u'here',\n",
       " u'there',\n",
       " u'when',\n",
       " u'where',\n",
       " u'why',\n",
       " u'how',\n",
       " u'all',\n",
       " u'any',\n",
       " u'both',\n",
       " u'each',\n",
       " u'few',\n",
       " u'more',\n",
       " u'most',\n",
       " u'other',\n",
       " u'some',\n",
       " u'such',\n",
       " u'no',\n",
       " u'nor',\n",
       " u'not',\n",
       " u'only',\n",
       " u'own',\n",
       " u'same',\n",
       " u'so',\n",
       " u'than',\n",
       " u'too',\n",
       " u'very',\n",
       " u's',\n",
       " u't',\n",
       " u'can',\n",
       " u'will',\n",
       " u'just',\n",
       " u'don',\n",
       " u'should',\n",
       " u'now',\n",
       " u'd',\n",
       " u'll',\n",
       " u'm',\n",
       " u'o',\n",
       " u're',\n",
       " u've',\n",
       " u'y',\n",
       " u'ain',\n",
       " u'aren',\n",
       " u'couldn',\n",
       " u'didn',\n",
       " u'doesn',\n",
       " u'hadn',\n",
       " u'hasn',\n",
       " u'haven',\n",
       " u'isn',\n",
       " u'ma',\n",
       " u'mightn',\n",
       " u'mustn',\n",
       " u'needn',\n",
       " u'shan',\n",
       " u'shouldn',\n",
       " u'wasn',\n",
       " u'weren',\n",
       " u'won',\n",
       " u'wouldn']"
      ]
     },
     "execution_count": 8,
     "metadata": {},
     "output_type": "execute_result"
    }
   ],
   "source": [
    "# take a look at stopwords\n",
    "stoplist"
   ]
  },
  {
   "cell_type": "code",
   "execution_count": 9,
   "metadata": {
    "collapsed": false
   },
   "outputs": [],
   "source": [
    "from nltk.corpus import stopwords\n",
    "\n",
    "# AESTHETICIANS\n",
    "#Tokenizing\n",
    "str_aest    = ''.join(aest)\n",
    "decode_aest = str_aest.decode('utf8')\n",
    "text_aest   = stripNonAlphaNum(decode_aest)  # removes all non-characther and numbers\n",
    "# Remove English stopwords and empty entries\n",
    "stoplist = stopwords.words('english')\n",
    "aest_tokens   = [token.lower() for token in text_aest if token.strip().lower() not in stoplist and token != '' and len(token) > 1] \n",
    "\n",
    "aest_tokens = aest_tokens[19:]\n",
    "#aest_tokens"
   ]
  },
  {
   "cell_type": "code",
   "execution_count": 10,
   "metadata": {
    "collapsed": false
   },
   "outputs": [],
   "source": [
    "# Ethnicists\n",
    "#Tokenizing\n",
    "str_eth    = ''.join(eth)\n",
    "decode_eth = str_eth.decode('utf8')\n",
    "text_eth   = stripNonAlphaNum(decode_eth)  # removes all non-characther and numbers\n",
    "# Remove English stopwords and empty entries\n",
    "stoplist = stopwords.words('english')\n",
    "eth_tokens   = [token.lower() for token in text_eth if token.strip().lower() not in stoplist and token != '' and len(token) > 1] \n",
    "\n",
    "eth_tokens = eth_tokens[19:]\n",
    "#eth_tokens\n"
   ]
  },
  {
   "cell_type": "code",
   "execution_count": 11,
   "metadata": {
    "collapsed": false
   },
   "outputs": [],
   "source": [
    "# Logicians\n",
    "#Tokenizing\n",
    "str_logic    = ''.join(logic)\n",
    "decode_logic = str_logic.decode('utf8')\n",
    "text_logic   = stripNonAlphaNum(decode_logic)  # removes all non-characther and numbers\n",
    "# Remove English stopwords and empty entries\n",
    "stoplist = stopwords.words('english')\n",
    "logic_tokens   = [token.lower() for token in text_logic if token.strip().lower() not in stoplist and token != '' and len(token) > 1] \n",
    "\n",
    "logic_tokens = logic_tokens[19:]\n",
    "#logic_tokens\n"
   ]
  },
  {
   "cell_type": "code",
   "execution_count": 12,
   "metadata": {
    "collapsed": false
   },
   "outputs": [],
   "source": [
    "# Epistemologistc\n",
    "#Tokenizing\n",
    "str_epi    = ''.join(epi)\n",
    "decode_epi = str_epi.decode('utf8')\n",
    "text_epi   = stripNonAlphaNum(decode_epi)  # removes all non-characther and numbers\n",
    "# Remove English stopwords and empty entries\n",
    "stoplist = stopwords.words('english')\n",
    "epi_tokens   = [token.lower() for token in text_epi if token.strip().lower() not in stoplist and token != '' and len(token) > 1] \n",
    "\n",
    "epi_tokens = epi_tokens[19:]\n",
    "#epi_tokens\n",
    "\n"
   ]
  },
  {
   "cell_type": "code",
   "execution_count": 13,
   "metadata": {
    "collapsed": false
   },
   "outputs": [],
   "source": [
    "# \n",
    "#Tokenizing\n",
    "str_meta    = ''.join(meta)\n",
    "decode_meta = str_meta.decode('utf8')\n",
    "text_meta   = stripNonAlphaNum(decode_meta)  # removes all non-characther and numbers\n",
    "# Remove English stopwords and empty entries\n",
    "stoplist = stopwords.words('english')\n",
    "meta_tokens   = [token.lower() for token in text_meta if token.strip().lower() not in stoplist and token != '' and len(token) > 1] \n",
    "\n",
    "meta_tokens = meta_tokens[19:]\n",
    "#meta_tokens\n",
    "\n"
   ]
  },
  {
   "cell_type": "code",
   "execution_count": null,
   "metadata": {
    "collapsed": false
   },
   "outputs": [],
   "source": []
  },
  {
   "cell_type": "code",
   "execution_count": 14,
   "metadata": {
    "collapsed": false
   },
   "outputs": [],
   "source": [
    "#all tokens from the different branches \n",
    "all_tokens = aest_tokens + soc_tokens + eth_tokens + epi_tokens + meta_tokens + logic_tokens"
   ]
  },
  {
   "cell_type": "markdown",
   "metadata": {},
   "source": [
    "#### TF_IDF \n",
    "In information retrieval, tf–idf, short for term frequency–inverse document frequency, is a numerical statistic that is intended to reflect how important a word is to a document in a collection or corpus. It is often used as a weighting factor in information retrieval and text mining.\n",
    "\n",
    "More describing text [here](http://www.tfidf.com/)."
   ]
  },
  {
   "cell_type": "markdown",
   "metadata": {},
   "source": [
    "## Exercises\n",
    "### Finding the top 5 terms within the branches"
   ]
  },
  {
   "cell_type": "code",
   "execution_count": 15,
   "metadata": {
    "collapsed": false
   },
   "outputs": [],
   "source": [
    "# number of terms for each branch\n",
    "aest_len  = len(aest_tokens)\n",
    "soc_len   = len(soc_tokens)\n",
    "eth_len   = len(eth_tokens)\n",
    "epi_len   = len(epi_tokens)\n",
    "meta_len  = len(meta_tokens)\n",
    "logic_len = len(logic_tokens)"
   ]
  },
  {
   "cell_type": "code",
   "execution_count": 16,
   "metadata": {
    "collapsed": false
   },
   "outputs": [
    {
     "name": "stdout",
     "output_type": "stream",
     "text": [
      "0.00693\n"
     ]
    }
   ],
   "source": [
    "# test print for getting right format on float\n",
    "print \"%0.5f\" % (790.0/114052.0)"
   ]
  },
  {
   "cell_type": "markdown",
   "metadata": {},
   "source": [
    "### Term frequency for the different brances"
   ]
  },
  {
   "cell_type": "markdown",
   "metadata": {},
   "source": [
    "#### For all words for use later"
   ]
  },
  {
   "cell_type": "code",
   "execution_count": 17,
   "metadata": {
    "collapsed": false
   },
   "outputs": [],
   "source": [
    "# Calculating frequency of each word\n",
    "from collections import Counter\n",
    "aest_mc_all  = Counter(aest_tokens).items()\n",
    "soc_mc_all   = Counter(soc_tokens).items()\n",
    "eth_mc_all   = Counter(eth_tokens).items()\n",
    "epi_mc_all   = Counter(epi_tokens).items()\n",
    "meta_mc_all  = Counter(meta_tokens).items()\n",
    "logic_mc_all = Counter(logic_tokens).items()"
   ]
  },
  {
   "cell_type": "code",
   "execution_count": 18,
   "metadata": {
    "collapsed": false
   },
   "outputs": [
    {
     "data": {
      "text/plain": [
       "114107"
      ]
     },
     "execution_count": 18,
     "metadata": {},
     "output_type": "execute_result"
    }
   ],
   "source": [
    "aest_len"
   ]
  },
  {
   "cell_type": "code",
   "execution_count": 19,
   "metadata": {
    "collapsed": false
   },
   "outputs": [],
   "source": [
    "# initializing TF-dictionaries\n",
    "aest_dict  = {}\n",
    "soc_dict   = {}\n",
    "eth_dict   = {}\n",
    "epi_dict   = {}\n",
    "meta_dict  = {}\n",
    "logic_dict = {}\n",
    "\n",
    "for w, v in aest_mc_all:\n",
    "    aest_dict[w] = float(v)/aest_len\n",
    "\n",
    "    \n",
    "for w, v in soc_mc_all:\n",
    "    soc_dict[w] = float(v)/soc_len\n",
    "\n",
    "\n",
    "for w, v in eth_mc_all:\n",
    "    eth_dict[w] = float(v)/eth_len\n",
    "\n",
    "\n",
    "for w, v in epi_mc_all:\n",
    "    epi_dict[w] = float(v)/epi_len\n",
    "\n",
    "    \n",
    "for w, v in meta_mc_all:\n",
    "    meta_dict[w] = float(v)/meta_len\n",
    "\n",
    "    \n",
    "for w, v in logic_mc_all:\n",
    "    logic_dict[w] = float(v)/logic_len\n",
    "\n",
    "  "
   ]
  },
  {
   "cell_type": "code",
   "execution_count": 20,
   "metadata": {
    "collapsed": false
   },
   "outputs": [
    {
     "data": {
      "text/plain": [
       "0.005424732926113209"
      ]
     },
     "execution_count": 20,
     "metadata": {},
     "output_type": "execute_result"
    }
   ],
   "source": [
    "# Checking the resulting values from the dictionaries\n",
    "aest_dict['philosophy']"
   ]
  },
  {
   "cell_type": "markdown",
   "metadata": {},
   "source": [
    "#### For the five most occuring words in each branch"
   ]
  },
  {
   "cell_type": "code",
   "execution_count": 23,
   "metadata": {
    "collapsed": false
   },
   "outputs": [
    {
     "data": {
      "text/plain": [
       "list"
      ]
     },
     "execution_count": 23,
     "metadata": {},
     "output_type": "execute_result"
    }
   ],
   "source": [
    "type(aest_mc)"
   ]
  },
  {
   "cell_type": "code",
   "execution_count": 22,
   "metadata": {
    "collapsed": false
   },
   "outputs": [
    {
     "name": "stdout",
     "output_type": "stream",
     "text": [
      "Most common aestheticians\n",
      "university 0.0062397574\n",
      "philosophy 0.0054247329\n",
      "art 0.0051442944\n",
      "new 0.0045133077\n",
      "work 0.0040400677\n",
      "\n",
      "Most common social and political sciences\n",
      "university 0.0053193209\n",
      "philosophy 0.0044501273\n",
      "one 0.0041591989\n",
      "also 0.0040658145\n",
      "life 0.0035557918\n",
      "\n",
      "Most common ethnicists\n",
      "philosophy 0.0094821803\n",
      "university 0.0063698673\n",
      "one 0.0048275433\n",
      "press 0.0039284306\n",
      "also 0.0038385194\n",
      "\n",
      "Most common epistemologists\n",
      "logic 0.0104104371\n",
      "university 0.0075073593\n",
      "philosophy 0.0055216541\n",
      "theory 0.0055100417\n",
      "also 0.0044707399\n",
      "\n",
      "Most common metphysicians\n",
      "university 0.0049030926\n",
      "philosophy 0.0045861546\n",
      "political 0.0040278402\n",
      "also 0.0036038570\n",
      "new 0.0035052074\n",
      "\n",
      "Most common logicians\n",
      "philosophy 0.0072628397\n",
      "university 0.0062252911\n",
      "also 0.0045616357\n",
      "theory 0.0045437470\n",
      "knowledge 0.0038639738\n"
     ]
    }
   ],
   "source": [
    "# list of 5 most occuring\n",
    "aest_mc = Counter(aest_tokens).most_common(5)\n",
    "print \"Most common aestheticians\"\n",
    "for w, v in aest_mc:\n",
    "    print w, \"%0.10f\" % (float(v)/aest_len)\n",
    "\n",
    "soc_mc = Counter(soc_tokens).most_common(5)\n",
    "print \"\\nMost common social and political sciences\"\n",
    "for w, v in soc_mc:\n",
    "    print w, \"%0.10f\" % (float(v)/soc_len)\n",
    "\n",
    "eth_mc = Counter(eth_tokens).most_common(5)\n",
    "print \"\\nMost common ethnicists\"                                                                                      \n",
    "for w, v in eth_mc:\n",
    "    print w, \"%0.10f\" % (float(v)/eth_len)\n",
    "\n",
    "epi_mc = Counter(epi_tokens).most_common(5)\n",
    "print \"\\nMost common epistemologists\"\n",
    "for w, v in epi_mc:\n",
    "    print w, \"%0.10f\" % (float(v)/epi_len)\n",
    "\n",
    "meta_mc = Counter(meta_tokens).most_common(5)\n",
    "print \"\\nMost common metphysicians\"\n",
    "for w, v in meta_mc:\n",
    "    print w, \"%0.10f\" % (float(v)/meta_len)\n",
    "\n",
    "logic_mc = Counter(logic_tokens).most_common(5)\n",
    "print \"\\nMost common logicians\"\n",
    "for w, v in logic_mc:\n",
    "    print w, \"%0.10f\" % (float(v)/logic_len)\n"
   ]
  },
  {
   "cell_type": "markdown",
   "metadata": {},
   "source": [
    "#### Describe similarities and differences between the branches.\n",
    "* All core areas have philosophy and university in the top 3 of the most common words in their branch. \n",
    "* All but aestethicians also include 'also' within the top 5 words\n",
    "* Logicians distinguishes themselves by having 'logic' as most common word and also containing theory and knowledge\n",
    "* Epistemologists also talk a lot about theory\n",
    "* Metaphysicians have 'political' as one of their most common words, which political science do not.\n",
    "\n",
    "#### Why aren't the TFs not necessarily a good description of the branches?\n",
    "The most frequent word does not look at how the word is used of the context in which is it used. It is merely stating how often the word is used. Furthermore, when looking at the most frequent word, you have to make sure that all stopswords have been removed otherwise the most frequent word would be words like 'a' or 'the' etc. This is what the inverse document frequency looks to weigh out."
   ]
  },
  {
   "cell_type": "markdown",
   "metadata": {
    "collapsed": false
   },
   "source": [
    "### Inverse document frequency\n",
    "\n",
    "**IDF**: *Inverse Document Frequency*, which measures how important a term is. While computing TF, all terms are considered equally important. However it is known that certain terms, such as \"is\", \"of\", and \"that\", may appear a lot of times but have little importance. Thus we need to weigh down the frequent terms while scale up the rare ones, by computing the following: \n",
    "\n",
    "$$IDF(t) = log_e\\frac{doc_{tot}}{doc_{termt}}$$"
   ]
  },
  {
   "cell_type": "markdown",
   "metadata": {},
   "source": [
    "To complete this exercise I will use the natural logarithm"
   ]
  },
  {
   "cell_type": "code",
   "execution_count": 24,
   "metadata": {
    "collapsed": false
   },
   "outputs": [
    {
     "name": "stdout",
     "output_type": "stream",
     "text": [
      "Number of unique words: 82214\n"
     ]
    }
   ],
   "source": [
    "# Finding all unique words to match on\n",
    "unique_words = set(all_tokens)\n",
    "print \"Number of unique words:\", len(unique_words)"
   ]
  },
  {
   "cell_type": "markdown",
   "metadata": {},
   "source": [
    "#### Calculating the inverse document frequency"
   ]
  },
  {
   "cell_type": "code",
   "execution_count": 25,
   "metadata": {
    "collapsed": false
   },
   "outputs": [],
   "source": [
    "import numpy as np\n",
    "# Run through all documents, check wehether the term is in it, count up.\n",
    "# Run time: O(n+b*b_l), \n",
    "# where n is the set of unique words, \n",
    "# b the different branches and \n",
    "# b_l the lenght of the text\n",
    "\n",
    "set_aest  = set(aest_tokens)\n",
    "set_soc   = set(soc_tokens)\n",
    "set_eth   = set(eth_tokens)\n",
    "set_epi   = set(epi_tokens)\n",
    "set_meta  = set(meta_tokens)\n",
    "set_logic = set(logic_tokens)\n",
    "\n",
    "# This was my initial thought, but since we only need to check if the word is\n",
    "# in the text once, we can look at the different branches as sets.\n",
    "# This highly improves the running time, as the length og the texts are \n",
    "# much decreased.\n",
    "\n",
    "doc_tot = 6   # number of documents in all\n",
    "doc_cnt = 0.0   # count of occurences in different documents\n",
    "idf_dict = {} # dictionary to save values"
   ]
  },
  {
   "cell_type": "code",
   "execution_count": 26,
   "metadata": {
    "collapsed": false
   },
   "outputs": [],
   "source": [
    "for word in unique_words:\n",
    "    if word in set_aest:\n",
    "        doc_cnt += 1\n",
    "    if word in set_soc:\n",
    "        doc_cnt += 1\n",
    "    if word in set_eth:\n",
    "        doc_cnt += 1\n",
    "    if word in set_epi:\n",
    "        doc_cnt += 1\n",
    "    if word in set_meta:\n",
    "        doc_cnt += 1\n",
    "    if word in set_logic:\n",
    "        doc_cnt += 1\n",
    "    \n",
    "    idf_dict[word] = np.log(doc_tot/doc_cnt)\n",
    "    doc_cnt = 0"
   ]
  },
  {
   "cell_type": "code",
   "execution_count": 27,
   "metadata": {
    "collapsed": false
   },
   "outputs": [],
   "source": [
    "# IDF value\n",
    "# sorted(idf_dict)"
   ]
  },
  {
   "cell_type": "code",
   "execution_count": 28,
   "metadata": {
    "collapsed": false
   },
   "outputs": [
    {
     "name": "stdout",
     "output_type": "stream",
     "text": [
      "0.69314718056\n",
      "0.0\n"
     ]
    }
   ],
   "source": [
    "# Taking some examples\n",
    "print idf_dict['adversity']\n",
    "print idf_dict['philosophy']"
   ]
  },
  {
   "cell_type": "markdown",
   "metadata": {},
   "source": [
    "Now we see, that one of the most common words have the weight 0 which is what we want to see, since the inverse document frequuency weighs down the frequent terms."
   ]
  },
  {
   "cell_type": "markdown",
   "metadata": {
    "collapsed": true
   },
   "source": [
    "### Calculating the IDF weight"
   ]
  },
  {
   "cell_type": "markdown",
   "metadata": {
    "collapsed": true
   },
   "source": [
    "Now we need to combine the TF and the IDF results to get the TF-IDF value as wanted."
   ]
  },
  {
   "cell_type": "code",
   "execution_count": 29,
   "metadata": {
    "collapsed": false
   },
   "outputs": [
    {
     "data": {
      "text/plain": [
       "{u'writings': 0.0009990622836460515,\n",
       " u'nallen': 3.5054816970036896e-05,\n",
       " u'schlegel': 0.0004381852121254612,\n",
       " u'nauthor': 8.763704242509224e-06,\n",
       " u'yellow': 1.7527408485018448e-05,\n",
       " u'four': 0.0005521133672780811,\n",
       " u'tegn\\xe9r': 8.763704242509224e-06,\n",
       " u'prefix': 8.763704242509224e-06,\n",
       " u'woods': 3.5054816970036896e-05,\n",
       " u'spiders': 2.629111272752767e-05,\n",
       " u'picardy': 8.763704242509224e-06,\n",
       " u'hanging': 2.629111272752767e-05,\n",
       " u'francesca': 8.763704242509224e-06,\n",
       " u'cuddihy': 8.763704242509224e-06,\n",
       " u'vanarsdel': 8.763704242509224e-06,\n",
       " u'aggression': 8.763704242509224e-06,\n",
       " u'increase': 4.381852121254612e-05,\n",
       " u'rines': 8.763704242509224e-06,\n",
       " u'augustine': 6.134592969756457e-05,\n",
       " u'eligible': 8.763704242509224e-06,\n",
       " u'sprague': 8.763704242509224e-06,\n",
       " u'diff\\xe9rance': 8.763704242509224e-06,\n",
       " u'originality': 3.5054816970036896e-05,\n",
       " u'superficially': 8.763704242509224e-06,\n",
       " u'caned': 2.629111272752767e-05,\n",
       " u'nclark': 8.763704242509224e-06,\n",
       " u'hermann': 8.763704242509224e-05,\n",
       " u'lord': 0.00015774667636516603,\n",
       " u'immature': 8.763704242509224e-06,\n",
       " u'liberismo': 1.7527408485018448e-05,\n",
       " u'protestants': 8.763704242509224e-06,\n",
       " u'nhowison': 8.763704242509224e-06,\n",
       " u'nreading': 2.629111272752767e-05,\n",
       " u'victor_basch': 8.763704242509224e-06,\n",
       " u'socrate': 8.763704242509224e-06,\n",
       " u'rational': 0.00011392815515261992,\n",
       " u'nrichard': 7.887333818258301e-05,\n",
       " u'nbooks': 4.381852121254612e-05,\n",
       " u'regional': 1.7527408485018448e-05,\n",
       " u'schlegelschen': 1.7527408485018448e-05,\n",
       " u'eugenics': 8.763704242509224e-06,\n",
       " u'nbook': 8.763704242509224e-06,\n",
       " u'forties': 8.763704242509224e-06,\n",
       " u'foul': 1.7527408485018448e-05,\n",
       " u'politician': 6.134592969756457e-05,\n",
       " u'bringing': 3.5054816970036896e-05,\n",
       " u'disturb': 2.629111272752767e-05,\n",
       " u'recollections': 1.7527408485018448e-05,\n",
       " u'uttering': 2.629111272752767e-05,\n",
       " u'prize': 0.0002629111272752767,\n",
       " u'balde': 8.763704242509224e-06,\n",
       " u'broiles': 8.763704242509224e-06,\n",
       " u'sturgis': 2.629111272752767e-05,\n",
       " u'elfrida': 8.763704242509224e-06,\n",
       " u'happenings': 5.258222545505534e-05,\n",
       " u'brutish': 8.763704242509224e-06,\n",
       " u'hague': 8.763704242509224e-06,\n",
       " u'crotch': 8.763704242509224e-06,\n",
       " u'elgar': 1.7527408485018448e-05,\n",
       " u'succession': 2.629111272752767e-05,\n",
       " u'stereotypical': 8.763704242509224e-06,\n",
       " u'steadfastness': 8.763704242509224e-06,\n",
       " u'commented': 9.640074666760146e-05,\n",
       " u'asian': 7.010963394007379e-05,\n",
       " u'merlin': 6.134592969756457e-05,\n",
       " u'charter': 8.763704242509224e-06,\n",
       " u'buber': 2.629111272752767e-05,\n",
       " u'sturm': 5.258222545505534e-05,\n",
       " u'miliard': 8.763704242509224e-06,\n",
       " u'l\\xe1szl\\xf3': 8.763704242509224e-06,\n",
       " u'use': 0.0005433496630355719,\n",
       " u'miller': 3.5054816970036896e-05,\n",
       " u'preface': 0.00010516445091011068,\n",
       " u'twayne': 8.763704242509224e-06,\n",
       " u'teutonicae': 8.763704242509224e-06,\n",
       " u'budget': 8.763704242509224e-06,\n",
       " u'\\xe9tienne': 1.7527408485018448e-05,\n",
       " u'second': 0.0007887333818258302,\n",
       " u'attended': 0.00035054816970036894,\n",
       " u'ncivilization': 8.763704242509224e-06,\n",
       " u'gorman': 8.763704242509224e-06,\n",
       " u'sustaining': 8.763704242509224e-06,\n",
       " u'currie': 2.629111272752767e-05,\n",
       " u'available': 0.0001840377890926937,\n",
       " u'maskell': 8.763704242509224e-06,\n",
       " u'scraped': 8.763704242509224e-06,\n",
       " u'loathing': 1.7527408485018448e-05,\n",
       " u'prosody': 8.763704242509224e-06,\n",
       " u'b\\u0281ija': 8.763704242509224e-06,\n",
       " u'wilson': 7.887333818258301e-05,\n",
       " u'blouse': 8.763704242509224e-06,\n",
       " u'errors': 1.7527408485018448e-05,\n",
       " u'relieving': 8.763704242509224e-06,\n",
       " u'korvin': 2.629111272752767e-05,\n",
       " u'cooking': 8.763704242509224e-06,\n",
       " u'contributed': 0.00019280149333520292,\n",
       " u'updike': 8.763704242509224e-06,\n",
       " u'njordan': 8.763704242509224e-06,\n",
       " u'negated': 8.763704242509224e-06,\n",
       " u'increasing': 5.258222545505534e-05,\n",
       " u'admiral': 1.7527408485018448e-05,\n",
       " u'instructions': 7.010963394007379e-05,\n",
       " u'pioneering': 1.7527408485018448e-05,\n",
       " u'specialist': 1.7527408485018448e-05,\n",
       " u'zweig': 8.763704242509224e-06,\n",
       " u'hero': 7.887333818258301e-05,\n",
       " u'dorp': 5.258222545505534e-05,\n",
       " u'dorr': 8.763704242509224e-06,\n",
       " u'proctorship': 8.763704242509224e-06,\n",
       " u'error': 1.7527408485018448e-05,\n",
       " u'fronts': 8.763704242509224e-06,\n",
       " u'aiga': 8.763704242509224e-06,\n",
       " u'chine': 8.763704242509224e-06,\n",
       " u'herz': 8.763704242509224e-06,\n",
       " u'ching': 0.00012269185939512914,\n",
       " u'greats': 3.5054816970036896e-05,\n",
       " u'china': 0.0002629111272752767,\n",
       " u'cult': 2.629111272752767e-05,\n",
       " u'affiliated': 8.763704242509224e-06,\n",
       " u'quark': 8.763704242509224e-06,\n",
       " u'separation': 3.5054816970036896e-05,\n",
       " u'cyclical': 1.7527408485018448e-05,\n",
       " u'substance': 0.00020156519757771215,\n",
       " u'ansgar': 8.763704242509224e-06,\n",
       " u'synchronic': 8.763704242509224e-06,\n",
       " u'juraj': 8.763704242509224e-06,\n",
       " u'elaborate': 2.629111272752767e-05,\n",
       " u'reports': 5.258222545505534e-05,\n",
       " u'controversy': 8.763704242509224e-05,\n",
       " u'kidd': 8.763704242509224e-06,\n",
       " u'military': 9.640074666760146e-05,\n",
       " u'ruskin': 0.00010516445091011068,\n",
       " u'gavin': 8.763704242509224e-06,\n",
       " u'criticism': 0.0013846652703164574,\n",
       " u'golden': 4.381852121254612e-05,\n",
       " u'hornsby': 1.7527408485018448e-05,\n",
       " u'nwhen': 6.134592969756457e-05,\n",
       " u'projection': 1.7527408485018448e-05,\n",
       " u'classification': 3.5054816970036896e-05,\n",
       " u'secluded': 8.763704242509224e-06,\n",
       " u'overtasked': 8.763704242509224e-06,\n",
       " u'wikimedia': 1.7527408485018448e-05,\n",
       " u'explained': 0.00011392815515261992,\n",
       " u'norse': 8.763704242509224e-06,\n",
       " u'replace': 5.258222545505534e-05,\n",
       " u'psychological': 0.0002979659442453136,\n",
       " u'nplays': 8.763704242509224e-06,\n",
       " u'remnant': 8.763704242509224e-06,\n",
       " u'stern': 2.629111272752767e-05,\n",
       " u'unir': 8.763704242509224e-06,\n",
       " u'acroasium': 8.763704242509224e-06,\n",
       " u'battista': 8.763704242509224e-06,\n",
       " u'univ': 2.629111272752767e-05,\n",
       " u'unit': 4.381852121254612e-05,\n",
       " u'opponents': 1.7527408485018448e-05,\n",
       " u'presents': 7.887333818258301e-05,\n",
       " u'cherishing': 8.763704242509224e-06,\n",
       " u'spoke': 5.258222545505534e-05,\n",
       " u'insecurity': 8.763704242509224e-06,\n",
       " u'ivrea': 8.763704242509224e-06,\n",
       " u'impartiality': 8.763704242509224e-06,\n",
       " u'einheit': 3.5054816970036896e-05,\n",
       " u'occupying': 8.763704242509224e-06,\n",
       " u'ceoil': 1.7527408485018448e-05,\n",
       " u'boileau': 1.7527408485018448e-05,\n",
       " u'symphony': 7.010963394007379e-05,\n",
       " u'music': 0.002856967583058007,\n",
       " u'therefore': 0.0002541474230327675,\n",
       " u'passport': 8.763704242509224e-06,\n",
       " u'staged': 1.7527408485018448e-05,\n",
       " u'strike': 2.629111272752767e-05,\n",
       " u'sermons': 0.00010516445091011068,\n",
       " u'nmaher': 8.763704242509224e-06,\n",
       " u'suffocated': 8.763704242509224e-06,\n",
       " u'hoffmann': 8.763704242509224e-06,\n",
       " u'holy': 6.134592969756457e-05,\n",
       " u'successful': 0.00016651038060767526,\n",
       " u'brings': 3.5054816970036896e-05,\n",
       " u'semitone': 8.763704242509224e-06,\n",
       " u'holt': 2.629111272752767e-05,\n",
       " u'yahoo': 8.763704242509224e-06,\n",
       " u'hurt': 8.763704242509224e-06,\n",
       " u'ns\\xe4\\xe4tel\\xe4': 8.763704242509224e-06,\n",
       " u'glass': 5.258222545505534e-05,\n",
       " u'reversible': 1.7527408485018448e-05,\n",
       " u'teaching': 0.0006222230012181549,\n",
       " u'serially': 2.629111272752767e-05,\n",
       " u'midst': 8.763704242509224e-06,\n",
       " u'hold': 8.763704242509224e-05,\n",
       " u'circumstances': 6.134592969756457e-05,\n",
       " u'pontifical': 2.629111272752767e-05,\n",
       " u'morally': 2.629111272752767e-05,\n",
       " u'scheyer': 8.763704242509224e-06,\n",
       " u'pursue': 7.010963394007379e-05,\n",
       " u'generalis': 8.763704242509224e-06,\n",
       " u'famed': 8.763704242509224e-06,\n",
       " u'accomplishment': 8.763704242509224e-06,\n",
       " u'hafliger': 8.763704242509224e-06,\n",
       " u'ornea': 8.763704242509224e-06,\n",
       " u'vow': 8.763704242509224e-06,\n",
       " u'gershom': 8.763704242509224e-06,\n",
       " u'concepts': 0.0002190926060627306,\n",
       " u'seyler': 1.7527408485018448e-05,\n",
       " u'apoplexy': 8.763704242509224e-06,\n",
       " u'example': 0.0004381852121254612,\n",
       " u'matilda': 8.763704242509224e-06,\n",
       " u'misfortunes': 8.763704242509224e-06,\n",
       " u'sinking': 8.763704242509224e-06,\n",
       " u'impose': 2.629111272752767e-05,\n",
       " u'wang': 0.00012269185939512914,\n",
       " u'household': 6.134592969756457e-05,\n",
       " u'artillery': 2.629111272752767e-05,\n",
       " u'organized': 9.640074666760146e-05,\n",
       " u'disparagement': 8.763704242509224e-06,\n",
       " u'currency': 1.7527408485018448e-05,\n",
       " u'nobituary': 1.7527408485018448e-05,\n",
       " u'reviewing': 5.258222545505534e-05,\n",
       " u'want': 5.258222545505534e-05,\n",
       " u'organizer': 8.763704242509224e-06,\n",
       " u'terance': 8.763704242509224e-06,\n",
       " u'cookery': 8.763704242509224e-06,\n",
       " u'gargantuan': 8.763704242509224e-06,\n",
       " u'absolute': 0.00034178446545785973,\n",
       " u'provincial': 2.629111272752767e-05,\n",
       " u'cielo': 8.763704242509224e-06,\n",
       " u'brandon': 8.763704242509224e-06,\n",
       " u'worldview': 1.7527408485018448e-05,\n",
       " u'suono': 1.7527408485018448e-05,\n",
       " u'hon': 8.763704242509224e-06,\n",
       " u'travel': 8.763704242509224e-05,\n",
       " u'feature': 7.010963394007379e-05,\n",
       " u'cr\\xe9puscule': 8.763704242509224e-06,\n",
       " u'machine': 4.381852121254612e-05,\n",
       " u'hot': 0.00010516445091011068,\n",
       " u'monroe': 4.381852121254612e-05,\n",
       " u'hop': 8.763704242509224e-06,\n",
       " u'significance': 0.00014021926788014758,\n",
       " u'main': 0.00031549335273033205,\n",
       " u'symposium': 6.134592969756457e-05,\n",
       " u'winslow': 8.763704242509224e-06,\n",
       " u'dignified': 1.7527408485018448e-05,\n",
       " u'fanaticism': 1.7527408485018448e-05,\n",
       " u'gaming': 8.763704242509224e-06,\n",
       " u'abstraction': 0.00010516445091011068,\n",
       " u'vollmer': 2.629111272752767e-05,\n",
       " u'beauty': 0.0007361511563707748,\n",
       " u'inherent': 8.763704242509224e-05,\n",
       " u'assimilated': 8.763704242509224e-06,\n",
       " u'stravinsky': 1.7527408485018448e-05,\n",
       " u'christlob': 8.763704242509224e-06,\n",
       " u'karl_wilhelm_ferdinand_solger': 8.763704242509224e-06,\n",
       " u'dell': 2.629111272752767e-05,\n",
       " u'modest': 3.5054816970036896e-05,\n",
       " u'ngardner': 8.763704242509224e-06,\n",
       " u'destined': 8.763704242509224e-06,\n",
       " u'charleston': 2.629111272752767e-05,\n",
       " u'chorus': 1.7527408485018448e-05,\n",
       " u'minimizes': 8.763704242509224e-06,\n",
       " u'industry': 3.5054816970036896e-05,\n",
       " u'outcry': 8.763704242509224e-06,\n",
       " u'types': 5.258222545505534e-05,\n",
       " u'steadfast': 1.7527408485018448e-05,\n",
       " u'pantheism': 4.381852121254612e-05,\n",
       " u'calvet': 8.763704242509224e-06,\n",
       " u'guttenplan': 1.7527408485018448e-05,\n",
       " u'effective': 3.5054816970036896e-05,\n",
       " u'helsinki': 5.258222545505534e-05,\n",
       " u'wins': 1.7527408485018448e-05,\n",
       " u'youths': 1.7527408485018448e-05,\n",
       " u'horen': 8.763704242509224e-06,\n",
       " u'revolt': 2.629111272752767e-05,\n",
       " u'deutsche': 6.134592969756457e-05,\n",
       " u'fictional': 0.0002453837187902583,\n",
       " u'signatories': 1.7527408485018448e-05,\n",
       " u'nlonginus': 8.763704242509224e-06,\n",
       " u'democratic': 0.00015774667636516603,\n",
       " u'praefatus': 1.7527408485018448e-05,\n",
       " u'wing': 2.629111272752767e-05,\n",
       " u'wind': 1.7527408485018448e-05,\n",
       " u'wine': 9.640074666760146e-05,\n",
       " u'michael_sprinker': 8.763704242509224e-06,\n",
       " u'romanic': 8.763704242509224e-06,\n",
       " u'xlii': 8.763704242509224e-06,\n",
       " u'afterwards': 8.763704242509224e-05,\n",
       " u'welcomed': 8.763704242509224e-06,\n",
       " u'unworthiness': 8.763704242509224e-06,\n",
       " u'incamination': 8.763704242509224e-06,\n",
       " u'govern': 8.763704242509224e-06,\n",
       " u'vary': 3.5054816970036896e-05,\n",
       " u'stoicism': 8.763704242509224e-06,\n",
       " u'nproust': 8.763704242509224e-06,\n",
       " u'ncollingwood': 6.134592969756457e-05,\n",
       " u'benoeming': 8.763704242509224e-06,\n",
       " u'mabel': 1.7527408485018448e-05,\n",
       " u'enquiring': 8.763704242509224e-06,\n",
       " u'orman': 8.763704242509224e-06,\n",
       " u'fidelity': 1.7527408485018448e-05,\n",
       " u'journals': 0.0001840377890926937,\n",
       " u'hagiographical': 8.763704242509224e-06,\n",
       " u'mulliner': 8.763704242509224e-06,\n",
       " u'welcomes': 8.763704242509224e-06,\n",
       " u'admirably': 8.763704242509224e-06,\n",
       " u'shorter': 8.763704242509224e-06,\n",
       " u'maturer': 1.7527408485018448e-05,\n",
       " u'fit': 4.381852121254612e-05,\n",
       " u'directional': 2.629111272752767e-05,\n",
       " u'screaming': 8.763704242509224e-06,\n",
       " u'bloomsbury': 3.5054816970036896e-05,\n",
       " u'occupations': 8.763704242509224e-06,\n",
       " u'discourse': 9.640074666760146e-05,\n",
       " u'intelligentsia': 1.7527408485018448e-05,\n",
       " u'secede': 8.763704242509224e-06,\n",
       " u'frsl': 8.763704242509224e-06,\n",
       " u'ncarnet': 8.763704242509224e-06,\n",
       " u'distinguishing': 6.134592969756457e-05,\n",
       " u'dionysis': 8.763704242509224e-06,\n",
       " u'galil\\xe9e': 8.763704242509224e-06,\n",
       " u'frse': 1.7527408485018448e-05,\n",
       " u'wales': 2.629111272752767e-05,\n",
       " u'hidden': 4.381852121254612e-05,\n",
       " u'alpine': 8.763704242509224e-06,\n",
       " u'admirable': 8.763704242509224e-06,\n",
       " u'easier': 2.629111272752767e-05,\n",
       " u'nclive': 8.763704242509224e-06,\n",
       " u'undercut': 8.763704242509224e-06,\n",
       " u'inoculated': 8.763704242509224e-06,\n",
       " u'doctoraat': 8.763704242509224e-06,\n",
       " u'nlong': 2.629111272752767e-05,\n",
       " u'slate': 8.763704242509224e-06,\n",
       " u'ntake': 8.763704242509224e-06,\n",
       " u'th\\xe9orique': 8.763704242509224e-06,\n",
       " u'commemorate': 4.381852121254612e-05,\n",
       " u'educating': 2.629111272752767e-05,\n",
       " u'drinking': 8.763704242509224e-05,\n",
       " u'effects': 0.00021032890182022136,\n",
       " u'carbondale': 8.763704242509224e-06,\n",
       " u'schools': 0.00035931187394287815,\n",
       " u'internally': 1.7527408485018448e-05,\n",
       " u'beaux': 5.258222545505534e-05,\n",
       " u'sixteen': 2.629111272752767e-05,\n",
       " u'lessings': 8.763704242509224e-06,\n",
       " u'silver': 2.629111272752767e-05,\n",
       " u'scholar': 0.0002629111272752767,\n",
       " u'rumour': 8.763704242509224e-06,\n",
       " u'represents': 5.258222545505534e-05,\n",
       " u'\\u0163u\\u0163ea': 8.763704242509224e-06,\n",
       " u'vipers': 8.763704242509224e-06,\n",
       " u'annunzio': 1.7527408485018448e-05,\n",
       " u'lillian': 8.763704242509224e-06,\n",
       " u'renditions': 8.763704242509224e-06,\n",
       " u'debut': 1.7527408485018448e-05,\n",
       " u'schaedler': 8.763704242509224e-06,\n",
       " u'abounds': 8.763704242509224e-06,\n",
       " u'verblijf': 8.763704242509224e-06,\n",
       " u'grammatica': 8.763704242509224e-06,\n",
       " u'gerrards': 8.763704242509224e-06,\n",
       " u'naction': 8.763704242509224e-06,\n",
       " u'burial': 4.381852121254612e-05,\n",
       " u'preceded': 8.763704242509224e-06,\n",
       " u'whim': 8.763704242509224e-06,\n",
       " u'financial': 0.00012269185939512914,\n",
       " u'directly': 8.763704242509224e-05,\n",
       " u'archetypes': 8.763704242509224e-06,\n",
       " u'concord': 0.00017527408485018447,\n",
       " u'tantalisingly': 8.763704242509224e-06,\n",
       " u'series': 0.0008325519030383762,\n",
       " u'spider': 8.763704242509224e-06,\n",
       " u'solution': 4.381852121254612e-05,\n",
       " u'nparadoks': 1.7527408485018448e-05,\n",
       " u'precedes': 1.7527408485018448e-05,\n",
       " u'nporte': 8.763704242509224e-06,\n",
       " u'impossible': 0.00019280149333520292,\n",
       " u'substantially': 1.7527408485018448e-05,\n",
       " u'laboratory': 5.258222545505534e-05,\n",
       " u'message': 2.629111272752767e-05,\n",
       " u'borne': 8.763704242509224e-06,\n",
       " u'uncollected': 2.629111272752767e-05,\n",
       " u'literature': 0.0015336482424391142,\n",
       " u'diction': 1.7527408485018448e-05,\n",
       " u'recognising': 8.763704242509224e-06,\n",
       " u'urbana': 8.763704242509224e-06,\n",
       " u'sms': 1.7527408485018448e-05,\n",
       " u'mason': 2.629111272752767e-05,\n",
       " u'rd': 5.258222545505534e-05,\n",
       " u'dso': 8.763704242509224e-06,\n",
       " u'encourage': 2.629111272752767e-05,\n",
       " u'phaedo': 8.763704242509224e-06,\n",
       " u'adapt': 1.7527408485018448e-05,\n",
       " u'noica': 8.763704242509224e-06,\n",
       " u'jalo': 8.763704242509224e-06,\n",
       " u'millions': 8.763704242509224e-06,\n",
       " u'outburst': 8.763704242509224e-06,\n",
       " u'foundation': 0.00035931187394287815,\n",
       " u'compl\\xe8tes': 1.7527408485018448e-05,\n",
       " u'ronsard': 8.763704242509224e-06,\n",
       " u'imamichi': 3.5054816970036896e-05,\n",
       " u'ngerms': 8.763704242509224e-06,\n",
       " u'anonymously': 3.5054816970036896e-05,\n",
       " u'dracula': 2.629111272752767e-05,\n",
       " u'lanham': 8.763704242509224e-06,\n",
       " u'threatened': 3.5054816970036896e-05,\n",
       " u'given': 0.0005258222545505534,\n",
       " u'yesterday': 2.629111272752767e-05,\n",
       " u'sensory': 5.258222545505534e-05,\n",
       " u'aachen': 8.763704242509224e-06,\n",
       " u'ian': 4.381852121254612e-05,\n",
       " u'encountering': 8.763704242509224e-06,\n",
       " u'grapes': 8.763704242509224e-06,\n",
       " u'fht': 8.763704242509224e-06,\n",
       " u'basest': 8.763704242509224e-06,\n",
       " u'crowned': 8.763704242509224e-06,\n",
       " u'estimate': 1.7527408485018448e-05,\n",
       " u'nintroduction': 1.7527408485018448e-05,\n",
       " u'knit': 8.763704242509224e-06,\n",
       " u'universally': 8.763704242509224e-06,\n",
       " u'triumphbogen': 8.763704242509224e-06,\n",
       " u'romanticists': 1.7527408485018448e-05,\n",
       " u'bates': 8.763704242509224e-06,\n",
       " u'\\u0431\\u0435\\u043b\\u0438': 8.763704242509224e-06,\n",
       " u'lucina': 1.7527408485018448e-05,\n",
       " u'plastik': 8.763704242509224e-06,\n",
       " u'kashmir': 8.763704242509224e-06,\n",
       " u'abetz': 8.763704242509224e-06,\n",
       " u'polanyi': 8.763704242509224e-06,\n",
       " u'shelved': 8.763704242509224e-06,\n",
       " u'ministries': 8.763704242509224e-06,\n",
       " u'shipped': 8.763704242509224e-06,\n",
       " u'musicians': 8.763704242509224e-05,\n",
       " u'endarkenment': 8.763704242509224e-06,\n",
       " u'naturalism': 8.763704242509224e-05,\n",
       " u'divorcing': 8.763704242509224e-06,\n",
       " u'reserving': 8.763704242509224e-06,\n",
       " u'mendacity': 8.763704242509224e-06,\n",
       " u'symbolize': 8.763704242509224e-06,\n",
       " u'nboring': 8.763704242509224e-06,\n",
       " u'favoured': 1.7527408485018448e-05,\n",
       " u'samizdat': 8.763704242509224e-06,\n",
       " u'angelic': 8.763704242509224e-06,\n",
       " u'psychic': 3.5054816970036896e-05,\n",
       " u'subtlety': 8.763704242509224e-06,\n",
       " u'flower': 1.7527408485018448e-05,\n",
       " u'reciprocally': 1.7527408485018448e-05,\n",
       " u'niccole': 8.763704242509224e-06,\n",
       " u'visited': 0.00015774667636516603,\n",
       " u'instruct': 8.763704242509224e-06,\n",
       " u'belley': 2.629111272752767e-05,\n",
       " u'nfoldy': 8.763704242509224e-06,\n",
       " u'hear': 0.00010516445091011068,\n",
       " u'f\\xfcr': 0.00010516445091011068,\n",
       " u'nnarratives': 8.763704242509224e-06,\n",
       " u'b\\xfcrger': 8.763704242509224e-06,\n",
       " u'njuvenilia': 8.763704242509224e-06,\n",
       " u'nconversations': 8.763704242509224e-06,\n",
       " u'renovated': 1.7527408485018448e-05,\n",
       " u'service': 0.0002453837187902583,\n",
       " u'similarly': 7.887333818258301e-05,\n",
       " u'xii': 3.5054816970036896e-05,\n",
       " u'lawsuits': 8.763704242509224e-06,\n",
       " u'contralto': 8.763704242509224e-06,\n",
       " u'cooling': 8.763704242509224e-06,\n",
       " u'stack': 6.134592969756457e-05,\n",
       " u'needed': 0.00014021926788014758,\n",
       " u'master': 0.0001840377890926937,\n",
       " u'listed': 3.5054816970036896e-05,\n",
       " u'xiv': 2.629111272752767e-05,\n",
       " u'dogmas': 8.763704242509224e-06,\n",
       " u'xix': 8.763704242509224e-06,\n",
       " u'nluther': 8.763704242509224e-06,\n",
       " u'gilbert': 9.640074666760146e-05,\n",
       " u'euro': 8.763704242509224e-06,\n",
       " u'bitter': 4.381852121254612e-05,\n",
       " u'genesis': 3.5054816970036896e-05,\n",
       " u'hewitt': 8.763704242509224e-06,\n",
       " u'n\\xe9loge': 8.763704242509224e-06,\n",
       " u'danish': 7.010963394007379e-05,\n",
       " u'rewards': 3.5054816970036896e-05,\n",
       " u'ganze': 8.763704242509224e-06,\n",
       " u'collapse': 1.7527408485018448e-05,\n",
       " u'geneva': 1.7527408485018448e-05,\n",
       " u'quotidiana': 8.763704242509224e-06,\n",
       " u'bacon': 8.763704242509224e-06,\n",
       " u'bounty': 8.763704242509224e-06,\n",
       " u'jtdei': 8.763704242509224e-06,\n",
       " u'satisfaction': 3.5054816970036896e-05,\n",
       " u'wisdom': 9.640074666760146e-05,\n",
       " u'atalanta': 2.629111272752767e-05,\n",
       " u'task': 9.640074666760146e-05,\n",
       " u'predictable': 8.763704242509224e-06,\n",
       " u'beaconsfield': 8.763704242509224e-06,\n",
       " u'temporels': 8.763704242509224e-06,\n",
       " u'guy_sircello': 8.763704242509224e-06,\n",
       " u'foregone': 8.763704242509224e-06,\n",
       " u'darboven': 8.763704242509224e-06,\n",
       " u'abstracted': 1.7527408485018448e-05,\n",
       " u'white': 0.00014021926788014758,\n",
       " u'positively': 2.629111272752767e-05,\n",
       " u'oxfordreference': 8.763704242509224e-06,\n",
       " u'ahmed': 8.763704242509224e-06,\n",
       " u'peril': 8.763704242509224e-06,\n",
       " u'rabbi': 8.763704242509224e-06,\n",
       " u'showed': 9.640074666760146e-05,\n",
       " u'kreeg': 8.763704242509224e-06,\n",
       " u'duckworth': 2.629111272752767e-05,\n",
       " u'diario': 8.763704242509224e-06,\n",
       " u'tree': 5.258222545505534e-05,\n",
       " u'newnham': 8.763704242509224e-06,\n",
       " u'nations': 0.00010516445091011068,\n",
       " u'project': 0.000508294846065535,\n",
       " u'pneumonia': 8.763704242509224e-06,\n",
       " u'idle': 2.629111272752767e-05,\n",
       " u'absence': 6.134592969756457e-05,\n",
       " u'skimmed': 8.763704242509224e-06,\n",
       " u'florida': 3.5054816970036896e-05,\n",
       " u'l\\xf6wen': 8.763704242509224e-06,\n",
       " u'morphet': 8.763704242509224e-06,\n",
       " u'feeling': 0.0002892022400028044,\n",
       " u'acquisition': 1.7527408485018448e-05,\n",
       " u'haym': 8.763704242509224e-06,\n",
       " u'goya': 1.7527408485018448e-05,\n",
       " u'unintended': 8.763704242509224e-06,\n",
       " u'acclaim': 2.629111272752767e-05,\n",
       " u'napalm': 8.763704242509224e-06,\n",
       " u'ngedanken': 8.763704242509224e-06,\n",
       " u'runner': 8.763704242509224e-06,\n",
       " u'boston': 0.00035931187394287815,\n",
       " u'chaki': 8.763704242509224e-06,\n",
       " u'spectrum': 8.763704242509224e-06,\n",
       " u'viadrinarum': 8.763704242509224e-06,\n",
       " u'selflessness': 1.7527408485018448e-05,\n",
       " u'cryptograms': 8.763704242509224e-06,\n",
       " u'arousal': 8.763704242509224e-06,\n",
       " u'niccol\\xf2': 1.7527408485018448e-05,\n",
       " u'michelangiolo': 8.763704242509224e-06,\n",
       " u'sailed': 2.629111272752767e-05,\n",
       " u'alive': 5.258222545505534e-05,\n",
       " u'dozen': 5.258222545505534e-05,\n",
       " u'foundational': 8.763704242509224e-06,\n",
       " u'affairs': 6.134592969756457e-05,\n",
       " u'chanussot': 8.763704242509224e-06,\n",
       " u'concrete': 6.134592969756457e-05,\n",
       " u'\\u5289\\u52f0': 8.763704242509224e-06,\n",
       " u'responsible': 4.381852121254612e-05,\n",
       " u'eagerly': 1.7527408485018448e-05,\n",
       " u'recommended': 4.381852121254612e-05,\n",
       " u'causing': 2.629111272752767e-05,\n",
       " u'absorbed': 1.7527408485018448e-05,\n",
       " u'amusing': 8.763704242509224e-06,\n",
       " u'affaire': 1.7527408485018448e-05,\n",
       " u'grips': 8.763704242509224e-06,\n",
       " u'georg_mehlis': 8.763704242509224e-06,\n",
       " u'publicatie': 8.763704242509224e-06,\n",
       " u'henge': 1.7527408485018448e-05,\n",
       " u'zebras': 8.763704242509224e-06,\n",
       " u'nmurray': 8.763704242509224e-06,\n",
       " u'shall': 5.258222545505534e-05,\n",
       " u'thrilled': 8.763704242509224e-06,\n",
       " u'kristeva': 8.763704242509224e-06,\n",
       " u'nfinnegans': 8.763704242509224e-06,\n",
       " u'object': 0.0003768392824278966,\n",
       " u'cinematic': 8.763704242509224e-06,\n",
       " u'victoria': 3.5054816970036896e-05,\n",
       " u'simplify': 8.763704242509224e-06,\n",
       " u'affirmation': 1.7527408485018448e-05,\n",
       " u'gallagher': 1.7527408485018448e-05,\n",
       " u'cummings': 1.7527408485018448e-05,\n",
       " u'letter': 0.0003330207612153505,\n",
       " u'organization': 9.640074666760146e-05,\n",
       " u'retaining': 8.763704242509224e-06,\n",
       " u'allegorical': 1.7527408485018448e-05,\n",
       " u'linguistica': 1.7527408485018448e-05,\n",
       " u'morality': 0.0001489829721226568,\n",
       " u'singer': 3.5054816970036896e-05,\n",
       " u'episode': 7.010963394007379e-05,\n",
       " u'classicist': 1.7527408485018448e-05,\n",
       " u'grove': 4.381852121254612e-05,\n",
       " u'professor': 0.001139281551526199,\n",
       " u'camp': 8.763704242509224e-06,\n",
       " u'nchristian': 3.5054816970036896e-05,\n",
       " u'regulative': 8.763704242509224e-06,\n",
       " u'tech': 3.5054816970036896e-05,\n",
       " u'bront\\xeb': 8.763704242509224e-06,\n",
       " u'kinematograph': 8.763704242509224e-06,\n",
       " u'nineteenth': 0.00010516445091011068,\n",
       " u'bateman': 8.763704242509224e-06,\n",
       " u'came': 0.000508294846065535,\n",
       " u'classicism': 8.763704242509224e-05,\n",
       " u'winther': 8.763704242509224e-06,\n",
       " u'saying': 0.00021032890182022136,\n",
       " u'bomb': 3.5054816970036896e-05,\n",
       " u'sorel': 8.763704242509224e-06,\n",
       " u'nhelmholtz': 8.763704242509224e-06,\n",
       " u'insects': 8.763704242509224e-06,\n",
       " u'\\u0101nandavardhana': 4.381852121254612e-05,\n",
       " u'meetings': 8.763704242509224e-06,\n",
       " u'hus': 1.7527408485018448e-05,\n",
       " u'teresa': 3.5054816970036896e-05,\n",
       " u'bonnie': 8.763704242509224e-06,\n",
       " u'nominated': 4.381852121254612e-05,\n",
       " u'prix': 2.629111272752767e-05,\n",
       " u'nsidgwick': 8.763704242509224e-06,\n",
       " u'ulcer': 8.763704242509224e-06,\n",
       " u'participate': 7.010963394007379e-05,\n",
       " u'hungary': 0.00010516445091011068,\n",
       " u'reinvented': 8.763704242509224e-06,\n",
       " u'schmid': 8.763704242509224e-06,\n",
       " u'pastoral': 1.7527408485018448e-05,\n",
       " u'lessons': 0.00012269185939512914,\n",
       " u'lafontaine': 8.763704242509224e-06,\n",
       " u'busy': 4.381852121254612e-05,\n",
       " u'hedley': 8.763704242509224e-06,\n",
       " u'excavator': 1.7527408485018448e-05,\n",
       " u'lights': 3.5054816970036896e-05,\n",
       " u'cousins': 1.7527408485018448e-05,\n",
       " u'worksheets': 8.763704242509224e-06,\n",
       " u'benedetto_croce': 8.763704242509224e-06,\n",
       " u'instrumentalism': 2.629111272752767e-05,\n",
       " u'maturation': 8.763704242509224e-06,\n",
       " u'bush': 1.7527408485018448e-05,\n",
       " u'meno': 8.763704242509224e-06,\n",
       " u'bliss': 1.7527408485018448e-05,\n",
       " u'touched': 7.010963394007379e-05,\n",
       " u'rich': 9.640074666760146e-05,\n",
       " u'instrumentalist': 8.763704242509224e-06,\n",
       " u'nambros': 8.763704242509224e-06,\n",
       " u'ruggiero': 8.763704242509224e-06,\n",
       " u'rice': 4.381852121254612e-05,\n",
       " u'sieg': 8.763704242509224e-06,\n",
       " u'emphatically': 8.763704242509224e-06,\n",
       " u'lady': 0.00014021926788014758,\n",
       " u'plate': 8.763704242509224e-06,\n",
       " u'nkitaeff': 8.763704242509224e-06,\n",
       " u'cheng': 8.763704242509224e-06,\n",
       " u'klein': 8.763704242509224e-06,\n",
       " u'ntraugott': 8.763704242509224e-06,\n",
       " u'plato': 0.00030672964848782285,\n",
       " u'jitka': 8.763704242509224e-06,\n",
       " u'n\\xe9e': 5.258222545505534e-05,\n",
       " u'sprache': 8.763704242509224e-06,\n",
       " u'nstate': 8.763704242509224e-06,\n",
       " u'professionalization': 8.763704242509224e-06,\n",
       " u'spirit': 0.0003680755781853874,\n",
       " u'altogether': 1.7527408485018448e-05,\n",
       " u'relish': 1.7527408485018448e-05,\n",
       " u'platz': 1.7527408485018448e-05,\n",
       " u'societies': 6.134592969756457e-05,\n",
       " u'radiguet': 8.763704242509224e-06,\n",
       " u'contributes': 8.763704242509224e-06,\n",
       " u'textbooks': 3.5054816970036896e-05,\n",
       " u'boarder': 8.763704242509224e-06,\n",
       " u'problematiek': 8.763704242509224e-06,\n",
       " u'motion': 0.00012269185939512914,\n",
       " u'xinhao': 8.763704242509224e-06,\n",
       " u'greene': 1.7527408485018448e-05,\n",
       " u'praelectiones': 8.763704242509224e-06,\n",
       " u'tomin': 8.763704242509224e-06,\n",
       " u'schaurek': 8.763704242509224e-06,\n",
       " u'release': 6.134592969756457e-05,\n",
       " u'saul': 2.629111272752767e-05,\n",
       " u'respond': 3.5054816970036896e-05,\n",
       " u'conant': 8.763704242509224e-06,\n",
       " u'programmatic': 8.763704242509224e-06,\n",
       " u'devizes': 8.763704242509224e-06,\n",
       " u'disaster': 4.381852121254612e-05,\n",
       " u'fair': 2.629111272752767e-05,\n",
       " u'clarified': 1.7527408485018448e-05,\n",
       " u'peripheral': 1.7527408485018448e-05,\n",
       " u'guerre': 4.381852121254612e-05,\n",
       " u'evolving': 2.629111272752767e-05,\n",
       " u'unexpectedly': 8.763704242509224e-06,\n",
       " u'coleridge': 7.887333818258301e-05,\n",
       " u'tyndale': 8.763704242509224e-06,\n",
       " u'etienne_gilson': 8.763704242509224e-06,\n",
       " u'radius': 8.763704242509224e-06,\n",
       " u'result': 0.0002892022400028044,\n",
       " u'fail': 3.5054816970036896e-05,\n",
       " u'news': 0.00010516445091011068,\n",
       " u'resigned': 4.381852121254612e-05,\n",
       " u'hammer': 8.763704242509224e-06,\n",
       " u'best': 0.0006923326351582287,\n",
       " u'abdication': 8.763704242509224e-06,\n",
       " u'\\u1f55\\u03c8\\u03bf\\u03c5\\u03c2': 8.763704242509224e-06,\n",
       " u'ambitions': 8.763704242509224e-06,\n",
       " u'lots': 8.763704242509224e-06,\n",
       " u'nraison': 8.763704242509224e-06,\n",
       " u'reporter': 8.763704242509224e-06,\n",
       " u'rings': 8.763704242509224e-06,\n",
       " u'kind': 0.00017527408485018447,\n",
       " u'jenaer': 8.763704242509224e-06,\n",
       " u'xvi': 8.763704242509224e-06,\n",
       " u'pressures': 8.763704242509224e-06,\n",
       " u'imperfections': 1.7527408485018448e-05,\n",
       " u'score': 9.640074666760146e-05,\n",
       " u'humankind': 1.7527408485018448e-05,\n",
       " u'melissa': 1.7527408485018448e-05,\n",
       " u'conceptual': 0.00012269185939512914,\n",
       " u'author': 0.0007887333818258302,\n",
       " u'pirate': 8.763704242509224e-06,\n",
       " u'preserve': 5.258222545505534e-05,\n",
       " u'never': 0.0006923326351582287,\n",
       " u'parallels': 8.763704242509224e-06,\n",
       " u'extend': 2.629111272752767e-05,\n",
       " u'nature': 0.000981534875161033,\n",
       " u'rolled': 8.763704242509224e-06,\n",
       " u'invigorated': 8.763704242509224e-06,\n",
       " u'aesthetic': 0.0016563401018342434,\n",
       " u'inextricable': 8.763704242509224e-06,\n",
       " u'superficial': 1.7527408485018448e-05,\n",
       " u'nbronson': 8.763704242509224e-06,\n",
       " u'paddington': 8.763704242509224e-06,\n",
       " u'cards': 8.763704242509224e-06,\n",
       " u'nwoo': 8.763704242509224e-06,\n",
       " u'extent': 0.00012269185939512914,\n",
       " u'toles': 8.763704242509224e-06,\n",
       " u'debt': 5.258222545505534e-05,\n",
       " u'literackie': 8.763704242509224e-06,\n",
       " u'arthritis': 2.629111272752767e-05,\n",
       " u'tyranny': 2.629111272752767e-05,\n",
       " u'specialise': 8.763704242509224e-06,\n",
       " u'accident': 7.010963394007379e-05,\n",
       " u'sacrificing': 8.763704242509224e-06,\n",
       " u'reported': 7.887333818258301e-05,\n",
       " u'country': 0.0001840377890926937,\n",
       " u'conclusions': 8.763704242509224e-06,\n",
       " u'adventurer': 8.763704242509224e-06,\n",
       " u'nistv\\xe1n': 8.763704242509224e-06,\n",
       " u'edgar': 0.0005433496630355719,\n",
       " u'orwell': 2.629111272752767e-05,\n",
       " u'stuttgart': 2.629111272752767e-05,\n",
       " u'estates': 8.763704242509224e-06,\n",
       " u'planned': 7.887333818258301e-05,\n",
       " u'normandy': 8.763704242509224e-06,\n",
       " u'logic': 0.00038560298667040583,\n",
       " u'als': 4.381852121254612e-05,\n",
       " u'federalism': 8.763704242509224e-06,\n",
       " u'argue': 5.258222545505534e-05,\n",
       " u'adapted': 2.629111272752767e-05,\n",
       " u'asked': 0.0002979659442453136,\n",
       " u'fearlessly': 8.763704242509224e-06,\n",
       " u'nbaltimore': 8.763704242509224e-06,\n",
       " u'obscenity': 8.763704242509224e-06,\n",
       " u'nmaedastudio': 8.763704242509224e-06,\n",
       " u'nsome': 6.134592969756457e-05,\n",
       " u'vain': 8.763704242509224e-06,\n",
       " u'giuseppina': 8.763704242509224e-06,\n",
       " u'meaningfulness': 8.763704242509224e-06,\n",
       " u'dorm': 8.763704242509224e-06,\n",
       " u'framework': 8.763704242509224e-05,\n",
       " u'retelling': 8.763704242509224e-06,\n",
       " u'pregnancy': 8.763704242509224e-06,\n",
       " u'hoogleraar': 1.7527408485018448e-05,\n",
       " u'organisational': 8.763704242509224e-06,\n",
       " u'ngerhardt': 8.763704242509224e-06,\n",
       " u'pillars': 1.7527408485018448e-05,\n",
       " u'fra': 8.763704242509224e-06,\n",
       " u'nkansaspress': 8.763704242509224e-06,\n",
       " u'etranger': 8.763704242509224e-06,\n",
       " u'union': 0.00017527408485018447,\n",
       " u'gewoon': 8.763704242509224e-06,\n",
       " u'criticised': 6.134592969756457e-05,\n",
       " u'communicants': 8.763704242509224e-06,\n",
       " u'muck': 1.7527408485018448e-05,\n",
       " u'much': 0.0008851341284934316,\n",
       " u'fru': 8.763704242509224e-06,\n",
       " u'privilege': 8.763704242509224e-06,\n",
       " u'criticises': 3.5054816970036896e-05,\n",
       " u'ra\\xefssa': 7.010963394007379e-05,\n",
       " u'choniates': 8.763704242509224e-06,\n",
       " u'angkor': 3.5054816970036896e-05,\n",
       " u'location': 2.629111272752767e-05,\n",
       " u'europeras': 8.763704242509224e-06,\n",
       " u'life': 0.0028306764703304793,\n",
       " u'electrocution': 8.763704242509224e-06,\n",
       " u'sydney': 0.00022785631030523983,\n",
       " u'eastern': 9.640074666760146e-05,\n",
       " u'menschengeschlechts': 1.7527408485018448e-05,\n",
       " u'depravity': 8.763704242509224e-06,\n",
       " u'brzenk': 8.763704242509224e-06,\n",
       " u'irving': 8.763704242509224e-06,\n",
       " u'zich': 8.763704242509224e-06,\n",
       " u'filmmaker': 3.5054816970036896e-05,\n",
       " u'schloss': 8.763704242509224e-06,\n",
       " u'cuny': 8.763704242509224e-06,\n",
       " u'regaled': 8.763704242509224e-06,\n",
       " u'doubts': 8.763704242509224e-06,\n",
       " u'worked': 0.000429421507882952,\n",
       " u'diue': 8.763704242509224e-06,\n",
       " u'lives': 0.00012269185939512914,\n",
       " u't\\xeate': 8.763704242509224e-06,\n",
       " u'adaptations': 3.5054816970036896e-05,\n",
       " u'presidency': 4.381852121254612e-05,\n",
       " u'episcopal': 8.763704242509224e-06,\n",
       " u'ada': 8.763704242509224e-06,\n",
       " u'gerhart': 8.763704242509224e-06,\n",
       " u'professionally': 2.629111272752767e-05,\n",
       " u'fabbriciani': 8.763704242509224e-06,\n",
       " u'employ': 2.629111272752767e-05,\n",
       " u'contemplates': 8.763704242509224e-06,\n",
       " u'symbolically': 8.763704242509224e-06,\n",
       " u'viii': 8.763704242509224e-06,\n",
       " u'linguagem': 8.763704242509224e-06,\n",
       " u'suspense': 8.763704242509224e-06,\n",
       " u'cosmique': 8.763704242509224e-06,\n",
       " u'tibor': 8.763704242509224e-06,\n",
       " u'nnaturphilosophische': 1.7527408485018448e-05,\n",
       " u'posited': 5.258222545505534e-05,\n",
       " u'remembering': 1.7527408485018448e-05,\n",
       " u'kunsthalle': 8.763704242509224e-06,\n",
       " u'surprises': 8.763704242509224e-06,\n",
       " u'grenzen': 1.7527408485018448e-05,\n",
       " u'played': 0.00020156519757771215,\n",
       " u'duchamp': 5.258222545505534e-05,\n",
       " u'elmira': 1.7527408485018448e-05,\n",
       " u'characterize': 1.7527408485018448e-05,\n",
       " u'overpowers': 8.763704242509224e-06,\n",
       " u'eighteen': 4.381852121254612e-05,\n",
       " u'anticipating': 1.7527408485018448e-05,\n",
       " u'koht': 8.763704242509224e-06,\n",
       " u'chiaroscuro': 8.763704242509224e-06,\n",
       " u'madonna': 2.629111272752767e-05,\n",
       " u'geach': 1.7527408485018448e-05,\n",
       " u'trusted': 4.381852121254612e-05,\n",
       " u'trustee': 2.629111272752767e-05,\n",
       " u'bricklayer': 8.763704242509224e-06,\n",
       " u'rapprochement': 8.763704242509224e-06,\n",
       " u'damaged': 8.763704242509224e-06,\n",
       " u'memoriam': 8.763704242509224e-06,\n",
       " u'severity': 1.7527408485018448e-05,\n",
       " u'opgevoerd': 8.763704242509224e-06,\n",
       " u'credit': 1.7527408485018448e-05,\n",
       " u'things': 0.0004820037333380073,\n",
       " u'reflectively': 8.763704242509224e-06,\n",
       " u'toaster': 2.629111272752767e-05,\n",
       " u'nworks': 0.0006572778181881917,\n",
       " u'rebellion': 5.258222545505534e-05,\n",
       " u'pierrot': 8.763704242509224e-06,\n",
       " u'chambermaid': 8.763704242509224e-06,\n",
       " u'eldridge': 8.763704242509224e-06,\n",
       " u'harmony': 0.00015774667636516603,\n",
       " u'babies': 1.7527408485018448e-05,\n",
       " u'phenomenology': 4.381852121254612e-05,\n",
       " u'elliott': 1.7527408485018448e-05,\n",
       " u'principals': 8.763704242509224e-06,\n",
       " u'hony': 8.763704242509224e-06,\n",
       " u'junge': 1.7527408485018448e-05,\n",
       " u'european': 0.00023662001454774904,\n",
       " u'voyager': 8.763704242509224e-06,\n",
       " u'fairly': 2.629111272752767e-05,\n",
       " u'andr\\xe1s': 8.763704242509224e-06,\n",
       " u'inadvertently': 8.763704242509224e-06,\n",
       " u'kushner': 8.763704242509224e-06,\n",
       " u'typhoid': 8.763704242509224e-06,\n",
       " u'frenchmen': 1.7527408485018448e-05,\n",
       " u'flippancy': 8.763704242509224e-06,\n",
       " u'qualifications': 2.629111272752767e-05,\n",
       " u'workforce': 3.5054816970036896e-05,\n",
       " u'emanating': 8.763704242509224e-06,\n",
       " u'effectively': 5.258222545505534e-05,\n",
       " u'slovenia': 8.763704242509224e-06,\n",
       " u'preachy': 8.763704242509224e-06,\n",
       " u'sanskritists': 1.7527408485018448e-05,\n",
       " u'supper': 2.629111272752767e-05,\n",
       " u'geist': 1.7527408485018448e-05,\n",
       " u'lycos': 8.763704242509224e-06,\n",
       " u'euphorion': 1.7527408485018448e-05,\n",
       " u'biographie': 8.763704242509224e-06,\n",
       " u'dodecaphony': 8.763704242509224e-06,\n",
       " u'ngarrison': 8.763704242509224e-06,\n",
       " u'adolescents': 8.763704242509224e-06,\n",
       " u'disseminated': 8.763704242509224e-06,\n",
       " u'maxims': 8.763704242509224e-06,\n",
       " u'haag': 8.763704242509224e-06,\n",
       " u'academic': 0.0004995311418230258,\n",
       " u'academia': 1.7527408485018448e-05,\n",
       " u'telephone': 8.763704242509224e-06,\n",
       " u'quantitative': 1.7527408485018448e-05,\n",
       " u'maxime': 8.763704242509224e-06,\n",
       " u'corporate': 1.7527408485018448e-05,\n",
       " u'plaque': 5.258222545505534e-05,\n",
       " u'eroticism': 8.763704242509224e-06,\n",
       " u'opinions': 9.640074666760146e-05,\n",
       " u'spurred': 8.763704242509224e-06,\n",
       " u'boyhood': 1.7527408485018448e-05,\n",
       " u'wahl': 8.763704242509224e-06,\n",
       " u'etica': 8.763704242509224e-06,\n",
       " u'appropriately': 8.763704242509224e-06,\n",
       " u'publiceren': 8.763704242509224e-06,\n",
       " u'distribute': 8.763704242509224e-06,\n",
       " u'sleepy': 8.763704242509224e-06,\n",
       " u'fantastic': 3.5054816970036896e-05,\n",
       " u'nsade': 8.763704242509224e-06,\n",
       " u'beset': 8.763704242509224e-06,\n",
       " u'financially': 3.5054816970036896e-05,\n",
       " u'birmingham': 8.763704242509224e-06,\n",
       " u'subdued': 8.763704242509224e-06,\n",
       " u'tomorrowland': 8.763704242509224e-06,\n",
       " u'divination': 2.629111272752767e-05,\n",
       " u'amusingly': 8.763704242509224e-06,\n",
       " u'previous': 8.763704242509224e-05,\n",
       " u'sta\\xebl': 2.629111272752767e-05,\n",
       " u'enters': 8.763704242509224e-06,\n",
       " u'dialogues': 0.00017527408485018447,\n",
       " u'rosenberg': 2.629111272752767e-05,\n",
       " u'phillips': 1.7527408485018448e-05,\n",
       " u'mechner': 8.763704242509224e-06,\n",
       " u'advancement': 5.258222545505534e-05,\n",
       " u'woodstock': 8.763704242509224e-06,\n",
       " u'nattribution': 4.381852121254612e-05,\n",
       " u'macdonald': 1.7527408485018448e-05,\n",
       " u'criticise': 8.763704242509224e-06,\n",
       " u'collections': 0.0001840377890926937,\n",
       " u'noutlines': 1.7527408485018448e-05,\n",
       " u'innocent': 2.629111272752767e-05,\n",
       " u'prison': 0.00017527408485018447,\n",
       " u'falter': 8.763704242509224e-06,\n",
       " u'mar': 2.629111272752767e-05,\n",
       " u'shoemaker': 1.7527408485018448e-05,\n",
       " u'east': 0.0001489829721226568,\n",
       " u'hat': 8.763704242509224e-06,\n",
       " u'tugendhat': 8.763704242509224e-06,\n",
       " u'elevation': 3.5054816970036896e-05,\n",
       " u'municipal': 8.763704242509224e-06,\n",
       " u'audiobooks': 0.00014021926788014758,\n",
       " u'elders': 8.763704242509224e-06,\n",
       " u'survival': 8.763704242509224e-06,\n",
       " u'nazareth': 8.763704242509224e-06,\n",
       " u'posed': 8.763704242509224e-06,\n",
       " u'possible': 0.00031549335273033205,\n",
       " u'possibly': 6.134592969756457e-05,\n",
       " u'rocket': 8.763704242509224e-06,\n",
       " u'indicative': 8.763704242509224e-06,\n",
       " u'birth': 0.00014021926788014758,\n",
       " u'prescientific': 8.763704242509224e-06,\n",
       " u'pertinent': 8.763704242509224e-06,\n",
       " u'shadow': 7.010963394007379e-05,\n",
       " u'unique': 0.00014021926788014758,\n",
       " u'occurring': 8.763704242509224e-06,\n",
       " u'desire': 0.00023662001454774904,\n",
       " u'arminianism': 8.763704242509224e-06,\n",
       " u'moynihan': 8.763704242509224e-06,\n",
       " u'npaulin': 8.763704242509224e-06,\n",
       " u'deviance': 1.7527408485018448e-05,\n",
       " u'gade': 8.763704242509224e-06,\n",
       " u'seaside': 8.763704242509224e-06,\n",
       " u'burnaby': 8.763704242509224e-06,\n",
       " u'alice': 4.381852121254612e-05,\n",
       " u'niels': 8.763704242509224e-06,\n",
       " u'madhya': 8.763704242509224e-06,\n",
       " u'steps': 2.629111272752767e-05,\n",
       " u'experimentally': 8.763704242509224e-06,\n",
       " u'prologue': 1.7527408485018448e-05,\n",
       " u'namerican': 7.887333818258301e-05,\n",
       " u'sebastian': 7.887333818258301e-05,\n",
       " u'nhaving': 1.7527408485018448e-05,\n",
       " u'nvery': 8.763704242509224e-06,\n",
       " u'nbiographical': 8.763704242509224e-06,\n",
       " u'right': 0.00023662001454774904,\n",
       " u'old': 0.0005170585503080442,\n",
       " u'drowned': 1.7527408485018448e-05,\n",
       " u'crowd': 8.763704242509224e-06,\n",
       " u'people': 0.0006397504097031733,\n",
       " u'czech': 6.134592969756457e-05,\n",
       " u'creed': 6.134592969756457e-05,\n",
       " u'kojs': 8.763704242509224e-06,\n",
       " u'crown': 4.381852121254612e-05,\n",
       " u'santiago': 1.7527408485018448e-05,\n",
       " u'athlone': 8.763704242509224e-06,\n",
       " u'crows': 8.763704242509224e-06,\n",
       " u'bolshevism': 8.763704242509224e-06,\n",
       " u'dorian': 9.640074666760146e-05,\n",
       " u'schandorph': 8.763704242509224e-06,\n",
       " u'insistence': 4.381852121254612e-05,\n",
       " u'baroda': 0.00013145556363763835,\n",
       " u'harassment': 8.763704242509224e-06,\n",
       " u'fearless': 8.763704242509224e-06,\n",
       " u'enemies': 1.7527408485018448e-05,\n",
       " u'ncarlo': 1.7527408485018448e-05,\n",
       " u'sociology': 3.5054816970036896e-05,\n",
       " u'botton': 8.763704242509224e-06,\n",
       " u'preconceived': 8.763704242509224e-06,\n",
       " u'bottom': 2.629111272752767e-05,\n",
       " u'fox': 7.010963394007379e-05,\n",
       " u'tugendlehre': 8.763704242509224e-06,\n",
       " u'creative': 0.0002629111272752767,\n",
       " u'contributing': 7.887333818258301e-05,\n",
       " u'continue': 0.00012269185939512914,\n",
       " u'exposition': 2.629111272752767e-05,\n",
       " u'periphery': 8.763704242509224e-06,\n",
       " u'summoned': 2.629111272752767e-05,\n",
       " u'treadmill': 8.763704242509224e-06,\n",
       " u'umi': 8.763704242509224e-06,\n",
       " u'foi': 8.763704242509224e-06,\n",
       " u'theological': 0.00014021926788014758,\n",
       " u'nbarnard': 8.763704242509224e-06,\n",
       " u'nsecondary': 8.763704242509224e-06,\n",
       " u'annam': 8.763704242509224e-06,\n",
       " u'rep': 8.763704242509224e-06,\n",
       " u'marschner': 8.763704242509224e-06,\n",
       " u'betrayal': 8.763704242509224e-06,\n",
       " u'stefan': 1.7527408485018448e-05,\n",
       " u'eduard': 7.887333818258301e-05,\n",
       " ...}"
      ]
     },
     "execution_count": 29,
     "metadata": {},
     "output_type": "execute_result"
    }
   ],
   "source": [
    "aest_dict"
   ]
  },
  {
   "cell_type": "code",
   "execution_count": null,
   "metadata": {
    "collapsed": false
   },
   "outputs": [],
   "source": []
  },
  {
   "cell_type": "code",
   "execution_count": 30,
   "metadata": {
    "collapsed": false
   },
   "outputs": [],
   "source": [
    "#import math to get log\n",
    "import numpy as np\n",
    "\n",
    "# For every word in each branch, multiply TF by IDF\n",
    "for w in aest_dict:\n",
    "    aest_dict[w] = aest_dict[w]*idf_dict[w]"
   ]
  },
  {
   "cell_type": "code",
   "execution_count": 31,
   "metadata": {
    "collapsed": false
   },
   "outputs": [
    {
     "name": "stdout",
     "output_type": "stream",
     "text": [
      "0.0\n"
     ]
    }
   ],
   "source": [
    "# Weight of frequent word\n",
    "print aest_dict['philosophy']\n"
   ]
  },
  {
   "cell_type": "code",
   "execution_count": 32,
   "metadata": {
    "collapsed": true
   },
   "outputs": [],
   "source": [
    "# For every word in each branch, multiply TF by IDF\n",
    "for w in soc_dict:\n",
    "    soc_dict[w] = soc_dict[w]*idf_dict[w]"
   ]
  },
  {
   "cell_type": "code",
   "execution_count": 33,
   "metadata": {
    "collapsed": false
   },
   "outputs": [
    {
     "data": {
      "text/plain": [
       "0.0"
      ]
     },
     "execution_count": 33,
     "metadata": {},
     "output_type": "execute_result"
    }
   ],
   "source": [
    "soc_dict['philosophy']"
   ]
  },
  {
   "cell_type": "code",
   "execution_count": 34,
   "metadata": {
    "collapsed": true
   },
   "outputs": [],
   "source": [
    "# For every word in each branch, multiply TF by IDF\n",
    "for w in eth_dict:\n",
    "    eth_dict[w] = eth_dict[w]*idf_dict[w]"
   ]
  },
  {
   "cell_type": "code",
   "execution_count": 35,
   "metadata": {
    "collapsed": true
   },
   "outputs": [],
   "source": [
    "# For every word in each branch, multiply TF by IDF\n",
    "for w in epi_dict:\n",
    "    epi_dict[w] = epi_dict[w]*idf_dict[w]"
   ]
  },
  {
   "cell_type": "code",
   "execution_count": 36,
   "metadata": {
    "collapsed": true
   },
   "outputs": [],
   "source": [
    "# For every word in each branch, multiply TF by IDF\n",
    "for w in meta_dict:\n",
    "    meta_dict[w] = meta_dict[w]*idf_dict[w]"
   ]
  },
  {
   "cell_type": "code",
   "execution_count": 37,
   "metadata": {
    "collapsed": true
   },
   "outputs": [],
   "source": [
    "# For every word in each branch, multiply TF by IDF\n",
    "for w in logic_dict:\n",
    "    logic_dict[w] = logic_dict[w]*idf_dict[w]"
   ]
  },
  {
   "cell_type": "markdown",
   "metadata": {},
   "source": [
    "#### Evaluation of result\n",
    "\n",
    "The work is done right as the more frequent word are only weighed with 1 where less frequent words are weighed with a higher amount to compensate for some frequent word having a lesser meaning."
   ]
  },
  {
   "cell_type": "markdown",
   "metadata": {
    "collapsed": true
   },
   "source": [
    "## The word cloud\n",
    "### The package needs a string to work on. The way that I converted my TF-IDF results to a string was to simply combine all words together in one long string (separated by spaces), repeating each word according to its TF-IDF score (rounded up to the nearest integer value)."
   ]
  },
  {
   "cell_type": "code",
   "execution_count": 38,
   "metadata": {
    "collapsed": true
   },
   "outputs": [],
   "source": [
    "import matplotlib.pyplot as plt\n",
    "from wordcloud import WordCloud, STOPWORDS"
   ]
  },
  {
   "cell_type": "code",
   "execution_count": null,
   "metadata": {
    "collapsed": false
   },
   "outputs": [],
   "source": [
    "aest_cloud = \"\"\n",
    "# join all to single string\n",
    "aest_cloud = \" \".join([word for word in aest_tokens])\n",
    "#aest_cloud"
   ]
  },
  {
   "cell_type": "code",
   "execution_count": null,
   "metadata": {
    "collapsed": false
   },
   "outputs": [],
   "source": [
    "#wordcloud = WordCloud(\n",
    "                      stopwords=STOPWORDS,\n",
    "                      background_color='black',\n",
    "                      width=1800,\n",
    "                      height=1400\n",
    "                     ).generate(aest_cloud)\n",
    "\n",
    "plt.imshow(wordcloud)\n",
    "plt.axis('off')\n",
    "plt.savefig('./aest_wordcloud.png', dpi=300)\n",
    "plt.show()"
   ]
  },
  {
   "cell_type": "markdown",
   "metadata": {},
   "source": [
    "### Now, create word-cloud for each branch of philosophy. Feel free to make it as fancy or non-fancy as you like. Comment on the results."
   ]
  },
  {
   "cell_type": "code",
   "execution_count": null,
   "metadata": {
    "collapsed": true
   },
   "outputs": [],
   "source": []
  },
  {
   "cell_type": "code",
   "execution_count": null,
   "metadata": {
    "collapsed": true
   },
   "outputs": [],
   "source": []
  },
  {
   "cell_type": "markdown",
   "metadata": {},
   "source": [
    "## Sentiment Analysis"
   ]
  },
  {
   "cell_type": "code",
   "execution_count": null,
   "metadata": {
    "collapsed": true
   },
   "outputs": [],
   "source": []
  }
 ],
 "metadata": {
  "anaconda-cloud": {},
  "kernelspec": {
   "display_name": "Python [Root]",
   "language": "python",
   "name": "Python [Root]"
  },
  "language_info": {
   "codemirror_mode": {
    "name": "ipython",
    "version": 2
   },
   "file_extension": ".py",
   "mimetype": "text/x-python",
   "name": "python",
   "nbconvert_exporter": "python",
   "pygments_lexer": "ipython2",
   "version": "2.7.12"
  }
 },
 "nbformat": 4,
 "nbformat_minor": 0
}
