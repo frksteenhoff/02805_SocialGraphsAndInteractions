{
 "cells": [
  {
   "cell_type": "markdown",
   "metadata": {},
   "source": [
    "# Week 4 \n",
    "## *Advanced network measures and communities*"
   ]
  },
  {
   "cell_type": "markdown",
   "metadata": {},
   "source": [
    "## Notes to video lectures\n",
    "*Mostly the core concepts to understand*"
   ]
  },
  {
   "cell_type": "markdown",
   "metadata": {},
   "source": [
    "General tool: randomization\n",
    "\n",
    "### Communities\n",
    "\n",
    "\n",
    "#### Cliques (related to communities)\n",
    "* Subgraph where everyone is connected to one another.\n",
    "* Formally: **Maximal completed subgraph**\n",
    "\n",
    "### Centrality\n",
    "Hard to talk about is large graphs, but easy in smaller ones. \n",
    "\n",
    "\n",
    "*Degree Centrality*\n",
    "* The most central node in a network. \n",
    "* How central you are is based on how connected you are.\n",
    "\n",
    "*Closeness Centrality*\n",
    "* The mean geodesic distance (shortest path) between a vertex *v* and all other vertices reachable from it.\n",
    "* *Really expensive to calculate*\n",
    "\n",
    "*Betweenness Centrality*\n",
    "* A centrality measure of a vertex within a graph. Vertices that occur on many shortest paths between other vertices have higher betweenness than those that do not.\n",
    "* *Who are the messages going through?*\n",
    "* *Who will you shoot first during a zombie attack?*\n",
    "* *How many pairs of individuals would have to go through youin orer to reach one another in the minimum number of hops*\n",
    "\n",
    "*Eigenvector Centrality*\n",
    "* The importance of a node in a network.\n",
    "* How frequently would you find a guy (random walker) sitting on your network.\n",
    "* i.e.: Google's page rank.\n",
    "\n",
    "### Clustering\n",
    "For every node, clustering is in a color-scale. Only two or three friends.\n",
    "* High degree, high clustering\n",
    "* Low degree, low clustering\n",
    "\n",
    "Plot degree against clustering to see the correlation.\n",
    "\n",
    "### Mixing patterns\n",
    "In networks, there's a thing we call *homopholy*:\n",
    "\n",
    "*Assortative* - *\"lige børn leger bedst\"*\n",
    "* Guys that are similar, like guys like themselves. \n",
    "* The diagonal of the pattern carries the most weight.\n",
    "\n",
    "*Disassortative*\n",
    "* Nodes of high degree connected to nodes of low degrees. \n",
    "* Like a high capacity router connect low degree nodes.\n",
    "\n",
    "Can be calculated with the *Pierson formula* - already in networkx"
   ]
  },
  {
   "cell_type": "code",
   "execution_count": null,
   "metadata": {
    "collapsed": true
   },
   "outputs": [],
   "source": []
  },
  {
   "cell_type": "markdown",
   "metadata": {},
   "source": [
    "## Exercises - Structure of the philosopher network"
   ]
  },
  {
   "cell_type": "markdown",
   "metadata": {},
   "source": [
    "[Documentation](https://networkx.github.io/documentation/networkx-1.10/reference/algorithms.component.html) for using the weakly connected component in the directed graph"
   ]
  },
  {
   "cell_type": "markdown",
   "metadata": {},
   "source": [
    "### Converting the directed graph to an undirected one\n",
    "*Keep a version of the directed graph for some of the exercises!*"
   ]
  },
  {
   "cell_type": "code",
   "execution_count": 6,
   "metadata": {
    "collapsed": true
   },
   "outputs": [],
   "source": [
    "# Import relevant libraries and initialize network\n",
    "import networkx as nx\n",
    "import cPickle as pickle\n",
    "%matplotlib inline"
   ]
  },
  {
   "cell_type": "code",
   "execution_count": 7,
   "metadata": {
    "collapsed": true
   },
   "outputs": [],
   "source": [
    "# Reading the philosophers into directed graph \n",
    "data=nx.read_gpickle('phil_test.pkl')\n",
    "phil_graph = nx.DiGraph(data) "
   ]
  },
  {
   "cell_type": "code",
   "execution_count": 8,
   "metadata": {
    "collapsed": false
   },
   "outputs": [],
   "source": [
    "# Creating a directed graph from the directed version\n",
    "phil_graph_undirected = phil_graph.to_undirected()"
   ]
  },
  {
   "cell_type": "markdown",
   "metadata": {},
   "source": [
    "### 5 most central philosophers, according to *betweenness centrality*\n",
    "Documentation [here](https://networkx.github.io/documentation/networkx-1.10/reference/generated/networkx.algorithms.centrality.betweenness_centrality.html)"
   ]
  },
  {
   "cell_type": "code",
   "execution_count": 9,
   "metadata": {
    "collapsed": false
   },
   "outputs": [
    {
     "data": {
      "text/plain": [
       "[('Aristotle', 0.07839437547336882),\n",
       " ('Immanuel Kant', 0.07699789600352631),\n",
       " ('Bertrand Russell', 0.06605231254959765),\n",
       " ('Plato', 0.05063149225770689),\n",
       " ('David Hume', 0.043710050204794564)]"
      ]
     },
     "execution_count": 9,
     "metadata": {},
     "output_type": "execute_result"
    }
   ],
   "source": [
    "import operator\n",
    "# Finding betweenness centrality for all nodes\n",
    "betweenDict = nx.betweenness_centrality(phil_graph_undirected)\n",
    "\n",
    "# Picking out the 5 highest values of betweenness centrality from the dictionary\n",
    "sorted(betweenDict.iteritems(), key=operator.itemgetter(1), reverse=True)[:5]"
   ]
  },
  {
   "cell_type": "markdown",
   "metadata": {},
   "source": [
    "####  QUESTION: \n",
    "*What role do you imagine philosophers with high wikipedia graph betweenness centrality play in the history of philosophy?*\n",
    "\n"
   ]
  },
  {
   "cell_type": "markdown",
   "metadata": {},
   "source": [
    "For the philosophers to be central, I believe that they are all relatively old (historically). This way it is possible for the philosophers to have been cited/seen as an inspiration for many years.\n",
    "\n",
    "Further more they might be central in their field, which means that the different philosophers are some of the most important in different fields.\n",
    "\n",
    "Otherwise they might be relevant to the modern world and might therefore have a higher number of links since the wolrd is getting more and more connected.\n"
   ]
  },
  {
   "cell_type": "markdown",
   "metadata": {},
   "source": [
    "### 5 most central philosophers according to *eigenvector centrality*\n",
    "* For both in and out-degree\n",
    "* Documentation [here](https://networkx.github.io/documentation/networkx-1.10/reference/generated/networkx.algorithms.centrality.eigenvector_centrality.html)"
   ]
  },
  {
   "cell_type": "code",
   "execution_count": 10,
   "metadata": {
    "collapsed": false
   },
   "outputs": [
    {
     "data": {
      "text/plain": [
       "[('Immanuel Kant', 0.2635982491051754),\n",
       " ('Aristotle', 0.23076966455831144),\n",
       " ('Plato', 0.18901183599133944),\n",
       " ('Bertrand Russell', 0.1880333733012837),\n",
       " ('Georg Wilhelm Friedrich Hegel', 0.18379887327809108)]"
      ]
     },
     "execution_count": 10,
     "metadata": {},
     "output_type": "execute_result"
    }
   ],
   "source": [
    "# Finding the eigenvector centrality\n",
    "eigenDict = nx.eigenvector_centrality(phil_graph_undirected)\n",
    "\n",
    "# Picking out the 5 highest values of eigenvector centrality for the dict\n",
    "sorted(eigenDict.iteritems(), key=operator.itemgetter(1), reverse=True)[:5]"
   ]
  },
  {
   "cell_type": "markdown",
   "metadata": {},
   "source": [
    "#### QUESTION\n",
    "* How is eigenvector centrality difference from degree centrality?\n",
    "\n",
    "Degree centrality looks at how connected you are, eigenvector centrality accounts for how important you are to the entire network -- how many nodes are somehow connected by you, not only a quantitative evaluation.\n",
    "\n",
    "\n",
    "* Compare your results for eigenvector centrality to the results for betweenness centrality - does the difference make sense when you read the philosopher's wikipedia pages?\n",
    "\n",
    "Yes, Aristotle was mentioned in all the different core areas of the philosophers, Kant and Plato are both huge within their fields. Common for all philosophers are, that they are a huge inspiration to all their fields.   \n"
   ]
  },
  {
   "cell_type": "markdown",
   "metadata": {},
   "source": [
    "### Is the undirected version of the graph assortative with respect do degree? \n",
    "(e.g. do high-degree philosophers tend to link to other high-degree philosophers, and low-degree philosophers to other low-degree philosophers?). \n",
    "\n",
    "Documentaton [here](https://networkx.github.io/documentation/development/_downloads/networkx_reference.pdf)\n",
    "\n",
    "* Provide an interpretation of your answer"
   ]
  },
  {
   "cell_type": "code",
   "execution_count": 11,
   "metadata": {
    "collapsed": false
   },
   "outputs": [
    {
     "name": "stdout",
     "output_type": "stream",
     "text": [
      "Assortativity coefficient: -0.0714504881172\n"
     ]
    }
   ],
   "source": [
    "# Find the assortativity coefficient\n",
    "print \"Assortativity coefficient:\", nx.degree_assortativity_coefficient(phil_graph_undirected)\n"
   ]
  },
  {
   "cell_type": "markdown",
   "metadata": {},
   "source": [
    "Since the coeffient is negative, the graph is not **unassortative**. This has to do with the fact that the graph is now directed. The centrality of the graph is therefore off. "
   ]
  },
  {
   "cell_type": "markdown",
   "metadata": {},
   "source": [
    "## Exercises - Age an structure in the philosopher network\n",
    "\n",
    "Documentation on [subgraphs](https://networkx.github.io/documentation/networkx-1.10/reference/generated/networkx.Graph.subgraph.html)"
   ]
  },
  {
   "cell_type": "code",
   "execution_count": 51,
   "metadata": {
    "collapsed": false
   },
   "outputs": [
    {
     "name": "stdout",
     "output_type": "stream",
     "text": [
      "<type 'dict'>\n"
     ]
    },
    {
     "ename": "TypeError",
     "evalue": "Input is not known type.",
     "output_type": "error",
     "traceback": [
      "\u001b[1;31m---------------------------------------------------------------------------\u001b[0m",
      "\u001b[1;31mTypeError\u001b[0m                                 Traceback (most recent call last)",
      "\u001b[1;32m<ipython-input-51-109b4ed9abb2>\u001b[0m in \u001b[0;36m<module>\u001b[1;34m()\u001b[0m\n\u001b[0;32m      9\u001b[0m \u001b[0mage_graph\u001b[0m \u001b[1;33m=\u001b[0m \u001b[0mjson\u001b[0m\u001b[1;33m.\u001b[0m\u001b[0mloads\u001b[0m\u001b[1;33m(\u001b[0m\u001b[0mjson_dict\u001b[0m\u001b[1;33m)\u001b[0m\u001b[1;33m\u001b[0m\u001b[0m\n\u001b[0;32m     10\u001b[0m \u001b[1;32mprint\u001b[0m \u001b[0mtype\u001b[0m\u001b[1;33m(\u001b[0m\u001b[0mage_graph\u001b[0m\u001b[1;33m)\u001b[0m\u001b[1;33m\u001b[0m\u001b[0m\n\u001b[1;32m---> 11\u001b[1;33m \u001b[0mphil_ages\u001b[0m \u001b[1;33m=\u001b[0m \u001b[0mnx\u001b[0m\u001b[1;33m.\u001b[0m\u001b[0mGraph\u001b[0m\u001b[1;33m(\u001b[0m\u001b[0mage_graph\u001b[0m\u001b[1;33m)\u001b[0m\u001b[1;33m\u001b[0m\u001b[0m\n\u001b[0m\u001b[0;32m     12\u001b[0m \u001b[1;33m\u001b[0m\u001b[0m\n\u001b[0;32m     13\u001b[0m \u001b[0mnx\u001b[0m\u001b[1;33m.\u001b[0m\u001b[0mdraw_spring\u001b[0m\u001b[1;33m(\u001b[0m\u001b[0mphil_ages\u001b[0m\u001b[1;33m.\u001b[0m\u001b[0msubgraph\u001b[0m\u001b[1;33m(\u001b[0m\u001b[0mphil_graph_undirected\u001b[0m\u001b[1;33m)\u001b[0m\u001b[1;33m,\u001b[0m\u001b[0mnode_size\u001b[0m\u001b[1;33m=\u001b[0m\u001b[1;36m20\u001b[0m\u001b[1;33m,\u001b[0m\u001b[0mnode_color\u001b[0m\u001b[1;33m=\u001b[0m\u001b[1;34m'#B23AEE'\u001b[0m\u001b[1;33m,\u001b[0m\u001b[0mscale\u001b[0m\u001b[1;33m=\u001b[0m\u001b[1;36m2\u001b[0m\u001b[1;33m)\u001b[0m\u001b[1;33m\u001b[0m\u001b[0m\n",
      "\u001b[1;32mC:\\Users\\frksteenhoff\\Anaconda2\\lib\\site-packages\\networkx\\classes\\graph.pyc\u001b[0m in \u001b[0;36m__init__\u001b[1;34m(self, data, **attr)\u001b[0m\n\u001b[0;32m    299\u001b[0m         \u001b[1;31m# attempt to load graph with data\u001b[0m\u001b[1;33m\u001b[0m\u001b[1;33m\u001b[0m\u001b[0m\n\u001b[0;32m    300\u001b[0m         \u001b[1;32mif\u001b[0m \u001b[0mdata\u001b[0m \u001b[1;32mis\u001b[0m \u001b[1;32mnot\u001b[0m \u001b[0mNone\u001b[0m\u001b[1;33m:\u001b[0m\u001b[1;33m\u001b[0m\u001b[0m\n\u001b[1;32m--> 301\u001b[1;33m             \u001b[0mconvert\u001b[0m\u001b[1;33m.\u001b[0m\u001b[0mto_networkx_graph\u001b[0m\u001b[1;33m(\u001b[0m\u001b[0mdata\u001b[0m\u001b[1;33m,\u001b[0m \u001b[0mcreate_using\u001b[0m\u001b[1;33m=\u001b[0m\u001b[0mself\u001b[0m\u001b[1;33m)\u001b[0m\u001b[1;33m\u001b[0m\u001b[0m\n\u001b[0m\u001b[0;32m    302\u001b[0m         \u001b[1;31m# load graph attributes (must be after convert)\u001b[0m\u001b[1;33m\u001b[0m\u001b[1;33m\u001b[0m\u001b[0m\n\u001b[0;32m    303\u001b[0m         \u001b[0mself\u001b[0m\u001b[1;33m.\u001b[0m\u001b[0mgraph\u001b[0m\u001b[1;33m.\u001b[0m\u001b[0mupdate\u001b[0m\u001b[1;33m(\u001b[0m\u001b[0mattr\u001b[0m\u001b[1;33m)\u001b[0m\u001b[1;33m\u001b[0m\u001b[0m\n",
      "\u001b[1;32mC:\\Users\\frksteenhoff\\Anaconda2\\lib\\site-packages\\networkx\\convert.pyc\u001b[0m in \u001b[0;36mto_networkx_graph\u001b[1;34m(data, create_using, multigraph_input)\u001b[0m\n\u001b[0;32m    114\u001b[0m                 \u001b[1;32mreturn\u001b[0m \u001b[0mfrom_dict_of_lists\u001b[0m\u001b[1;33m(\u001b[0m\u001b[0mdata\u001b[0m\u001b[1;33m,\u001b[0m\u001b[0mcreate_using\u001b[0m\u001b[1;33m=\u001b[0m\u001b[0mcreate_using\u001b[0m\u001b[1;33m)\u001b[0m\u001b[1;33m\u001b[0m\u001b[0m\n\u001b[0;32m    115\u001b[0m             \u001b[1;32mexcept\u001b[0m\u001b[1;33m:\u001b[0m\u001b[1;33m\u001b[0m\u001b[0m\n\u001b[1;32m--> 116\u001b[1;33m                 \u001b[1;32mraise\u001b[0m \u001b[0mTypeError\u001b[0m\u001b[1;33m(\u001b[0m\u001b[1;34m\"Input is not known type.\"\u001b[0m\u001b[1;33m)\u001b[0m\u001b[1;33m\u001b[0m\u001b[0m\n\u001b[0m\u001b[0;32m    117\u001b[0m \u001b[1;33m\u001b[0m\u001b[0m\n\u001b[0;32m    118\u001b[0m     \u001b[1;31m# list or generator of edges\u001b[0m\u001b[1;33m\u001b[0m\u001b[1;33m\u001b[0m\u001b[0m\n",
      "\u001b[1;31mTypeError\u001b[0m: Input is not known type."
     ]
    }
   ],
   "source": [
    "import urllib2\n",
    "import networkx as nx\n",
    "import json \n",
    "\n",
    "\n",
    "response = urllib2.urlopen('https://dl.dropboxusercontent.com/u/153071/02805/philosopher_birth_year.json')\n",
    "# Getting the nodes of ages into graph\n",
    "json_dict = response.read()\n",
    "age_graph = json.loads(json_dict) \n",
    "phil_ages = nx.Graph(age_graph)\n",
    "\n",
    "nx.draw_spring(phil_ages.subgraph(phil_graph_undirected),node_size=20,node_color='#B23AEE',scale=2)\n",
    "plt.title(\"The new philosophers graph\")\n",
    "plt.show()\n",
    "\n"
   ]
  },
  {
   "cell_type": "code",
   "execution_count": 42,
   "metadata": {
    "collapsed": false
   },
   "outputs": [
    {
     "name": "stdout",
     "output_type": "stream",
     "text": [
      "[]\n"
     ]
    },
    {
     "data": {
      "text/plain": [
       "<matplotlib.text.Text at 0xc202128>"
      ]
     },
     "execution_count": 42,
     "metadata": {},
     "output_type": "execute_result"
    },
    {
     "data": {
      "image/png": "[encoded data removed]",
      "text/plain": [
       "<matplotlib.figure.Figure at 0xa200b00>"
      ]
     },
     "metadata": {},
     "output_type": "display_data"
    }
   ],
   "source": [
    "import matplotlib.pyplot as plt\n",
    "%matplotlib inline\n",
    "import numpy as np\n",
    "\n",
    "# The histogram of philosophers born in different centuries (500 year bins)\n",
    "# Making flat list of graph sub\n",
    "for nodes in sub:\n",
    "    # Making flat list with list comprehension\n",
    "    num_list = sub.edges()\n",
    "    flat_list = [num for elem in num_list for num in elem]\n",
    "\n",
    "print flat_list\n",
    "plt.hist(flat_list, bins=500)\n",
    "\n",
    "\n",
    "# For readability\n",
    "plt.grid(True)\n",
    "plt.title(\"Philosopher ages, 500 year bins\")\n",
    "plt.xlabel(\"Year range\")\n",
    "plt.ylabel(\"Frequency\")"
   ]
  },
  {
   "cell_type": "code",
   "execution_count": null,
   "metadata": {
    "collapsed": true
   },
   "outputs": [],
   "source": []
  }
 ],
 "metadata": {
  "anaconda-cloud": {},
  "kernelspec": {
   "display_name": "Python [Root]",
   "language": "python",
   "name": "Python [Root]"
  },
  "language_info": {
   "codemirror_mode": {
    "name": "ipython",
    "version": 2
   },
   "file_extension": ".py",
   "mimetype": "text/x-python",
   "name": "python",
   "nbconvert_exporter": "python",
   "pygments_lexer": "ipython2",
   "version": "2.7.12"
  }
 },
 "nbformat": 4,
 "nbformat_minor": 0
}
