{
 "cells": [
  {
   "cell_type": "markdown",
   "metadata": {},
   "source": [
    "# Week 2 \n",
    "## Exercises \n",
    "### Chapter 1"
   ]
  },
  {
   "cell_type": "markdown",
   "metadata": {},
   "source": [
    "#### List three different real networks and state the nodes and links for each of them.\n",
    " * Social networks, professional networks etc. \n",
    "   * People as nodes their aquaintances as links\n",
    " * Power grids\n",
    "   * Power sources as nodes, their transmission lines as links\n",
    " * The internet\n",
    "   * Pages as nodes, Uniform Resource Locator (URL's) as links\n",
    " * Network of airlines\n",
    "   * Airport as nodes, routes between the destinations as links\n"
   ]
  },
  {
   "cell_type": "markdown",
   "metadata": {},
   "source": [
    "#### Tell us of the network you are personally most interested in. Address the following questions:\n",
    "**The internet**\n",
    "\n",
    "How different pages are linked, referenced and which of these that are the most used. Being able to work with figuring out/analyse why some pages are more \"attractive\" than others, what is the content of these pages, how often are they visited what are the pages used for -- are there any common denominators? \n",
    "\n",
    "**Professional networks**\n",
    "\n",
    "Furthermore I really liked the part in the chapter describing how professional networks in a workplace since it gives really valueable insight into the relations between the co-workers and how they interact. It gives a possibility to learn from the most influential co-workers in order to communicate better on an overall basis.\n",
    "\n",
    "**Bonus**\n",
    "\n",
    "I think networks are really exciting!\n",
    "Also neural networks and machine learning, teaching the computer how to interpret a network.\n",
    "\n",
    "** Oh! and I forgot **\n",
    "\n",
    "I am really into transportation networks i.e. \"Rejseplanen\" this is more from an algorithmic point of view but also since one have to work with a directed graph with weights which makes it a tad more complex. "
   ]
  },
  {
   "cell_type": "markdown",
   "metadata": {},
   "source": [
    "#### What are its nodes and links?\n",
    "*I will only discuss this for the internet.*\n",
    "\n",
    "As described in prevous question.\n",
    "#### How large is it?\n",
    "Really big -- as of September 2014, there were 1 billion websites on the Internet, [LiveScience](http://www.livescience.com/54094-how-big-is-the-internet.html) \n",
    "#### Can be mapped out?\n",
    "Yes, [the internet map](http://internet-map.net/) describes and illustrates it pretty thorough. It's interactive too, it's awesome!\n",
    "#### Why do you care about it?\n",
    "I was fasscinated by the OPTE project on my 2nd semester were we briefly touched the subject in an introductory algorithms course. I care about it because the internet is a vital part of everyone's lives. It connects people across borders and helps in making everything easier: access to information (sharing knowledge), communication, collaboration. Of course what you are using the internet for varies but I really like how it wipe out some of the otherwise largest borders between people. Since everyone can contribute to it it makes the possibilites nearly unlimited and this way everyone can be a part of something a lot bigger. This of course is also one of the reasons why the internet is so big. And that is what I want to look into in mroe detail!\n",
    "\n",
    "#### In your view what would be the area where network science could have the biggest impact in the next decade? \n",
    "*Explain your answer - and base it on the text in the book.*\n",
    "\n",
    "In relation to neural science and neural networks. It would be a really big step for all things touched by biology and medicine to be able to map everything that goes on in the brain.\n",
    "_____________________________________________________________________________________________________________\n"
   ]
  },
  {
   "cell_type": "markdown",
   "metadata": {},
   "source": [
    "### Chapter 2\n",
    "\n",
    "#### Section 2.5 states that real networks are sparse. Can you think of a real network where each node has many connections? Is that network still sparse? If yes, can you explain why?\n",
    "Since a sparse network is a network with less number of links than the maximum possible number of links within the same network [[wiki]](https://en.wikipedia.org/wiki/Sparse_network) yes, most networks are sparse. The fact that some nodes in a network has a lot of links does not make the entire network complete. A complete network means that all nodes has connections to each other (as described in the book sec 2.5). Since the world is so big it would be impossible for everyone to know one another. \n",
    "\n",
    "Of course this still gives room to having a lot of links to each node. An example could be Facebook. Now, \"many connections\" is relative, and there is a difference in having, say 50 friends, and 4.000 friends, but this is still more than none.\n",
    "____________________________________________________________________________________________________________________"
   ]
  },
  {
   "cell_type": "markdown",
   "metadata": {},
   "source": [
    "## .:: NetworkX ::."
   ]
  },
  {
   "cell_type": "markdown",
   "metadata": {},
   "source": [
    "#### Go to the NetworkX project's [tutorial](http://networkx.readthedocs.org/en/stable/tutorial/) page. \n",
    "*The goal of this exercise is to create your own notebook that contains the entire tutorial. You're free to add your own (e.g. shorter) comments in place of the ones in the official tutorial - and change the code to make it your own where ever it makes sense. \n",
    "There is an error in the tutorial about accessing edges. Can you find it, and solve the problem?*"
   ]
  },
  {
   "cell_type": "markdown",
   "metadata": {},
   "source": [
    "### Creating a graph"
   ]
  },
  {
   "cell_type": "code",
   "execution_count": 2,
   "metadata": {
    "collapsed": true
   },
   "outputs": [],
   "source": [
    "import networkx as nx\n",
    "G=nx.Graph()          # initialize a graph"
   ]
  },
  {
   "cell_type": "markdown",
   "metadata": {},
   "source": [
    "#### Nodes"
   ]
  },
  {
   "cell_type": "code",
   "execution_count": 14,
   "metadata": {
    "collapsed": false
   },
   "outputs": [],
   "source": [
    "G.add_node(1)       # adds a single node\n",
    "G.add_nodes_from([\"hi\",\"these\",\"are\",\"nodes\"])\n",
    "H=nx.path_graph(10) # New graph H with nodes 0-9\n",
    "G.add_nodes_from(H) # nodes from H added to G\n",
    "G.add_node(H)      # now making G a graph with nested graph H"
   ]
  },
  {
   "cell_type": "markdown",
   "metadata": {},
   "source": [
    "### Edges"
   ]
  },
  {
   "cell_type": "code",
   "execution_count": 15,
   "metadata": {
    "collapsed": false
   },
   "outputs": [],
   "source": [
    "G.add_edge(1,2)\n",
    "e=(2,3)         # edge tuple\n",
    "G.add_edge(*e)  # edge tuple -- unpack and add\n",
    "G.add_edges_from(H.edges())\n",
    "\n",
    "# DEMOLISHING GRAPH\n",
    "# G.remove_nodes_from()\n",
    "# G.remove_edge()\n",
    "# G.remove_edges_from() # etc..\n",
    "G.remove_node(H)\n",
    "\n",
    "# REMOVING EVERYTHING FROM GRAPH\n",
    "G.clear()\n",
    "\n",
    "# Adding nodes -- no problems when nodes already in graph\n",
    "G.add_edges_from([(1,2),(1,3)])\n",
    "G.add_node(1)\n",
    "G.add_edge(1,2)\n",
    "G.add_node(\"spam\")       # adds one node \"spam\"\n",
    "G.add_nodes_from(\"spam\") # adds a node for each char in string spam (s,p,a,m)"
   ]
  },
  {
   "cell_type": "code",
   "execution_count": 19,
   "metadata": {
    "collapsed": false
   },
   "outputs": [
    {
     "data": {
      "text/plain": [
       "2"
      ]
     },
     "execution_count": 19,
     "metadata": {},
     "output_type": "execute_result"
    }
   ],
   "source": [
    "# Get graph information:\n",
    "## Number of nodes\n",
    "G.number_of_nodes()\n",
    "\n",
    "## Number of edges\n",
    "G.number_of_edges()"
   ]
  },
  {
   "cell_type": "code",
   "execution_count": 20,
   "metadata": {
    "collapsed": false
   },
   "outputs": [
    {
     "data": {
      "text/plain": [
       "['a', 1, 2, 3, 'spam', 'm', 'p', 's']"
      ]
     },
     "execution_count": 20,
     "metadata": {},
     "output_type": "execute_result"
    }
   ],
   "source": [
    "# Getting all nodes\n",
    "G.nodes()"
   ]
  },
  {
   "cell_type": "code",
   "execution_count": 21,
   "metadata": {
    "collapsed": false
   },
   "outputs": [
    {
     "data": {
      "text/plain": [
       "[(1, 2), (1, 3)]"
      ]
     },
     "execution_count": 21,
     "metadata": {},
     "output_type": "execute_result"
    }
   ],
   "source": [
    "# Getting all edges \n",
    "G.edges()"
   ]
  },
  {
   "cell_type": "code",
   "execution_count": 23,
   "metadata": {
    "collapsed": false
   },
   "outputs": [
    {
     "data": {
      "text/plain": [
       "[2, 3]"
      ]
     },
     "execution_count": 23,
     "metadata": {},
     "output_type": "execute_result"
    }
   ],
   "source": [
    "# Looking at neighbors \n",
    "# -- remember to state the node you want to look at as parameter!\n",
    "G.neighbors(1)"
   ]
  },
  {
   "cell_type": "code",
   "execution_count": 24,
   "metadata": {
    "collapsed": false
   },
   "outputs": [
    {
     "data": {
      "text/plain": [
       "['a', 1, 2, 3, 'm', 'p', 's']"
      ]
     },
     "execution_count": 24,
     "metadata": {},
     "output_type": "execute_result"
    }
   ],
   "source": [
    "# Removing nodes and edges:\n",
    "G.remove_node(\"spam\")  # using remove_nodes_from(\"spam\") removes the characters\n",
    "G.nodes()\n",
    "# G.remove_edge(1,3)"
   ]
  },
  {
   "cell_type": "markdown",
   "metadata": {},
   "source": [
    "### What to use as nodes an edges"
   ]
  },
  {
   "cell_type": "code",
   "execution_count": null,
   "metadata": {
    "collapsed": true
   },
   "outputs": [],
   "source": [
    "# Remember that all nodes can be converted into integer values for \n",
    "# a more meaningful graph\n",
    "# convert_node_labels_to_integers()"
   ]
  },
  {
   "cell_type": "markdown",
   "metadata": {},
   "source": [
    "#### Accessing edges"
   ]
  },
  {
   "cell_type": "code",
   "execution_count": 27,
   "metadata": {
    "collapsed": false
   },
   "outputs": [
    {
     "data": {
      "text/plain": [
       "{}"
      ]
     },
     "execution_count": 27,
     "metadata": {},
     "output_type": "execute_result"
    }
   ],
   "source": [
    "# Iterate between nodes !!!! awesome!!\n",
    "# Remember not to change the resulting dict \n",
    "# -- it might leave the graph in an inconsistent state!\n",
    "G[3]\n",
    "G[3][1]"
   ]
  },
  {
   "cell_type": "code",
   "execution_count": 32,
   "metadata": {
    "collapsed": false
   },
   "outputs": [
    {
     "data": {
      "text/plain": [
       "{'color': 'blue'}"
      ]
     },
     "execution_count": 32,
     "metadata": {},
     "output_type": "execute_result"
    }
   ],
   "source": [
    "# Setting the attributes of an edge - totally fine\n",
    "G.add_edge(1,3)\n",
    "G[1][3]['color']='blue'\n",
    "G[1][3]"
   ]
  },
  {
   "cell_type": "code",
   "execution_count": 33,
   "metadata": {
    "collapsed": false
   },
   "outputs": [
    {
     "name": "stdout",
     "output_type": "stream",
     "text": [
      "(1, 2, 0.125)\n",
      "(2, 1, 0.125)\n",
      "(3, 4, 0.375)\n",
      "(4, 3, 0.375)\n"
     ]
    }
   ],
   "source": [
    "# Adjacency iterators -- accessing edge information (weighted)\n",
    "FG=nx.Graph()\n",
    "FG.add_weighted_edges_from([(1,2,0.125),(1,3,0.75),(2,4,1.2),(3,4,0.375)])\n",
    "for n, nbrs in FG.adjacency_iter():\n",
    "    for nbr, eattr in nbrs.items():\n",
    "        data = eattr['weight']\n",
    "        if data < 0.5 : print('(%d, %d, %.3f)' % (n,nbr,data))"
   ]
  },
  {
   "cell_type": "code",
   "execution_count": 36,
   "metadata": {
    "collapsed": false
   },
   "outputs": [
    {
     "name": "stdout",
     "output_type": "stream",
     "text": [
      "(4, 3, 0.125)\n",
      "(4, 3, 0.375)\n"
     ]
    }
   ],
   "source": [
    "# Edges method - accesses all edges\n",
    "for (u, v, d) in FG.edges(data='weight'):\n",
    "    if d < 0.5: print('(%d, %d, %.3f)'%(n, nbr, d))"
   ]
  },
  {
   "cell_type": "markdown",
   "metadata": {},
   "source": [
    "### Adding attributes to graphs, nodes, and edges"
   ]
  },
  {
   "cell_type": "markdown",
   "metadata": {},
   "source": [
    "#### Graph attributes"
   ]
  },
  {
   "cell_type": "code",
   "execution_count": 38,
   "metadata": {
    "collapsed": false
   },
   "outputs": [
    {
     "data": {
      "text/plain": [
       "{'day': 'Friday'}"
      ]
     },
     "execution_count": 38,
     "metadata": {},
     "output_type": "execute_result"
    }
   ],
   "source": [
    "# Assigning graph attributes when creating new graph\n",
    "G = nx.Graph(day='Friday')\n",
    "G.graph"
   ]
  },
  {
   "cell_type": "code",
   "execution_count": 39,
   "metadata": {
    "collapsed": false
   },
   "outputs": [
    {
     "data": {
      "text/plain": [
       "{'day': 'Monday'}"
      ]
     },
     "execution_count": 39,
     "metadata": {},
     "output_type": "execute_result"
    }
   ],
   "source": [
    "# This can also be modified later\n",
    "G.graph['day']='Monday'\n",
    "G.graph"
   ]
  },
  {
   "cell_type": "markdown",
   "metadata": {},
   "source": [
    "#### Node attributes"
   ]
  },
  {
   "cell_type": "code",
   "execution_count": 43,
   "metadata": {
    "collapsed": false
   },
   "outputs": [
    {
     "data": {
      "text/plain": [
       "{'time': '2pm'}"
      ]
     },
     "execution_count": 43,
     "metadata": {},
     "output_type": "execute_result"
    }
   ],
   "source": [
    "G.add_node(1, time='5pm')\n",
    "G.add_nodes_from([3], time='2pm')\n",
    "G.node[3]"
   ]
  },
  {
   "cell_type": "code",
   "execution_count": 44,
   "metadata": {
    "collapsed": false
   },
   "outputs": [
    {
     "data": {
      "text/plain": [
       "[(1, {'room': 714, 'time': '5pm'}), (3, {'time': '2pm'})]"
      ]
     },
     "execution_count": 44,
     "metadata": {},
     "output_type": "execute_result"
    }
   ],
   "source": [
    "G.node[1]['room'] = 714\n",
    "# Showing nodes and respective data\n",
    "G.nodes(data = True)"
   ]
  },
  {
   "cell_type": "markdown",
   "metadata": {},
   "source": [
    "#### Edge attributes"
   ]
  },
  {
   "cell_type": "code",
   "execution_count": 51,
   "metadata": {
    "collapsed": false
   },
   "outputs": [
    {
     "data": {
      "text/plain": [
       "[(1, 2, {'color': 'blue', 'weight': 4}),\n",
       " (2, 3, {'weight': 8}),\n",
       " (3, 4, {'color': 'red'}),\n",
       " (4, 5, {'color': 'red'})]"
      ]
     },
     "execution_count": 51,
     "metadata": {},
     "output_type": "execute_result"
    }
   ],
   "source": [
    "G.add_edge(1,2, weight=4.7)  # giving the edge a weight of 4.7\n",
    "G.add_edges_from([(3,4),(4,5)],color='red') # two edges made red\n",
    "G.add_edges_from([(1,2,{'color':'blue'}), (2,3,{'weight':8})]) # adding color and weight to two different edges\n",
    "G[1][2]['weight'] = 4.7      # same ting as the first assignment \n",
    "G.edge[1][2]['weight'] = 4   # making the weight 4 instead of 4.7\n",
    "G.edges(data = True)         # showing the resulting edges"
   ]
  },
  {
   "cell_type": "markdown",
   "metadata": {},
   "source": [
    "#### Directed graphs"
   ]
  },
  {
   "cell_type": "code",
   "execution_count": 52,
   "metadata": {
    "collapsed": false
   },
   "outputs": [
    {
     "data": {
      "text/plain": [
       "0.5"
      ]
     },
     "execution_count": 52,
     "metadata": {},
     "output_type": "execute_result"
    }
   ],
   "source": [
    "# DiGraph class\n",
    "DG = nx.DiGraph()\n",
    "DG.add_weighted_edges_from([(1,3,0.5),(3,1,0.75)]) # weighted edges 1,3 and 3,1\n",
    "DG.out_degree(1,weight='weight') # showing the weight of edge 1"
   ]
  },
  {
   "cell_type": "code",
   "execution_count": 53,
   "metadata": {
    "collapsed": false
   },
   "outputs": [
    {
     "data": {
      "text/plain": [
       "1.25"
      ]
     },
     "execution_count": 53,
     "metadata": {},
     "output_type": "execute_result"
    }
   ],
   "source": [
    "DG.degree(1,weight='weight') # sum of both weights (1,3) and (3,1) both ways"
   ]
  },
  {
   "cell_type": "code",
   "execution_count": 54,
   "metadata": {
    "collapsed": false
   },
   "outputs": [
    {
     "data": {
      "text/plain": [
       "[3]"
      ]
     },
     "execution_count": 54,
     "metadata": {},
     "output_type": "execute_result"
    }
   ],
   "source": [
    "DG.successors(1)"
   ]
  },
  {
   "cell_type": "code",
   "execution_count": 56,
   "metadata": {
    "collapsed": false
   },
   "outputs": [
    {
     "data": {
      "text/plain": [
       "[1]"
      ]
     },
     "execution_count": 56,
     "metadata": {},
     "output_type": "execute_result"
    }
   ],
   "source": [
    "DG.neighbors(3) # number of neighbors to edge"
   ]
  },
  {
   "cell_type": "code",
   "execution_count": 59,
   "metadata": {
    "collapsed": false
   },
   "outputs": [],
   "source": [
    "# Converting graph from directed to undirected\n",
    "G.to_undirected()\n",
    "\n",
    "# otherwise\n",
    "H = nx.Graph(G) # convert to undirected"
   ]
  },
  {
   "cell_type": "markdown",
   "metadata": {},
   "source": [
    "#### Multigraphs"
   ]
  },
  {
   "cell_type": "markdown",
   "metadata": {},
   "source": [
    "Provides clases for graphs with multiple edges between any pair of nodes. *MulitGraph* or *MultiDiGraph*."
   ]
  },
  {
   "cell_type": "code",
   "execution_count": 63,
   "metadata": {
    "collapsed": false
   },
   "outputs": [
    {
     "name": "stdout",
     "output_type": "stream",
     "text": [
      "weights for the different edges:\n"
     ]
    },
    {
     "data": {
      "text/plain": [
       "{1: 1.25, 2: 1.75, 3: 0.5}"
      ]
     },
     "execution_count": 63,
     "metadata": {},
     "output_type": "execute_result"
    }
   ],
   "source": [
    "# Creating a graph with multiple edges between any pair of nodes.\n",
    "MG=nx.MultiGraph()\n",
    "MG.add_weighted_edges_from([(1,2,.5), (1,2,.75), (2,3,.5)])\n",
    "print 'weights for the different edges:'\n",
    "MG.degree(weight='weight')"
   ]
  },
  {
   "cell_type": "code",
   "execution_count": 65,
   "metadata": {
    "collapsed": false
   },
   "outputs": [
    {
     "name": "stdout",
     "output_type": "stream",
     "text": [
      "Shortest path:\n"
     ]
    },
    {
     "data": {
      "text/plain": [
       "[1, 2, 3]"
      ]
     },
     "execution_count": 65,
     "metadata": {},
     "output_type": "execute_result"
    }
   ],
   "source": [
    "GG=nx.Graph()\n",
    "for n,nbrs in MG.adjacency_iter():\n",
    "    for nbr,edict in nbrs.items():\n",
    "        minvalue=min([d['weight'] for d in edict.values()])\n",
    "        GG.add_edge(n,nbr, weight = minvalue)\n",
    "print 'Shortest path:'\n",
    "nx.shortest_path(GG,1,3)"
   ]
  },
  {
   "cell_type": "markdown",
   "metadata": {},
   "source": [
    "#### Graph generators and graph operations\n",
    "*Generating graphs instead of creating them manually*\n",
    "\n",
    "**Link to section on how to read and write graphs [here](http://networkx.readthedocs.io/en/stable/reference/readwrite.html)**\n",
    "\n",
    "**Link to graph generator information [here](http://networkx.readthedocs.io/en/stable/reference/generators.html)**\n",
    "\n",
    "\n",
    "Some smart operations to remember:\n",
    "* subgraph(G, nbunch)      - induce subgraph of G on nodes in nbunch\n",
    "* union(G1,G2)             - graph union\n",
    "* disjoint_union(G1,G2)    - graph union assuming all nodes are different\n",
    "* cartesian_product(G1,G2) - return Cartesian product graph\n",
    "* compose(G1,G2)           - combine graphs identifying nodes common to both\n",
    "* complement(G)            - graph complement\n",
    "* create_empty_copy(G)     - return an empty copy of the same graph class\n",
    "* convert_to_undirected(G) - return an undirected representation of G\n",
    "* convert_to_directed(G)   - return a directed representation of G"
   ]
  },
  {
   "cell_type": "code",
   "execution_count": 68,
   "metadata": {
    "collapsed": false
   },
   "outputs": [],
   "source": [
    "# Some classic small graphs\n",
    "petersen=nx.petersen_graph()\n",
    "tutte=nx.tutte_graph()\n",
    "maze=nx.sedgewick_maze_graph()\n",
    "tet=nx.tetrahedral_graph()"
   ]
  },
  {
   "cell_type": "code",
   "execution_count": 69,
   "metadata": {
    "collapsed": true
   },
   "outputs": [],
   "source": [
    "#Constructive generator for classic graphs\n",
    "K_5=nx.complete_graph(5)\n",
    "K_3_5=nx.complete_bipartite_graph(3,5)\n",
    "barbell=nx.barbell_graph(10,10)\n",
    "lollipop=nx.lollipop_graph(10,20)"
   ]
  },
  {
   "cell_type": "code",
   "execution_count": 74,
   "metadata": {
    "collapsed": true
   },
   "outputs": [],
   "source": [
    "# Stochastic graph generator\n",
    "er=nx.erdos_renyi_graph(100,0.15)\n",
    "ws=nx.watts_strogatz_graph(30,3,0.1)\n",
    "ba=nx.barabasi_albert_graph(100,5)\n",
    "red=nx.random_lobster(100,0.9,0.9)"
   ]
  },
  {
   "cell_type": "code",
   "execution_count": 76,
   "metadata": {
    "collapsed": false
   },
   "outputs": [],
   "source": [
    "# Reading graphs in graph formats <3\n",
    "# i.e: edge lists, adjacency lists, GML, GraphML, pickle, LEDA etc.\n",
    "nx.write_gml(red,\"gml_graph\")\n",
    "mygraph=nx.read_gml(\"gml_graph\")"
   ]
  },
  {
   "cell_type": "markdown",
   "metadata": {},
   "source": [
    "#### Analyzing graphs"
   ]
  },
  {
   "cell_type": "code",
   "execution_count": 88,
   "metadata": {
    "collapsed": true
   },
   "outputs": [],
   "source": [
    "G=nx.Graph()\n",
    "G.add_edges_from([(1,2),(1,3)])\n",
    "G.add_node(\"spam\")"
   ]
  },
  {
   "cell_type": "code",
   "execution_count": 91,
   "metadata": {
    "collapsed": false
   },
   "outputs": [
    {
     "data": {
      "text/plain": [
       "<generator object connected_components at 0x0000000006B8A750>"
      ]
     },
     "execution_count": 91,
     "metadata": {},
     "output_type": "execute_result"
    }
   ],
   "source": [
    "# Show which components that are connected\n",
    "nx.connected_components(G)\n",
    "# shows the location in memory, not really what I expected? d:"
   ]
  },
  {
   "cell_type": "code",
   "execution_count": 83,
   "metadata": {
    "collapsed": false
   },
   "outputs": [
    {
     "data": {
      "text/plain": [
       "[0, 1, 1, 2]"
      ]
     },
     "execution_count": 83,
     "metadata": {},
     "output_type": "execute_result"
    }
   ],
   "source": [
    "sorted(nx.degree(G).values())"
   ]
  },
  {
   "cell_type": "code",
   "execution_count": 84,
   "metadata": {
    "collapsed": false
   },
   "outputs": [
    {
     "data": {
      "text/plain": [
       "{1: 0.0, 2: 0.0, 3: 0.0, 'Spam': 0.0}"
      ]
     },
     "execution_count": 84,
     "metadata": {},
     "output_type": "execute_result"
    }
   ],
   "source": [
    "# computes clustering coefficient\n",
    "nx.clustering(G)"
   ]
  },
  {
   "cell_type": "code",
   "execution_count": 85,
   "metadata": {
    "collapsed": false
   },
   "outputs": [
    {
     "data": {
      "text/plain": [
       "{1: 2, 2: 1, 3: 1, 'Spam': 0}"
      ]
     },
     "execution_count": 85,
     "metadata": {},
     "output_type": "execute_result"
    }
   ],
   "source": [
    "# edges connected to node\n",
    "nx.degree(G)"
   ]
  },
  {
   "cell_type": "markdown",
   "metadata": {},
   "source": [
    "#### Drawing graphs"
   ]
  },
  {
   "cell_type": "markdown",
   "metadata": {},
   "source": [
    "NetworkX is not made for grphs, but it can be done with matplotlib and Graphviz"
   ]
  },
  {
   "cell_type": "code",
   "execution_count": 92,
   "metadata": {
    "collapsed": true
   },
   "outputs": [],
   "source": [
    "import matplotlib.pyplot as plt"
   ]
  },
  {
   "cell_type": "code",
   "execution_count": 95,
   "metadata": {
    "collapsed": true
   },
   "outputs": [],
   "source": [
    "nx.draw(G)\n",
    "plt.show()"
   ]
  },
  {
   "cell_type": "code",
   "execution_count": 96,
   "metadata": {
    "collapsed": true
   },
   "outputs": [],
   "source": [
    "nx.draw_random(G)\n",
    "plt.show()"
   ]
  },
  {
   "cell_type": "code",
   "execution_count": null,
   "metadata": {
    "collapsed": true
   },
   "outputs": [],
   "source": [
    "nx.draw(lollipop)\n",
    "plt.show()"
   ]
  },
  {
   "cell_type": "code",
   "execution_count": 107,
   "metadata": {
    "collapsed": true
   },
   "outputs": [],
   "source": [
    "nx.draw_spring(ba,node_size=40,node_color='#7FA8FF')\n",
    "plt.show()"
   ]
  },
  {
   "cell_type": "code",
   "execution_count": 105,
   "metadata": {
    "collapsed": false
   },
   "outputs": [],
   "source": [
    "# Saving files with the drawings\n",
    "nx.draw_spring(ba,node_size=40,node_color='#7FA8FF')\n",
    "plt.savefig('ba_plot')"
   ]
  },
  {
   "cell_type": "code",
   "execution_count": 103,
   "metadata": {
    "collapsed": false
   },
   "outputs": [],
   "source": [
    "# testing whether the last solution works\n",
    "#from networkx.drawing.nx_pydot import write_dot\n",
    "#nx.draw_graphviz(ba)\n",
    "# not available on system"
   ]
  },
  {
   "cell_type": "markdown",
   "metadata": {},
   "source": [
    "## Part 3: Plotting degree distributions\n",
    "*Some of the right packages has already been imported in the above examples.*\n",
    "\n",
    "For ispection later, the [igraph tutorial](http://igraph.org/python/doc/tutorial/tutorial.html)"
   ]
  },
  {
   "cell_type": "code",
   "execution_count": 149,
   "metadata": {
    "collapsed": true
   },
   "outputs": [],
   "source": [
    "import matplotlib\n",
    "import numpy as np\n",
    "import random as rnd"
   ]
  },
  {
   "cell_type": "markdown",
   "metadata": {},
   "source": [
    "#### Random numbers"
   ]
  },
  {
   "cell_type": "code",
   "execution_count": 154,
   "metadata": {
    "collapsed": false
   },
   "outputs": [],
   "source": [
    "# Binning real numbers, 5000 data points from aussian distribution\n",
    "gauss = np.random.normal(size=5000)"
   ]
  },
  {
   "cell_type": "markdown",
   "metadata": {},
   "source": [
    "#### Binning numbers into 10 bins using histogram"
   ]
  },
  {
   "cell_type": "code",
   "execution_count": 156,
   "metadata": {
    "collapsed": false
   },
   "outputs": [
    {
     "data": {
      "text/plain": [
       "<matplotlib.text.Text at 0xb1ff208>"
      ]
     },
     "execution_count": 156,
     "metadata": {},
     "output_type": "execute_result"
    },
    {
     "data": {
      "image/png": "[encoded data removed]",
      "text/plain": [
       "<matplotlib.figure.Figure at 0xc51b198>"
      ]
     },
     "metadata": {},
     "output_type": "display_data"
    }
   ],
   "source": [
    "# The Gaussian distribution\n",
    "plt.hist(gauss)\n",
    "\n",
    "# For readability.\n",
    "plt.grid(True)\n",
    "plt.title(\"Gaussian Histogram, 10 bins\")\n",
    "plt.xlabel(\"Value\")\n",
    "plt.ylabel(\"Frequency\")\n",
    "# By default 10 bins is used."
   ]
  },
  {
   "cell_type": "markdown",
   "metadata": {},
   "source": [
    "#### Why count and bin have different lengths.\n",
    "Remember to get this part explained."
   ]
  },
  {
   "cell_type": "markdown",
   "metadata": {},
   "source": [
    "### Binning integers\n",
    "[Numpy Poisson Documentation](http://docs.scipy.org/doc/numpy/reference/generated/numpy.random.poisson.html)"
   ]
  },
  {
   "cell_type": "code",
   "execution_count": 157,
   "metadata": {
    "collapsed": true
   },
   "outputs": [],
   "source": [
    "pois = np.random.poisson(size=5000)"
   ]
  },
  {
   "cell_type": "code",
   "execution_count": 161,
   "metadata": {
    "collapsed": false
   },
   "outputs": [
    {
     "data": {
      "text/plain": [
       "7"
      ]
     },
     "execution_count": 161,
     "metadata": {},
     "output_type": "execute_result"
    }
   ],
   "source": [
    "# Maximum value\n",
    "max(pois)"
   ]
  },
  {
   "cell_type": "code",
   "execution_count": 171,
   "metadata": {
    "collapsed": false
   },
   "outputs": [
    {
     "data": {
      "text/plain": [
       "array([0, 1, 2, 3, 4, 5, 6, 7])"
      ]
     },
     "execution_count": 171,
     "metadata": {},
     "output_type": "execute_result"
    }
   ],
   "source": [
    "# Minimum value\n",
    "min(pois)"
   ]
  },
  {
   "cell_type": "code",
   "execution_count": 179,
   "metadata": {
    "collapsed": false
   },
   "outputs": [
    {
     "name": "stdout",
     "output_type": "stream",
     "text": [
      "Counter({0: 1882, 1: 1863, 2: 853, 3: 321, 4: 63, 5: 15, 6: 2, 7: 1})\n"
     ]
    }
   ],
   "source": [
    "# The number of bins equals the unique values in pois:\n",
    "np.unique(pois)\n",
    "# This however is not the smartest way to do it, I import collections to do it differently:\n",
    "\n",
    "# Specifying bins in a vector\n",
    "import collections\n",
    "counter=collections.Counter(pois)"
   ]
  },
  {
   "cell_type": "markdown",
   "metadata": {},
   "source": [
    "#### Plotting the data as a bar chart"
   ]
  },
  {
   "cell_type": "code",
   "execution_count": 181,
   "metadata": {
    "collapsed": false
   },
   "outputs": [
    {
     "data": {
      "text/plain": [
       "<matplotlib.text.Text at 0xedae5f8>"
      ]
     },
     "execution_count": 181,
     "metadata": {},
     "output_type": "execute_result"
    },
    {
     "data": {
      "image/png": "[encoded data removed]",
      "text/plain": [
       "<matplotlib.figure.Figure at 0x143f9240>"
      ]
     },
     "metadata": {},
     "output_type": "display_data"
    }
   ],
   "source": [
    "# bar chart using the collected values:\n",
    "plt.bar(counter.keys(),counter.values())\n",
    "\n",
    "# For readability\n",
    "plt.grid(True)\n",
    "plt.title(\"Poisson bar chart, bins customized\")\n",
    "plt.xlabel(\"Value\")\n",
    "plt.ylabel(\"Frequency\")"
   ]
  },
  {
   "cell_type": "code",
   "execution_count": 200,
   "metadata": {
    "collapsed": false
   },
   "outputs": [
    {
     "data": {
      "text/plain": [
       "714"
      ]
     },
     "execution_count": 200,
     "metadata": {},
     "output_type": "execute_result"
    }
   ],
   "source": [
    "# Sum over bin count\n",
    "5000/7\n",
    "# Which shows the average number of values to each bin"
   ]
  },
  {
   "cell_type": "markdown",
   "metadata": {},
   "source": [
    "#### Relation of bar chart to the Poisson distribution\n",
    "\n"
   ]
  },
  {
   "cell_type": "markdown",
   "metadata": {},
   "source": [
    "Do not remember."
   ]
  },
  {
   "cell_type": "markdown",
   "metadata": {},
   "source": [
    "### Binning an plotting degree distributions\n",
    "The Erdös-Renyi network"
   ]
  },
  {
   "cell_type": "code",
   "execution_count": 191,
   "metadata": {
    "collapsed": false
   },
   "outputs": [],
   "source": [
    "# p = 10/4999\n",
    "er=nx.erdos_renyi_graph(5000,0.002)"
   ]
  },
  {
   "cell_type": "code",
   "execution_count": 194,
   "metadata": {
    "collapsed": false
   },
   "outputs": [
    {
     "data": {
      "image/png": "[encoded data removed]",
      "text/plain": [
       "<matplotlib.figure.Figure at 0x25456b00>"
      ]
     },
     "metadata": {},
     "output_type": "display_data"
    }
   ],
   "source": [
    "# Creating the graph\n",
    "nx.draw_spring(er,node_size=30,node_color='#7FA8FF')\n",
    "plt.show()"
   ]
  },
  {
   "cell_type": "code",
   "execution_count": 201,
   "metadata": {
    "collapsed": false
   },
   "outputs": [
    {
     "data": {
      "text/plain": [
       "<matplotlib.text.Text at 0x2b900128>"
      ]
     },
     "execution_count": 201,
     "metadata": {},
     "output_type": "execute_result"
    },
    {
     "data": {
      "image/png": "[encoded data removed]",
      "text/plain": [
       "<matplotlib.figure.Figure at 0x19301b38>"
      ]
     },
     "metadata": {},
     "output_type": "display_data"
    }
   ],
   "source": [
    "# Plotting the degree distribution\n",
    "degree_sequence=sorted(nx.degree(er).values(),reverse=True) # degree sequence\n",
    "#print \"Degree sequence\", degree_sequence\n",
    "degreeCount = collections.Counter(degree_sequence)\n",
    "deg, cnt = zip(*degreeCount.items())\n",
    "\n",
    "# For readability\n",
    "plt.bar(deg, cnt, width=0.80, color='b')\n",
    "plt.title(\"Degree Histogram\")\n",
    "plt.ylabel(\"Count\")\n",
    "plt.xlabel(\"Degree\")\n",
    "\n",
    "# Source: https://networkx.github.io/documentation/development/examples/drawing/degree_histogram.html"
   ]
  },
  {
   "cell_type": "markdown",
   "metadata": {},
   "source": [
    "The degree in a random network is the binominal distribution -- as you said inthe lecture on Random Networks, which is now shown!"
   ]
  },
  {
   "cell_type": "markdown",
   "metadata": {},
   "source": [
    "## Random Networks\n",
    "\n",
    "### NS Exercise 3.1"
   ]
  },
  {
   "cell_type": "markdown",
   "metadata": {},
   "source": [
    "**Erdős-Rényi Networks**\n",
    "*Consider an Erdős-Rényi network with N = 3,000 nodes, connected to each other with probability $p=10^-3 = 0,001$*\n",
    "\n",
    "* What is the expected number of links, 〈L〉?\n",
    "\n",
    "$p\\cdot L(N) = 0.001\\cdot 3000$\n",
    "\n",
    "\n",
    "* In which regime is the network?\n",
    "\n",
    "The critical point for a network:\n",
    "\n",
    "*k < 1 - subcritical regime*\n",
    "\n",
    "*k = 1 - critical point/supercritical regime*\n",
    "\n",
    "*k > 1 - connected regime*\n",
    "\n",
    "Therefore, to answer this question, we need to know the value of $k$.\n",
    "\n",
    "The network does not consist of N isolated nodes, therefore the network is **not** in the *subcritical regime*. Since it is not possible for all nodes to be connected, the network is neither within the *connected regime*. This leaves the network to be within the *supercritical regime* which also matches a lot of todays social network. \n",
    "\n",
    "\n",
    "* Calculate the probability $pc$ so that the network is at the critical point\n",
    "\n",
    "\n",
    "\n",
    "* Given the linking probability p = $10^-3$, calculate the number of nodes $Ncr$ so that the network has only one component.\n",
    "\n",
    "\n",
    "* For the network in (d), calculate the average degree $〈kcr〉$ and the average distance between two randomly chosen nodes 〈d〉.\n",
    "\n",
    "\n",
    "* Calculate the degree distribution $pk$ of this network (approximate with a Poisson degree distribution).\n",
    "\n"
   ]
  },
  {
   "cell_type": "markdown",
   "metadata": {},
   "source": [
    "### Plot a random network\n",
    "*With 200 nodes and degree 1.5*\n",
    "\n",
    "Nice overview of different types of graph generators [here](https://networkx.github.io/documentation/development/reference/generators.html)."
   ]
  },
  {
   "cell_type": "code",
   "execution_count": 13,
   "metadata": {
    "collapsed": false
   },
   "outputs": [],
   "source": [
    "import networkx as nx\n",
    "import matplotlib.pyplot as plt\n",
    "\n",
    "randG = nx.random_regular_graph(1,200)"
   ]
  },
  {
   "cell_type": "markdown",
   "metadata": {},
   "source": [
    "#### Extract the Giant Connected Component"
   ]
  },
  {
   "cell_type": "code",
   "execution_count": null,
   "metadata": {
    "collapsed": false
   },
   "outputs": [],
   "source": [
    "giant = max(nx.connected_component_subgraphs(randG), key=len)"
   ]
  },
  {
   "cell_type": "markdown",
   "metadata": {},
   "source": [
    "#### Choose a random node from the GCC"
   ]
  },
  {
   "cell_type": "code",
   "execution_count": null,
   "metadata": {
    "collapsed": true
   },
   "outputs": [],
   "source": []
  },
  {
   "cell_type": "markdown",
   "metadata": {},
   "source": [
    "#### Find all 2-nodes (2 steps away)"
   ]
  },
  {
   "cell_type": "code",
   "execution_count": null,
   "metadata": {
    "collapsed": true
   },
   "outputs": [],
   "source": []
  },
  {
   "cell_type": "markdown",
   "metadata": {},
   "source": [
    "#### Plot the GCC\n",
    "*Following attributes*\n",
    " * Starting node: black\n",
    " * Nodes two steps away: red\n",
    " * All other nodes: blue\n",
    " \n",
    "Associated reading material: [Network X Documentation](http://networkx.github.io/documentation.html)"
   ]
  },
  {
   "cell_type": "code",
   "execution_count": null,
   "metadata": {
    "collapsed": true
   },
   "outputs": [],
   "source": []
  },
  {
   "cell_type": "markdown",
   "metadata": {},
   "source": [
    "## Homework"
   ]
  },
  {
   "cell_type": "markdown",
   "metadata": {},
   "source": [
    "#### Section 2.12: Homework\n",
    "*Write the solution exercise 2.1 (the 'Königsberg Problem') from NS in your notebook.*\n"
   ]
  },
  {
   "cell_type": "code",
   "execution_count": null,
   "metadata": {
    "collapsed": true
   },
   "outputs": [],
   "source": []
  },
  {
   "cell_type": "markdown",
   "metadata": {},
   "source": [
    "#### Solve exercise 2.3 \n",
    "*'Graph representation' from NS using NetworkX in your notebook. (You don't have to solve the last sub-question about cycles of length 4 ... but I'll be impressed if you do it).*\n"
   ]
  },
  {
   "cell_type": "code",
   "execution_count": null,
   "metadata": {
    "collapsed": true
   },
   "outputs": [],
   "source": []
  },
  {
   "cell_type": "markdown",
   "metadata": {},
   "source": [
    "Solve exercise 2.5 ('Bipartite Networks') from NS using NetworkX in your notebook."
   ]
  },
  {
   "cell_type": "code",
   "execution_count": null,
   "metadata": {
    "collapsed": true
   },
   "outputs": [],
   "source": []
  }
 ],
 "metadata": {
  "anaconda-cloud": {},
  "kernelspec": {
   "display_name": "Python [Root]",
   "language": "python",
   "name": "Python [Root]"
  },
  "language_info": {
   "codemirror_mode": {
    "name": "ipython",
    "version": 2
   },
   "file_extension": ".py",
   "mimetype": "text/x-python",
   "name": "python",
   "nbconvert_exporter": "python",
   "pygments_lexer": "ipython2",
   "version": "2.7.12"
  }
 },
 "nbformat": 4,
 "nbformat_minor": 0
}
